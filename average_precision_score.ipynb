{
 "cells": [
  {
   "cell_type": "code",
   "execution_count": 1,
   "metadata": {},
   "outputs": [],
   "source": [
    "%matplotlib inline"
   ]
  },
  {
   "cell_type": "code",
   "execution_count": 49,
   "metadata": {},
   "outputs": [
    {
     "name": "stderr",
     "output_type": "stream",
     "text": [
      "usage: ipykernel_launcher.py [-h] [-g GRAPH] [-c CASCADE_PATTERN]\n",
      "                             [-n N_QUERIES] [-s SAMPLING_METHOD]\n",
      "                             [-i INF_METHOD]\n",
      "ipykernel_launcher.py: error: unrecognized arguments: -f /run/user/1000/jupyter/kernel-661fb856-cf44-4940-a696-3860c3308a3c.json\n"
     ]
    },
    {
     "ename": "SystemExit",
     "evalue": "2",
     "output_type": "error",
     "traceback": [
      "An exception has occurred, use %tb to see the full traceback.\n",
      "\u001b[0;31mSystemExit\u001b[0m\u001b[0;31m:\u001b[0m 2\n"
     ]
    },
    {
     "name": "stderr",
     "output_type": "stream",
     "text": [
      "/usr/local/lib/python3.5/dist-packages/IPython/core/interactiveshell.py:2918: UserWarning: To exit: use 'exit', 'quit', or Ctrl-D.\n",
      "  warn(\"To exit: use 'exit', 'quit', or Ctrl-D.\", stacklevel=1)\n"
     ]
    }
   ],
   "source": [
    "# coding: utf-8\n",
    "\n",
    "\n",
    "import os\n",
    "import numpy as np\n",
    "import pickle as pkl\n",
    "import argparse\n",
    "from tqdm import tqdm\n",
    "from joblib import Parallel, delayed\n",
    "from copy import copy\n",
    "from sklearn.metrics import average_precision_score\n",
    "from matplotlib import pyplot as plt\n",
    "    \n",
    "from helpers import load_cascades\n",
    "from graph_helpers import load_graph_by_name\n",
    "\n",
    "np.seterr(divide='raise', invalid='raise')\n",
    "\n",
    "\n",
    "parser = argparse.ArgumentParser(description='')\n",
    "parser.add_argument('-g', '--graph', help='graph name')\n",
    "parser.add_argument('-c', '--cascade_pattern', help='cascade pattern')\n",
    "parser.add_argument('-n', '--n_queries', type=int, help='number of queries to show')\n",
    "parser.add_argument('-s', '--sampling_method', help='')\n",
    "parser.add_argument('-i', '--inf_method', help='')\n",
    "\n",
    "args = parser.parse_args()\n",
    "\n",
    "inf_result_dirname = 'outputs/{}/{}/{}'.format(args.inf_method, args.cascade_pattern, args.sampling_method)\n",
    "query_dirname = 'outputs/queries/{}/{}'.format(args.cascade_pattern, args.sampling_method)\n",
    "\n",
    "# if n_queries is too large, e.g, 100, we might have no hidden infected nodes left and average precision score is undefined\n",
    "n_queries = args.n_queries\n",
    "\n",
    "g = load_graph_by_name(graph_name)\n",
    "\n",
    "methods = ['pagerank', 'random', 'entropy', 'prediction_error']\n"
   ]
  },
  {
   "cell_type": "code",
   "execution_count": 44,
   "metadata": {},
   "outputs": [
    {
     "name": "stderr",
     "output_type": "stream",
     "text": [
      "96it [01:06,  1.47it/s]\n"
     ]
    }
   ],
   "source": [
    "\n",
    "cascades = load_cascades('cascade/' + cascade_pattern)\n",
    "\n",
    "scores_by_method = {}\n",
    "for method in methods:\n",
    "    scores_by_method[method] = []\n",
    "\n",
    "# scores_by_method: key to [n_experiments x n_queries]\n",
    "\n",
    "c_paths = []  # track the order\n",
    "for c_path, (obs, c) in tqdm(cascades):\n",
    "    \n",
    "    obs = set(obs)\n",
    "    c_paths.append(c_path)\n",
    "    infected = (c >= 0).nonzero()[0]\n",
    "    infected_set = set(infected)\n",
    "    # print('infection size', len(infected_set))\n",
    "    # labels for nodes, 1 for infected, 0 for uninfected\n",
    "    y_true = np.zeros((len(c), ))\n",
    "    y_true[infected] = 1\n",
    "    \n",
    "    for method in methods:\n",
    "\n",
    "        cid = os.path.basename(c_path).split('.')[0]\n",
    "        inf_probas_path = os.path.join(\n",
    "            inf_result_dirname,\n",
    "            method,\n",
    "            '{}.pkl'.format(cid))\n",
    "        inf_probas_list = pkl.load(open(inf_probas_path, 'rb'))\n",
    "                \n",
    "        query_path = os.path.join(\n",
    "            query_dirname, \n",
    "            method, \n",
    "            '{}.pkl'.format(cid)\n",
    "        )\n",
    "        queries = pkl.load(open(query_path, 'rb'))[0]\n",
    "        scores = []\n",
    "        obs_inc = copy(obs)\n",
    "        for inf_probas, query, _ in zip(inf_probas_list, queries, range(n_queries)):\n",
    "            obs_inc.add(query)            \n",
    "            # need to mask out the observations\n",
    "            # use precision score\n",
    "            mask = np.array([(i not in obs_inc) for i in range(len(c))])\n",
    "            try:\n",
    "                score = average_precision_score(y_true[mask], inf_probas[mask])\n",
    "            except FloatingPointError:\n",
    "                # in this case, there is no positive data points left in y_true[mask]\n",
    "                # therefore, precision is always zero\n",
    "                \n",
    "                raise ValueError from FloatingPointError\n",
    "            scores.append(score)                \n",
    "\n",
    "        scores_by_method[method].append(scores)"
   ]
  },
  {
   "cell_type": "code",
   "execution_count": 45,
   "metadata": {},
   "outputs": [],
   "source": [
    "scores_3d = np.array([scores_by_method[m] for m in methods])"
   ]
  },
  {
   "cell_type": "code",
   "execution_count": 47,
   "metadata": {},
   "outputs": [
    {
     "data": {
      "text/plain": [
       "<matplotlib.legend.Legend at 0x7f69b6845da0>"
      ]
     },
     "execution_count": 47,
     "metadata": {},
     "output_type": "execute_result"
    },
    {
     "data": {
      "text/plain": [
       "<matplotlib.figure.Figure at 0x7f69b68f5b38>"
      ]
     },
     "metadata": {},
     "output_type": "display_data"
    },
    {
     "data": {
      "image/png": "[encoded data removed]",
      "text/plain": [
       "<matplotlib.figure.Figure at 0x7f69b464d7b8>"
      ]
     },
     "metadata": {},
     "output_type": "display_data"
    }
   ],
   "source": [
    "\n",
    "plt.clf()\n",
    "fig = plt.figure()\n",
    "for method in methods:\n",
    "    scores = np.array(scores_by_method[method], dtype=np.float32)\n",
    "    mean_scores = np.mean(scores, axis=0)\n",
    "    # print(np.std(scores,axis=0))\n",
    "    plt.plot(mean_scores)\n",
    "    plt.hold(True)\n",
    "plt.legend(methods, loc='best')\n",
    "fig.savefig('figs/average_precision_score/{}.png'.format(cascade_pattern))"
   ]
  }
 ],
 "metadata": {
  "kernelspec": {
   "display_name": "Python 3",
   "language": "python",
   "name": "python3"
  },
  "language_info": {
   "codemirror_mode": {
    "name": "ipython",
    "version": 3
   },
   "file_extension": ".py",
   "mimetype": "text/x-python",
   "name": "python",
   "nbconvert_exporter": "python",
   "pygments_lexer": "ipython3",
   "version": "3.5.2"
  }
 },
 "nbformat": 4,
 "nbformat_minor": 2
}
