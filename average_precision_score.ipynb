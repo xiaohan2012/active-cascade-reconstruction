{
 "cells": [
  {
   "cell_type": "code",
   "execution_count": 49,
   "metadata": {},
   "outputs": [],
   "source": [
    "%matplotlib inline"
   ]
  },
  {
   "cell_type": "code",
   "execution_count": 66,
   "metadata": {},
   "outputs": [],
   "source": [
    "# coding: utf-8\n",
    "\n",
    "\n",
    "import os\n",
    "import numpy as np\n",
    "import pickle as pkl\n",
    "import argparse\n",
    "from helpers import load_cascades\n",
    "from graph_helpers import load_graph_by_name\n",
    "from tqdm import tqdm\n",
    "from joblib import Parallel, delayed\n",
    "from sklearn.metrics import roc_auc_score, average_precision_score\n",
    "\n",
    "\n",
    "parser = argparse.ArgumentParser(description='')\n",
    "parser.add_argument('-g', '--graph', help='graph name')\n",
    "\n",
    "# args = parser.parse_args()\n",
    "\n",
    "# graph_name = args.graph\n",
    "graph_name = 'karate'\n",
    "\n",
    "inf_proba_dirname = 'outputs/inf_probas/{}'.format(graph_name)\n",
    "\n",
    "\n",
    "g = load_graph_by_name(graph_name)\n",
    "\n",
    "cascades = load_cascades('cascade/' + graph_name)\n",
    "\n",
    "\n",
    "methods = ['pagerank', 'random', 'entropy', 'prediction_error']\n",
    "\n",
    "\n"
   ]
  },
  {
   "cell_type": "code",
   "execution_count": 67,
   "metadata": {},
   "outputs": [
    {
     "name": "stderr",
     "output_type": "stream",
     "text": [
      "100it [00:02, 41.12it/s]\n"
     ]
    }
   ],
   "source": [
    "cascades = load_cascades('cascade/' + graph_name)\n",
    "\n",
    "scores_by_method = {}\n",
    "for method in methods:\n",
    "    scores_by_method[method] = []\n",
    "    \n",
    "for c_path, (obs, c) in tqdm(cascades):\n",
    "    infected = (c >= 0).nonzero()[0]    \n",
    "    y_true = np.zeros((len(c), ))\n",
    "    y_true[infected] = 1\n",
    "    \n",
    "    for method in methods:\n",
    "\n",
    "        cid = os.path.basename(c_path).split('.')[0]\n",
    "        inf_probas_path = os.path.join(\n",
    "            inf_proba_dirname,\n",
    "            method,\n",
    "            '{}.pkl'.format(cid))\n",
    "        inf_probas_list = pkl.load(open(inf_probas_path, 'rb'))\n",
    "\n",
    "        scores = []\n",
    "        for inf_probas in inf_probas_list:                    \n",
    "            # auc = roc_auc_score(y_true, inf_probas, average=None)\n",
    "            score = average_precision_score(y_true, inf_probas)\n",
    "            scores.append(score)\n",
    "#            y_pred = (inf_probas > 0.5).nonzero()[0]\n",
    "#            y_pred\n",
    "        scores_by_method[method].append(scores)"
   ]
  },
  {
   "cell_type": "code",
   "execution_count": 68,
   "metadata": {},
   "outputs": [
    {
     "data": {
      "text/plain": [
       "<matplotlib.legend.Legend at 0x7fc4f13d4ac8>"
      ]
     },
     "execution_count": 68,
     "metadata": {},
     "output_type": "execute_result"
    },
    {
     "data": {
      "image/png": "[encoded data removed]",
      "text/plain": [
       "<matplotlib.figure.Figure at 0x7fc4f1437240>"
      ]
     },
     "metadata": {},
     "output_type": "display_data"
    }
   ],
   "source": [
    "from matplotlib import pyplot as plt\n",
    "\n",
    "plt.clf()\n",
    "for method in methods:\n",
    "    scores = np.array(scores_by_method[method], dtype=np.float32)\n",
    "    mean_scores = np.median(scores, axis=0)\n",
    "    plt.plot(mean_scores)\n",
    "    plt.hold(True)\n",
    "plt.legend(methods, loc='lower left')    "
   ]
  }
 ],
 "metadata": {
  "kernelspec": {
   "display_name": "Python 3",
   "language": "python",
   "name": "python3"
  },
  "language_info": {
   "codemirror_mode": {
    "name": "ipython",
    "version": 3
   },
   "file_extension": ".py",
   "mimetype": "text/x-python",
   "name": "python",
   "nbconvert_exporter": "python",
   "pygments_lexer": "ipython3",
   "version": "3.5.2"
  }
 },
 "nbformat": 4,
 "nbformat_minor": 2
}
