{
 "cells": [
  {
   "cell_type": "code",
   "execution_count": 10,
   "metadata": {},
   "outputs": [],
   "source": [
    "%matplotlib inline"
   ]
  },
  {
   "cell_type": "code",
   "execution_count": 32,
   "metadata": {},
   "outputs": [],
   "source": [
    "import networkx as nx\n",
    "import numpy as np\n",
    "import random\n",
    "import pandas as pd\n",
    "from scipy.spatial.distance import cosine, cdist\n",
    "from tqdm import tqdm\n",
    "from collections import Counter\n",
    "from itertools import combinations\n",
    "from random_steiner_tree import random_steiner_tree\n",
    "from random_steiner_tree.util import from_nx, edges\n"
   ]
  },
  {
   "cell_type": "code",
   "execution_count": 3,
   "metadata": {},
   "outputs": [],
   "source": [
    "high = 1\n",
    "low = 0.0\n",
    "sampling_method = 'loop_erased'\n"
   ]
  },
  {
   "cell_type": "code",
   "execution_count": 36,
   "metadata": {},
   "outputs": [],
   "source": [
    "# g = nx.karate_club_graph()\n",
    "num_vertices= 4\n",
    "g = nx.complete_graph(num_vertices, create_using=nx.DiGraph())\n",
    "\n",
    "if False:\n",
    "    for u, v in g.edges_iter():\n",
    "        if u == 0 and v == 1:\n",
    "            g[u][v]['weight'] = 0.0\n",
    "        else:\n",
    "            g[u][v]['weight'] = 1.0\n",
    "else:            \n",
    "    for u, v in g.edges_iter():\n",
    "        g[u][v]['weight'] = (high - low) * np.random.random() + low"
   ]
  },
  {
   "cell_type": "code",
   "execution_count": 37,
   "metadata": {},
   "outputs": [
    {
     "data": {
      "image/png": "[encoded data removed]",
      "text/plain": [
       "<matplotlib.figure.Figure at 0x7fdf34be1f98>"
      ]
     },
     "metadata": {},
     "output_type": "display_data"
    }
   ],
   "source": [
    "pos = nx.spring_layout(g)\n",
    "nx.draw_networkx_nodes(g, pos=pos)\n",
    "nx.draw_networkx_labels(g, pos=pos)\n",
    "nx.draw_networkx_edges(g, pos=pos)\n",
    "edge_label = {(u, v): '{:.2f}'.format(g[u][v]['weight']) for u, v in g.edges_iter()}\n",
    "stuff = nx.draw_networkx_edge_labels(g, pos=pos, edge_labels=edge_label, alpha=0.5, label_pos=0.25)\n",
    "# nx.draw_networkx(g)"
   ]
  },
  {
   "cell_type": "code",
   "execution_count": 38,
   "metadata": {},
   "outputs": [],
   "source": [
    "gi = from_nx(g)"
   ]
  },
  {
   "cell_type": "code",
   "execution_count": 39,
   "metadata": {},
   "outputs": [],
   "source": [
    "k = 1\n",
    "X = np.random.permutation(g.number_of_nodes())[:k]\n",
    "root = random.choice(list(set(g.nodes()) - set(X)))"
   ]
  },
  {
   "cell_type": "code",
   "execution_count": 40,
   "metadata": {},
   "outputs": [
    {
     "name": "stdout",
     "output_type": "stream",
     "text": [
      "root = 2\n",
      "terminals = [1]\n",
      "0.01615082086521258\n"
     ]
    }
   ],
   "source": [
    "print('root = {}'.format(root))\n",
    "print('terminals = {}'.format(X))\n",
    "print(g[root][X[0]]['weight'])"
   ]
  },
  {
   "cell_type": "code",
   "execution_count": 41,
   "metadata": {},
   "outputs": [],
   "source": [
    "def casccade_probability(g, casdade_edges):\n",
    "    return np.product([g[u][v]['weight'] for u, v in casdade_edges])"
   ]
  },
  {
   "cell_type": "code",
   "execution_count": 42,
   "metadata": {},
   "outputs": [],
   "source": [
    "assert casccade_probability(g, [(root, X[0])]) == g[root][X[0]]['weight']\n",
    "assert casccade_probability(g, [(0, 1), (1, 2)]) == (g[0][1]['weight'] * g[1][2]['weight'])"
   ]
  },
  {
   "cell_type": "code",
   "execution_count": 43,
   "metadata": {},
   "outputs": [],
   "source": [
    "def swap_end_points(edges):\n",
    "    edges = [(v, u) for u, v in edges]  # pointing towards the root, this \n",
    "    return tuple(sorted(edges))"
   ]
  },
  {
   "cell_type": "code",
   "execution_count": 61,
   "metadata": {},
   "outputs": [],
   "source": [
    "N_SAMPLES = 100000\n",
    "def run_experiment(gi, sampling_method, N=N_SAMPLES):\n",
    "    trees = [swap_end_points(random_steiner_tree(gi, X, root, method=sampling_method))\n",
    "             for i in tqdm(range(N))]\n",
    "    tree_freq = Counter(trees)\n",
    "    return tree_freq"
   ]
  },
  {
   "cell_type": "code",
   "execution_count": 62,
   "metadata": {},
   "outputs": [
    {
     "name": "stderr",
     "output_type": "stream",
     "text": [
      "100%|██████████| 100000/100000 [00:02<00:00, 42649.62it/s]\n"
     ]
    }
   ],
   "source": [
    "tree_freq = run_experiment(gi, 'cut')"
   ]
  },
  {
   "cell_type": "code",
   "execution_count": 46,
   "metadata": {},
   "outputs": [],
   "source": [
    "possible_trees = list(tree_freq.keys())\n",
    "tree_probas = np.array([tree_freq[t] for t in possible_trees]) / N_SAMPLES"
   ]
  },
  {
   "cell_type": "code",
   "execution_count": 47,
   "metadata": {},
   "outputs": [],
   "source": [
    "cascade_probas = np.array([casccade_probability(g, t) for t in possible_trees])\n",
    "cascade_probas /= cascade_probas.sum()"
   ]
  },
  {
   "cell_type": "code",
   "execution_count": 52,
   "metadata": {},
   "outputs": [
    {
     "name": "stdout",
     "output_type": "stream",
     "text": [
      "0.1237 0.19586597287853136\n",
      "0.15457 0.12065426153306459\n",
      "0.38904 0.26219358541786275\n",
      "0.30549 0.3786547690200887\n",
      "0.0272 0.04263141115045257\n",
      "\n",
      "****without adjustment\n",
      "cosine similarity(p(T), w(T)): 0.9496472176259926\n"
     ]
    }
   ],
   "source": [
    "\n",
    "for p1, p2 in zip(tree_probas, cascade_probas):\n",
    "    print(p1, p2)\n",
    "print()\n",
    "print('****without adjustment')    \n",
    "print('cosine similarity(p(T), w(T)):', 1 - cosine(tree_probas, cascade_probas))"
   ]
  },
  {
   "cell_type": "code",
   "execution_count": 54,
   "metadata": {},
   "outputs": [],
   "source": [
    "# now, let's do the adjustment\n",
    "# 1. reverse the edge direction\n",
    "# 2. compute the tree probability\n",
    "# 3. do importance resampling"
   ]
  },
  {
   "cell_type": "code",
   "execution_count": 56,
   "metadata": {},
   "outputs": [],
   "source": [
    "# reverse the edge direction\n",
    "g_rev = g.copy()\n",
    "for u, v in g.edges_iter():\n",
    "    if u < v:\n",
    "        g_rev[u][v]['weight'], g_rev[v][u]['weight'] = g_rev[v][u]['weight'], g_rev[u][v]['weight']\n",
    "gi_rev = from_nx(g_rev)"
   ]
  },
  {
   "cell_type": "code",
   "execution_count": 60,
   "metadata": {},
   "outputs": [],
   "source": [
    "def tree_proba(g, edges):\n",
    "    numer = np.product([g[u][v]['weight'] for u, v in edges])\n",
    "    denum = np.product([g.out_degree(u, weight='weight') for u, v in edges])\n",
    "    \n",
    "    return numer / denum"
   ]
  },
  {
   "cell_type": "code",
   "execution_count": 63,
   "metadata": {},
   "outputs": [
    {
     "name": "stderr",
     "output_type": "stream",
     "text": [
      "100%|██████████| 100000/100000 [00:03<00:00, 28608.79it/s]\n"
     ]
    }
   ],
   "source": [
    "tree_freq_rev = run_experiment(gi_rev, 'cut')\n",
    "possible_trees_rev = list(tree_freq.keys())"
   ]
  },
  {
   "cell_type": "code",
   "execution_count": 80,
   "metadata": {},
   "outputs": [],
   "source": [
    "# tree_probas_rev = np.array([tree_proba(g_rev, t) for t in possible_trees_rev])\n",
    "# tree_probas_rev /= tree_probas_rev.sum()\n",
    "tree_probas_rev = np.array([tree_freq_rev[t] for t in possible_trees_rev]) / N_SAMPLES\n",
    "cascade_probas = np.array([casccade_probability(g, t) for t in possible_trees_rev])\n",
    "cascade_probas /= cascade_probas.sum()"
   ]
  },
  {
   "cell_type": "code",
   "execution_count": 83,
   "metadata": {
    "scrolled": true
   },
   "outputs": [
    {
     "name": "stdout",
     "output_type": "stream",
     "text": [
      "0.19586597287853136 0.02417\n",
      "0.12065426153306459 0.44816\n",
      "0.26219358541786275 0.04739\n",
      "0.3786547690200887 0.21998\n",
      "0.04263141115045257 0.2603\n",
      "\n",
      "****only reverse\n",
      "cosine similarity(p(T), w(T)): 0.5669258172152862\n"
     ]
    }
   ],
   "source": [
    "for p1, p2 in zip(cascade_probas, tree_probas_rev):\n",
    "    print(p1, p2)\n",
    "print()\n",
    "print('****only reverse')    \n",
    "print('cosine similarity(p(T), w(T)):', 1 - cosine(tree_probas_rev, cascade_probas))"
   ]
  },
  {
   "cell_type": "code",
   "execution_count": 87,
   "metadata": {},
   "outputs": [
    {
     "name": "stderr",
     "output_type": "stream",
     "text": [
      "100%|██████████| 100000/100000 [00:02<00:00, 36730.58it/s]\n"
     ]
    }
   ],
   "source": [
    "p_tbl = {t: casccade_probability(g, t) for t in possible_trees_rev}\n",
    "pi_tbl = {t: tree_proba(g_rev, t) for t in possible_trees_rev}\n",
    "\n",
    "trees = [swap_end_points(random_steiner_tree(gi_rev, X, root, method='cut'))\n",
    "         for i in tqdm(range(N_SAMPLES))]\n",
    "\n"
   ]
  },
  {
   "cell_type": "code",
   "execution_count": 88,
   "metadata": {},
   "outputs": [],
   "source": [
    "p_T = np.array([p_tbl[t] for t in trees])\n",
    "pi_T = np.array([pi_tbl[t] for t in trees])\n",
    "w = p_T / pi_T"
   ]
  },
  {
   "cell_type": "code",
   "execution_count": 90,
   "metadata": {},
   "outputs": [],
   "source": [
    "w /= w.sum()"
   ]
  },
  {
   "cell_type": "code",
   "execution_count": 94,
   "metadata": {},
   "outputs": [
    {
     "data": {
      "text/plain": [
       "100000"
      ]
     },
     "execution_count": 94,
     "metadata": {},
     "output_type": "execute_result"
    }
   ],
   "source": [
    "N_SAMPLES"
   ]
  },
  {
   "cell_type": "code",
   "execution_count": 96,
   "metadata": {},
   "outputs": [],
   "source": [
    "resampled_tree_idx = np.random.choice(N_SAMPLES, p=w, replace=True, size=N_SAMPLES)"
   ]
  },
  {
   "cell_type": "code",
   "execution_count": 99,
   "metadata": {},
   "outputs": [],
   "source": [
    "resampled_trees = [trees[i] for i in resampled_tree_idx]"
   ]
  },
  {
   "cell_type": "code",
   "execution_count": 102,
   "metadata": {},
   "outputs": [],
   "source": [
    "resampled_tree_feq = Counter(resampled_trees)\n",
    "resampled_tree_probas = np.array([resampled_tree_feq[t] for t in possible_trees_rev]) / N_SAMPLES"
   ]
  },
  {
   "cell_type": "code",
   "execution_count": 103,
   "metadata": {},
   "outputs": [
    {
     "name": "stdout",
     "output_type": "stream",
     "text": [
      "0.19586597287853136 0.20264\n",
      "0.12065426153306459 0.12083\n",
      "0.26219358541786275 0.24831\n",
      "0.3786547690200887 0.38527\n",
      "0.04263141115045257 0.04295\n",
      "\n",
      "****together\n",
      "cosine similarity(p(T), w(T)): 0.9994723105721162\n"
     ]
    }
   ],
   "source": [
    "for p1, p2 in zip(cascade_probas, resampled_tree_probas):\n",
    "    print(p1, p2)\n",
    "print()\n",
    "print('****together')    \n",
    "print('cosine similarity(p(T), w(T)):', 1 - cosine(resampled_tree_probas, cascade_probas))"
   ]
  }
 ],
 "metadata": {
  "kernelspec": {
   "display_name": "Python 3",
   "language": "python",
   "name": "python3"
  },
  "language_info": {
   "codemirror_mode": {
    "name": "ipython",
    "version": 3
   },
   "file_extension": ".py",
   "mimetype": "text/x-python",
   "name": "python",
   "nbconvert_exporter": "python",
   "pygments_lexer": "ipython3",
   "version": "3.5.2"
  }
 },
 "nbformat": 4,
 "nbformat_minor": 2
}
