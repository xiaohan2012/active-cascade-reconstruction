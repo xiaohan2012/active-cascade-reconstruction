{
 "cells": [
  {
   "cell_type": "code",
   "execution_count": null,
   "metadata": {},
   "outputs": [],
   "source": [
    "%matplotlib inline"
   ]
  },
  {
   "cell_type": "code",
   "execution_count": 1,
   "metadata": {},
   "outputs": [],
   "source": [
    "import networkx as nx\n",
    "import numpy as np\n",
    "import random\n",
    "import pandas as pd\n",
    "import pickle as pkl\n",
    "from scipy.spatial.distance import cosine, cdist\n",
    "from tqdm import tqdm\n",
    "from collections import Counter, OrderedDict, defaultdict\n",
    "from itertools import combinations\n",
    "from sklearn.metrics import average_precision_score\n",
    "\n",
    "from random_steiner_tree import random_steiner_tree\n",
    "from random_steiner_tree.util import from_gt\n",
    "\n",
    "from graph_helpers import load_graph_by_name, get_edge_weights, swap_end_points, extract_nodes_from_tuples\n",
    "from proba_helpers import tree_probability_gt, cascade_probability_gt, ic_cascade_probability_gt\n",
    "from helpers import cascade_source, infected_nodes, l1_dist\n",
    "from preprocess_graph import reverse_edge_weights\n",
    "from root_sampler import build_true_root_sampler\n",
    "from sample_pool import TreeSamplePool\n",
    "\n",
    "from inference import infection_probability\n",
    "from tree_stat import TreeBasedStatistics\n",
    "from graph_tool.draw import graph_draw\n",
    "from graph_tool import openmp_set_num_threads\n",
    "\n",
    "from graph_tool import GraphView\n",
    "from graph_tool.draw import sfdp_layout, graph_draw\n",
    "from viz_helpers import lattice_node_pos\n",
    "\n",
    "openmp_set_num_threads(1)"
   ]
  },
  {
   "cell_type": "code",
   "execution_count": 2,
   "metadata": {},
   "outputs": [],
   "source": [
    "graph_name = 'flixster'\n",
    "sampling_method = 'cut'\n",
    "n_samples = 100"
   ]
  },
  {
   "cell_type": "code",
   "execution_count": 3,
   "metadata": {},
   "outputs": [
    {
     "name": "stdout",
     "output_type": "stream",
     "text": [
      "load graph from data/flixster/graph_weighted.gt\n",
      "load graph from data/flixster/graph_weighted_reversed.gt\n"
     ]
    }
   ],
   "source": [
    "g = load_graph_by_name(graph_name, weighted=True)\n",
    "g_rev = load_graph_by_name(graph_name, weighted=True, suffix='_reversed')"
   ]
  },
  {
   "cell_type": "code",
   "execution_count": 4,
   "metadata": {},
   "outputs": [],
   "source": [
    "if False:\n",
    "    g_und = GraphView(g, directed=False)\n",
    "    g_und.set_directed(False)\n",
    "\n",
    "    if False:\n",
    "        if graph_name == 'lattice-1024':\n",
    "            pos = lattice_node_pos(g, shape=(32, 32))\n",
    "        else:\n",
    "            pos = sfdp_layout(g)"
   ]
  },
  {
   "cell_type": "code",
   "execution_count": 5,
   "metadata": {},
   "outputs": [],
   "source": [
    "p = get_edge_weights(g)\n",
    "p_rev = get_edge_weights(g_rev)\n",
    "if False:\n",
    "    for e in g.edges():\n",
    "        u, v = int(e.source()), int(e.target())\n",
    "        if u < v:\n",
    "            assert p[g.edge(u, v)] == p_rev[g_rev.edge(v, u)]"
   ]
  },
  {
   "cell_type": "code",
   "execution_count": 6,
   "metadata": {},
   "outputs": [],
   "source": [
    "X, c = pkl.load(open('cascade-weighted/{}-mic-s0.02-oleaves/1.pkl'.format(graph_name), 'rb'))"
   ]
  },
  {
   "cell_type": "code",
   "execution_count": 7,
   "metadata": {},
   "outputs": [],
   "source": [
    "root = cascade_source(c)\n",
    "X = list(X)"
   ]
  },
  {
   "cell_type": "code",
   "execution_count": 8,
   "metadata": {},
   "outputs": [
    {
     "name": "stdout",
     "output_type": "stream",
     "text": [
      "root = 5280\n",
      "|terminals|: 20\n",
      "cascade size: 40\n"
     ]
    }
   ],
   "source": [
    "print('root = {}'.format(root))\n",
    "print('|terminals|: {}'.format(len(X)))\n",
    "print('cascade size: {}'.format(len(infected_nodes(c))))"
   ]
  },
  {
   "cell_type": "code",
   "execution_count": 9,
   "metadata": {},
   "outputs": [],
   "source": [
    "def sampled_tree_freqs(gi, X, root, sampling_method, N):\n",
    "    print('sampling steiner trees.')\n",
    "    trees = [swap_end_points(random_steiner_tree(gi, X, root, method=sampling_method))\n",
    "             for i in tqdm(range(N), total=N)]\n",
    "    tree_freq = Counter(trees)\n",
    "    return tree_freq\n"
   ]
  },
  {
   "cell_type": "code",
   "execution_count": null,
   "metadata": {},
   "outputs": [
    {
     "name": "stderr",
     "output_type": "stream",
     "text": [
      "  3%|▎         | 13008/375926 [00:00<00:02, 130077.02it/s]"
     ]
    },
    {
     "name": "stdout",
     "output_type": "stream",
     "text": [
      "using P_new\n",
      "building g_nx\n"
     ]
    },
    {
     "name": "stderr",
     "output_type": "stream",
     "text": [
      "100%|██████████| 375926/375926 [00:03<00:00, 123990.19it/s]\n"
     ]
    },
    {
     "name": "stdout",
     "output_type": "stream",
     "text": [
      "building gi\n"
     ]
    },
    {
     "name": "stderr",
     "output_type": "stream",
     "text": [
      "  2%|▏         | 7188/375926 [00:00<00:05, 71878.18it/s]"
     ]
    },
    {
     "name": "stdout",
     "output_type": "stream",
     "text": [
      "building p_dict\n"
     ]
    },
    {
     "name": "stderr",
     "output_type": "stream",
     "text": [
      "100%|██████████| 375926/375926 [00:05<00:00, 67528.62it/s]"
     ]
    }
   ],
   "source": [
    "# def one_run(g, X, root, n_samples, sampling_method, return_samples=False):\n",
    "    \n",
    "g = g_rev  # to reverse\n",
    "use_P = False\n",
    "\n",
    "if use_P:\n",
    "    print('using P')\n",
    "    cascade_probability_function = cascade_probability_gt\n",
    "else:\n",
    "    print('using P_new')    \n",
    "    cascade_probability_function = ic_cascade_probability_gt\n",
    "\n",
    "\n",
    "print('building g_nx')\n",
    "g_nx = nx.DiGraph()\n",
    "for e in tqdm(g.edges(), total=g.num_edges()):\n",
    "    g_nx.add_edge(int(e.source()), int(e.target()))\n",
    "\n",
    "print('building gi')    \n",
    "gi = from_gt(g, get_edge_weights(g))\n",
    "\n",
    "p = get_edge_weights(g)    \n",
    "\n",
    "print('building p_dict')\n",
    "p_dict = {tuple(map(int, [e.source(), e.target()])): p[e] for e in tqdm(g.edges(), total=g.num_edges())}\n",
    "\n",
    "##########################\n",
    "# naive approach\n",
    "##########################\n",
    "tree_freq = sampled_tree_freqs(gi, X, root, sampling_method, n_samples)\n",
    "possible_trees = list(tree_freq.keys())\n",
    "\n",
    "tree_probas = np.array([tree_freq[t] for t in possible_trees]) / n_samples\n",
    "cascade_probas = np.array([cascade_probability_function(g, p_dict, t, g_nx, using_log=False) for t in possible_trees])\n",
    "# print('cascade_probas', cascade_probas)\n",
    "cascade_probas /= cascade_probas.sum()\n",
    "\n",
    "# print('cascade_probas.sum()', cascade_probas.sum())\n",
    "# print('tree_probas.sum()', tree_probas.sum())\n",
    "\n",
    "\n",
    "# evaluation\n",
    "cos_sim_only = 1 - cosine(tree_probas, cascade_probas)\n",
    "l1_dist_only = l1_dist(tree_probas, cascade_probas)\n",
    "\n",
    "del tree_probas, cascade_probas, tree_freq, possible_trees\n",
    "\n",
    "##########################\n",
    "# now we do the re-sampling\n",
    "##########################\n",
    "pool = TreeSamplePool(g, n_samples, sampling_method, \n",
    "                      gi=gi, \n",
    "                      with_resampling=True,\n",
    "                      true_casacde_proba_func=cascade_probability_function,\n",
    "                      return_type='tuples')\n",
    "\n",
    "pool.fill(X, root_sampler=build_true_root_sampler(c))\n",
    "resampled_trees = pool.samples\n",
    "trees = pool._old_samples\n",
    "\n",
    "possible_trees = list(set(trees))\n",
    "# print('num. possible_trees', len(possible_trees))\n",
    "\n",
    "resampled_tree_freq = Counter(resampled_trees)\n",
    "resampled_tree_probas = np.array([resampled_tree_freq[t] for t in possible_trees]) / n_samples\n",
    "print('num. unique resampled trees', len(resampled_tree_freq))\n",
    "print('top frequencies', list(sorted(resampled_tree_freq.values(), reverse=True))[:10])\n",
    "\n",
    "# here we calculate the probas based on g\n",
    "# because edges point towards root\n",
    "cascade_probas = np.array([cascade_probability_function(g, p_dict, t, g_nx, using_log=False) for t in possible_trees])\n",
    "cascade_probas /= cascade_probas.sum()\n",
    "\n",
    "# print('cascade_probas.sum()', cascade_probas.sum())\n",
    "# print('resampled_tree_probas.sum()', resampled_tree_probas.sum())\n",
    "\n",
    "# evaluation\n",
    "cos_sim_together = 1 - cosine(resampled_tree_probas, cascade_probas)\n",
    "l1_dist_together = l1_dist(resampled_tree_probas,\n",
    "                           cascade_probas)\n",
    "\n",
    "\n",
    "# summary\n",
    "ans = OrderedDict()\n",
    "ans['cos_sim_without_resampling'] = cos_sim_only\n",
    "ans['l1_dist_without_resampling'] = l1_dist_only\n",
    "ans['cos_sim_with_resampling'] = cos_sim_together\n",
    "ans['l1_dist_with_resampling'] = l1_dist_together\n",
    "\n",
    "# if not return_samples:\n",
    "#     return ans\n",
    "# else:\n",
    "#     return ans, trees, resampled_trees\n",
    "ans"
   ]
  },
  {
   "cell_type": "code",
   "execution_count": null,
   "metadata": {},
   "outputs": [],
   "source": [
    "top_trees_and_freq = resampled_tree_freq.most_common(10)\n",
    "for tree, freq in top_trees_and_freq:\n",
    "    print('tree size/freq', len(tree), freq)"
   ]
  },
  {
   "cell_type": "code",
   "execution_count": null,
   "metadata": {},
   "outputs": [],
   "source": [
    "w = pool._sampling_weights / pool._sampling_weights.sum()"
   ]
  },
  {
   "cell_type": "code",
   "execution_count": null,
   "metadata": {},
   "outputs": [],
   "source": [
    "t = pool._old_samples[w.argmax()]\n",
    "ns = list(extract_nodes_from_tuples(t))\n",
    "out_deg[ns].mean()"
   ]
  },
  {
   "cell_type": "code",
   "execution_count": null,
   "metadata": {},
   "outputs": [],
   "source": [
    "len(X)"
   ]
  },
  {
   "cell_type": "code",
   "execution_count": null,
   "metadata": {},
   "outputs": [],
   "source": [
    "len(infected_nodes(c))"
   ]
  },
  {
   "cell_type": "code",
   "execution_count": null,
   "metadata": {},
   "outputs": [],
   "source": [
    "outputs/"
   ]
  },
  {
   "cell_type": "code",
   "execution_count": null,
   "metadata": {},
   "outputs": [],
   "source": [
    "##########\n",
    "# for P\n",
    "##########\n",
    "s = pd.Series(list(map(len, pool.samples)))\n",
    "s.hist(bins=30)"
   ]
  },
  {
   "cell_type": "code",
   "execution_count": null,
   "metadata": {},
   "outputs": [],
   "source": [
    "out_deg = g.degree_property_map('out', weight=p).a\n",
    "pd.Series(out_deg[out_deg < 2]).hist(bins=30)"
   ]
  },
  {
   "cell_type": "code",
   "execution_count": null,
   "metadata": {},
   "outputs": [],
   "source": [
    "##########\n",
    "# for **P prime***\n",
    "##########\n",
    "trees = [swap_end_points(random_steiner_tree(gi, X, root, method=sampling_method))\n",
    "         for i in range(n_samples)]\n",
    "s = pd.Series(list(map(len, trees)))\n",
    "s.hist(bins=30)"
   ]
  },
  {
   "cell_type": "code",
   "execution_count": null,
   "metadata": {
    "scrolled": false
   },
   "outputs": [],
   "source": [
    "from viz_helpers import tree_plot_setting, visualize\n",
    "\n",
    "\n",
    "top_trees = Counter(pool.samples).most_common(3)\n",
    "\n",
    "\n",
    "for t, f in top_trees:\n",
    "    print('frequency/size', f, len(t))\n",
    "    setting = tree_plot_setting(g, c, X, t)\n",
    "    visualize(g_und, pos,\n",
    "              **setting)"
   ]
  },
  {
   "cell_type": "code",
   "execution_count": null,
   "metadata": {},
   "outputs": [],
   "source": [
    "estimator = TreeBasedStatistics(g, pool.samples)\n",
    "\n",
    "probas = infection_probability(g, X, pool, estimator)"
   ]
  },
  {
   "cell_type": "code",
   "execution_count": null,
   "metadata": {},
   "outputs": [],
   "source": [
    "from viz_helpers import InfectionProbabilityViz\n",
    "viz = InfectionProbabilityViz(g_und, pos)\n",
    "viz.plot(c, X, probas)\n"
   ]
  },
  {
   "cell_type": "code",
   "execution_count": null,
   "metadata": {},
   "outputs": [],
   "source": [
    "pd.Series(list(map(len, pool.samples))).hist"
   ]
  },
  {
   "cell_type": "code",
   "execution_count": null,
   "metadata": {},
   "outputs": [],
   "source": [
    "ans, trees, resampled_trees = one_run(g_rev, X, root, n_samples, sampling_method,\n",
    "                                      return_samples=True)"
   ]
  },
  {
   "cell_type": "code",
   "execution_count": null,
   "metadata": {},
   "outputs": [],
   "source": [
    "pd.Series(list(map(len, trees))).hist()"
   ]
  },
  {
   "cell_type": "code",
   "execution_count": null,
   "metadata": {},
   "outputs": [],
   "source": [
    "len(infected_nodes(c))"
   ]
  },
  {
   "cell_type": "code",
   "execution_count": null,
   "metadata": {},
   "outputs": [],
   "source": [
    "len(X)"
   ]
  },
  {
   "cell_type": "code",
   "execution_count": null,
   "metadata": {},
   "outputs": [],
   "source": [
    "pd.Series(list(map(len, resampled_trees))).hist()"
   ]
  },
  {
   "cell_type": "code",
   "execution_count": null,
   "metadata": {},
   "outputs": [],
   "source": [
    "ans"
   ]
  }
 ],
 "metadata": {
  "kernelspec": {
   "display_name": "Python 3",
   "language": "python",
   "name": "python3"
  },
  "language_info": {
   "codemirror_mode": {
    "name": "ipython",
    "version": 3
   },
   "file_extension": ".py",
   "mimetype": "text/x-python",
   "name": "python",
   "nbconvert_exporter": "python",
   "pygments_lexer": "ipython3",
   "version": "3.5.2"
  }
 },
 "nbformat": 4,
 "nbformat_minor": 2
}
