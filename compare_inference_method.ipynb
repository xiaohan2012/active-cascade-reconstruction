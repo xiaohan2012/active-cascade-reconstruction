{
 "cells": [
  {
   "cell_type": "code",
   "execution_count": 3,
   "metadata": {},
   "outputs": [],
   "source": [
    "%matplotlib notebook"
   ]
  },
  {
   "cell_type": "code",
   "execution_count": 1,
   "metadata": {},
   "outputs": [],
   "source": [
    "import numpy as np\n",
    "import random\n",
    "import itertools\n",
    "from graph_tool import Graph, GraphView\n",
    "from graph_tool.draw import graph_draw\n",
    "from tqdm import tqdm\n",
    "\n",
    "from matplotlib import pyplot as plt\n",
    "\n",
    "from viz_helpers import lattice_node_pos\n",
    "from minimum_steiner_tree import min_steiner_tree\n",
    "from cascade_generator import si, observe_cascade\n",
    "from eval_helpers import infection_precision_recall\n",
    "from graph_helpers import remove_filters, load_graph_by_name, gen_random_spanning_tree\n",
    "\n",
    "from inference import infer_infected_nodes\n",
    "from experiment import gen_input"
   ]
  },
  {
   "cell_type": "code",
   "execution_count": 2,
   "metadata": {},
   "outputs": [],
   "source": [
    "graph_name = 'karate'\n",
    "g = load_graph_by_name(graph_name)"
   ]
  },
  {
   "cell_type": "code",
   "execution_count": 16,
   "metadata": {},
   "outputs": [],
   "source": [
    "n_rounds = 100\n",
    "n_samples = 200\n",
    "subset_size = 50\n",
    "stop_fraction = 0.25\n",
    "obs_fraction = 0.5"
   ]
  },
  {
   "cell_type": "code",
   "execution_count": 19,
   "metadata": {},
   "outputs": [
    {
     "name": "stderr",
     "output_type": "stream",
     "text": [
      "\n",
      "  0%|          | 0/200 [00:00<?, ?it/s]\u001b[A\n",
      "  0%|          | 1/200 [00:00<01:26,  2.30it/s]\u001b[A\n",
      "  1%|          | 2/200 [00:00<01:26,  2.30it/s]\u001b[A\n",
      "  2%|▏         | 3/200 [00:01<01:20,  2.44it/s]\u001b[A\n",
      "  2%|▏         | 4/200 [00:01<01:16,  2.55it/s]\u001b[A\n",
      "  2%|▎         | 5/200 [00:01<01:14,  2.63it/s]\u001b[A\n",
      "  3%|▎         | 6/200 [00:02<01:12,  2.68it/s]\u001b[A\n",
      "  4%|▎         | 7/200 [00:02<01:10,  2.73it/s]\u001b[A\n",
      "  4%|▍         | 8/200 [00:02<01:09,  2.76it/s]\u001b[A\n",
      "  4%|▍         | 9/200 [00:03<01:08,  2.78it/s]\u001b[A\n",
      "  5%|▌         | 10/200 [00:03<01:07,  2.80it/s]\u001b[A\n",
      "  6%|▌         | 11/200 [00:04<01:07,  2.81it/s]\u001b[A\n",
      "  6%|▌         | 12/200 [00:04<01:06,  2.81it/s]\u001b[A\n",
      "  6%|▋         | 13/200 [00:04<01:05,  2.84it/s]\u001b[A\n",
      "  7%|▋         | 14/200 [00:05<01:05,  2.85it/s]\u001b[A\n",
      "  8%|▊         | 15/200 [00:05<01:04,  2.85it/s]\u001b[A\n",
      "  8%|▊         | 16/200 [00:05<01:04,  2.84it/s]\u001b[A\n",
      "  8%|▊         | 17/200 [00:06<01:04,  2.84it/s]\u001b[A\n",
      "  9%|▉         | 18/200 [00:06<01:03,  2.85it/s]\u001b[A\n",
      " 10%|▉         | 19/200 [00:06<01:03,  2.84it/s]\u001b[A\n",
      " 10%|█         | 20/200 [00:07<01:03,  2.85it/s]\u001b[A\n",
      " 10%|█         | 21/200 [00:07<01:02,  2.85it/s]\u001b[A\n",
      " 11%|█         | 22/200 [00:07<01:02,  2.86it/s]\u001b[A\n",
      " 12%|█▏        | 23/200 [00:08<01:02,  2.85it/s]\u001b[A\n",
      " 12%|█▏        | 24/200 [00:08<01:01,  2.85it/s]\u001b[A\n",
      " 12%|█▎        | 25/200 [00:08<01:01,  2.85it/s]\u001b[A\n",
      " 13%|█▎        | 26/200 [00:09<01:01,  2.83it/s]\u001b[A\n",
      " 14%|█▎        | 27/200 [00:09<01:01,  2.84it/s]\u001b[A\n",
      " 14%|█▍        | 28/200 [00:10<01:00,  2.83it/s]Exception in thread Thread-13:\n",
      "Traceback (most recent call last):\n",
      "  File \"/usr/lib/python3.5/threading.py\", line 914, in _bootstrap_inner\n",
      "    self.run()\n",
      "  File \"/usr/local/lib/python3.5/dist-packages/tqdm/_tqdm.py\", line 102, in run\n",
      "    for instance in self.tqdm_cls._instances:\n",
      "  File \"/usr/lib/python3.5/_weakrefset.py\", line 60, in __iter__\n",
      "    for itemref in self.data:\n",
      "RuntimeError: Set changed size during iteration\n",
      " 14%|█▍        | 29/200 [00:10<01:00,  2.83it/s]\n",
      "100%|██████████| 200/200 [01:10<00:00,  2.96it/s]\n"
     ]
    }
   ],
   "source": [
    "sampling_scores = []\n",
    "sp_trees = [gen_random_spanning_tree(g) for _ in range(n_samples)]\n",
    "for i in tqdm(range(n_rounds)):\n",
    "    obs, c = gen_input(g, stop_fraction=stop_fraction, q=obs_fraction)\n",
    "    preds = infer_infected_nodes(g, obs, method='sampling', sp_trees=sp_trees)\n",
    "    prec, rec = infection_precision_recall(set(preds), c, obs)\n",
    "    sampling_scores.append((prec, rec))"
   ]
  },
  {
   "cell_type": "code",
   "execution_count": 20,
   "metadata": {},
   "outputs": [
    {
     "name": "stderr",
     "output_type": "stream",
     "text": [
      "100%|██████████| 200/200 [01:07<00:00,  2.92it/s]\n"
     ]
    }
   ],
   "source": [
    "subset_sampling_scores = []\n",
    "for i in tqdm(range(n_rounds)):\n",
    "    obs, c = gen_input(g, stop_fraction=stop_fraction, q=obs_fraction)\n",
    "    preds = infer_infected_nodes(g, obs, method='sampling', sp_trees=sp_trees, subset_size=subset_size)\n",
    "    prec, rec = infection_precision_recall(set(preds), c, obs)\n",
    "    subset_sampling_scores.append((prec, rec))"
   ]
  },
  {
   "cell_type": "code",
   "execution_count": 42,
   "metadata": {},
   "outputs": [
    {
     "name": "stderr",
     "output_type": "stream",
     "text": [
      "100%|██████████| 100/100 [00:02<00:00, 38.02it/s]\n"
     ]
    }
   ],
   "source": [
    "mst_scores = []\n",
    "for i in tqdm(range(n_rounds)):\n",
    "    obs, c = gen_input(g, stop_fraction=stop_fraction, q=obs_fraction)\n",
    "    preds = infer_infected_nodes(g, obs, method='min_steiner_tree')\n",
    "    prec, rec = infection_precision_recall(set(preds), c, obs)\n",
    "    mst_scores.append((prec, rec))"
   ]
  },
  {
   "cell_type": "code",
   "execution_count": 26,
   "metadata": {},
   "outputs": [
    {
     "data": {
      "text/html": [
       "<div>\n",
       "<table border=\"1\" class=\"dataframe\">\n",
       "  <thead>\n",
       "    <tr style=\"text-align: right;\">\n",
       "      <th></th>\n",
       "      <th>prec</th>\n",
       "      <th>rec</th>\n",
       "    </tr>\n",
       "  </thead>\n",
       "  <tbody>\n",
       "    <tr>\n",
       "      <th>count</th>\n",
       "      <td>200.000000</td>\n",
       "      <td>200.000000</td>\n",
       "    </tr>\n",
       "    <tr>\n",
       "      <th>mean</th>\n",
       "      <td>0.592583</td>\n",
       "      <td>0.252190</td>\n",
       "    </tr>\n",
       "    <tr>\n",
       "      <th>std</th>\n",
       "      <td>0.358632</td>\n",
       "      <td>0.175954</td>\n",
       "    </tr>\n",
       "    <tr>\n",
       "      <th>min</th>\n",
       "      <td>0.000000</td>\n",
       "      <td>0.000000</td>\n",
       "    </tr>\n",
       "    <tr>\n",
       "      <th>25%</th>\n",
       "      <td>0.333333</td>\n",
       "      <td>0.166667</td>\n",
       "    </tr>\n",
       "    <tr>\n",
       "      <th>50%</th>\n",
       "      <td>0.666667</td>\n",
       "      <td>0.200000</td>\n",
       "    </tr>\n",
       "    <tr>\n",
       "      <th>75%</th>\n",
       "      <td>1.000000</td>\n",
       "      <td>0.400000</td>\n",
       "    </tr>\n",
       "    <tr>\n",
       "      <th>max</th>\n",
       "      <td>1.000000</td>\n",
       "      <td>0.800000</td>\n",
       "    </tr>\n",
       "  </tbody>\n",
       "</table>\n",
       "</div>"
      ],
      "text/plain": [
       "             prec         rec\n",
       "count  200.000000  200.000000\n",
       "mean     0.592583    0.252190\n",
       "std      0.358632    0.175954\n",
       "min      0.000000    0.000000\n",
       "25%      0.333333    0.166667\n",
       "50%      0.666667    0.200000\n",
       "75%      1.000000    0.400000\n",
       "max      1.000000    0.800000"
      ]
     },
     "execution_count": 26,
     "metadata": {},
     "output_type": "execute_result"
    }
   ],
   "source": [
    "import pandas as pd\n",
    "sampling_scores = np.asarray(sampling_scores)\n",
    "df = pd.DataFrame(sampling_scores, columns=['prec', 'rec'])\n",
    "df.describe()"
   ]
  },
  {
   "cell_type": "code",
   "execution_count": 27,
   "metadata": {},
   "outputs": [
    {
     "data": {
      "text/html": [
       "<div>\n",
       "<table border=\"1\" class=\"dataframe\">\n",
       "  <thead>\n",
       "    <tr style=\"text-align: right;\">\n",
       "      <th></th>\n",
       "      <th>prec</th>\n",
       "      <th>rec</th>\n",
       "    </tr>\n",
       "  </thead>\n",
       "  <tbody>\n",
       "    <tr>\n",
       "      <th>count</th>\n",
       "      <td>200.000000</td>\n",
       "      <td>200.000000</td>\n",
       "    </tr>\n",
       "    <tr>\n",
       "      <th>mean</th>\n",
       "      <td>0.623250</td>\n",
       "      <td>0.206565</td>\n",
       "    </tr>\n",
       "    <tr>\n",
       "      <th>std</th>\n",
       "      <td>0.414650</td>\n",
       "      <td>0.160966</td>\n",
       "    </tr>\n",
       "    <tr>\n",
       "      <th>min</th>\n",
       "      <td>0.000000</td>\n",
       "      <td>0.000000</td>\n",
       "    </tr>\n",
       "    <tr>\n",
       "      <th>25%</th>\n",
       "      <td>0.250000</td>\n",
       "      <td>0.107143</td>\n",
       "    </tr>\n",
       "    <tr>\n",
       "      <th>50%</th>\n",
       "      <td>0.666667</td>\n",
       "      <td>0.200000</td>\n",
       "    </tr>\n",
       "    <tr>\n",
       "      <th>75%</th>\n",
       "      <td>1.000000</td>\n",
       "      <td>0.333333</td>\n",
       "    </tr>\n",
       "    <tr>\n",
       "      <th>max</th>\n",
       "      <td>1.000000</td>\n",
       "      <td>0.800000</td>\n",
       "    </tr>\n",
       "  </tbody>\n",
       "</table>\n",
       "</div>"
      ],
      "text/plain": [
       "             prec         rec\n",
       "count  200.000000  200.000000\n",
       "mean     0.623250    0.206565\n",
       "std      0.414650    0.160966\n",
       "min      0.000000    0.000000\n",
       "25%      0.250000    0.107143\n",
       "50%      0.666667    0.200000\n",
       "75%      1.000000    0.333333\n",
       "max      1.000000    0.800000"
      ]
     },
     "execution_count": 27,
     "metadata": {},
     "output_type": "execute_result"
    }
   ],
   "source": [
    "subset_sampling_scores = np.asarray(subset_sampling_scores)\n",
    "df = pd.DataFrame(subset_sampling_scores, columns=['prec', 'rec'])\n",
    "df.describe()"
   ]
  },
  {
   "cell_type": "code",
   "execution_count": 44,
   "metadata": {},
   "outputs": [
    {
     "data": {
      "text/plain": [
       "array([ 0.09299603,  0.10905952])"
      ]
     },
     "execution_count": 44,
     "metadata": {},
     "output_type": "execute_result"
    }
   ],
   "source": [
    "mst_scores = np.asarray(mst_scores)\n",
    "mst_scores.mean(axis=0)"
   ]
  }
 ],
 "metadata": {
  "kernelspec": {
   "display_name": "Python 3",
   "language": "python",
   "name": "python3"
  },
  "language_info": {
   "codemirror_mode": {
    "name": "ipython",
    "version": 3
   },
   "file_extension": ".py",
   "mimetype": "text/x-python",
   "name": "python",
   "nbconvert_exporter": "python",
   "pygments_lexer": "ipython3",
   "version": "3.5.2"
  }
 },
 "nbformat": 4,
 "nbformat_minor": 2
}
