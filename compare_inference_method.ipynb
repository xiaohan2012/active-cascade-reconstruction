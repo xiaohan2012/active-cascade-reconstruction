{
 "cells": [
  {
   "cell_type": "code",
   "execution_count": 3,
   "metadata": {
    "collapsed": false
   },
   "outputs": [],
   "source": [
    "%matplotlib notebook"
   ]
  },
  {
   "cell_type": "code",
   "execution_count": 45,
   "metadata": {
    "collapsed": true
   },
   "outputs": [],
   "source": [
    "import numpy as np\n",
    "import random\n",
    "import itertools\n",
    "from graph_tool import Graph, GraphView\n",
    "from graph_tool.draw import graph_draw\n",
    "from tqdm import tqdm\n",
    "\n",
    "from matplotlib import pyplot as plt\n",
    "\n",
    "from viz_helpers import lattice_node_pos\n",
    "from minimum_steiner_tree import min_steiner_tree\n",
    "from cascade_generator import si, observe_cascade\n",
    "from eval_helpers import infection_precision_recall\n",
    "from graph_helpers import remove_filters, load_graph_by_name, gen_random_spanning_tree\n",
    "\n",
    "from inference import infer_infected_nodes\n",
    "from experiment import gen_input"
   ]
  },
  {
   "cell_type": "code",
   "execution_count": 39,
   "metadata": {
    "collapsed": true
   },
   "outputs": [],
   "source": [
    "graph_name = 'karate'\n",
    "g = load_graph_by_name(graph_name)"
   ]
  },
  {
   "cell_type": "code",
   "execution_count": 40,
   "metadata": {
    "collapsed": true
   },
   "outputs": [],
   "source": [
    "n_rounds = 100\n",
    "n_samples = 100\n",
    "stop_fraction = 0.25\n",
    "obs_fraction = 0.5"
   ]
  },
  {
   "cell_type": "code",
   "execution_count": 48,
   "metadata": {
    "collapsed": false
   },
   "outputs": [
    {
     "name": "stderr",
     "output_type": "stream",
     "text": [
      "100%|██████████| 100/100 [00:36<00:00,  2.77it/s]\n"
     ]
    }
   ],
   "source": [
    "sampling_scores = []\n",
    "sp_trees = [gen_random_spanning_tree(g) for _ in range(n_samples)]\n",
    "for i in tqdm(range(n_rounds)):\n",
    "    obs, c = gen_input(g, stop_fraction=stop_fraction, q=obs_fraction)\n",
    "    preds = infer_infected_nodes(g, obs, method='sampling', sp_trees=sp_trees)\n",
    "    prec, rec = infection_precision_recall(set(preds), c, obs)\n",
    "    sampling_scores.append((prec, rec))"
   ]
  },
  {
   "cell_type": "code",
   "execution_count": 42,
   "metadata": {
    "collapsed": false
   },
   "outputs": [
    {
     "name": "stderr",
     "output_type": "stream",
     "text": [
      "100%|██████████| 100/100 [00:02<00:00, 38.02it/s]\n"
     ]
    }
   ],
   "source": [
    "mst_scores = []\n",
    "for i in tqdm(range(n_rounds)):\n",
    "    obs, c = gen_input(g, stop_fraction=stop_fraction, q=obs_fraction)\n",
    "    preds = infer_infected_nodes(g, obs, method='min_steiner_tree')\n",
    "    prec, rec = infection_precision_recall(set(preds), c, obs)\n",
    "    mst_scores.append((prec, rec))"
   ]
  },
  {
   "cell_type": "code",
   "execution_count": 43,
   "metadata": {
    "collapsed": false
   },
   "outputs": [
    {
     "data": {
      "text/plain": [
       "array([ 0.19033802,  0.26607143])"
      ]
     },
     "execution_count": 43,
     "metadata": {},
     "output_type": "execute_result"
    }
   ],
   "source": [
    "sampling_scores = np.asarray(sampling_scores)\n",
    "sampling_scores.mean(axis=0)"
   ]
  },
  {
   "cell_type": "code",
   "execution_count": 44,
   "metadata": {
    "collapsed": false
   },
   "outputs": [
    {
     "data": {
      "text/plain": [
       "array([ 0.09299603,  0.10905952])"
      ]
     },
     "execution_count": 44,
     "metadata": {},
     "output_type": "execute_result"
    }
   ],
   "source": [
    "mst_scores = np.asarray(mst_scores)\n",
    "mst_scores.mean(axis=0)"
   ]
  }
 ],
 "metadata": {
  "kernelspec": {
   "display_name": "Python 3",
   "language": "python",
   "name": "python3"
  },
  "language_info": {
   "codemirror_mode": {
    "name": "ipython",
    "version": 3
   },
   "file_extension": ".py",
   "mimetype": "text/x-python",
   "name": "python",
   "nbconvert_exporter": "python",
   "pygments_lexer": "ipython3",
   "version": "3.5.2"
  }
 },
 "nbformat": 4,
 "nbformat_minor": 2
}
