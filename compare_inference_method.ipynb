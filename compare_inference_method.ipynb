{
 "cells": [
  {
   "cell_type": "code",
   "execution_count": 1,
   "metadata": {},
   "outputs": [],
   "source": [
    "%matplotlib inline"
   ]
  },
  {
   "cell_type": "code",
   "execution_count": 17,
   "metadata": {},
   "outputs": [],
   "source": [
    "import numpy as np\n",
    "import random\n",
    "import pandas as pd\n",
    "import itertools\n",
    "from graph_tool import Graph, GraphView\n",
    "from graph_tool.draw import graph_draw\n",
    "from tqdm import tqdm\n",
    "\n",
    "from matplotlib import pyplot as plt\n",
    "\n",
    "from viz_helpers import lattice_node_pos, InfectionProbability\n",
    "from minimum_steiner_tree import min_steiner_tree\n",
    "from cascade_generator import si, observe_cascade\n",
    "from eval_helpers import infection_precision_recall, top_k_infection_precision_recall\n",
    "from graph_helpers import remove_filters, load_graph_by_name, gen_random_spanning_tree\n",
    "\n",
    "from inference import infer_infected_nodes, infection_probability\n",
    "from experiment import gen_input"
   ]
  },
  {
   "cell_type": "code",
   "execution_count": 70,
   "metadata": {},
   "outputs": [],
   "source": [
    "graph_name = 'dolphin'\n",
    "g = load_graph_by_name(graph_name)\n",
    "\n",
    "if graph_name == 'lattice':\n",
    "    pos = lattice_node_pos(g, (10, 10))"
   ]
  },
  {
   "cell_type": "code",
   "execution_count": 71,
   "metadata": {},
   "outputs": [],
   "source": [
    "n_rounds = 100\n",
    "n_samples = 200\n",
    "subset_size = 50\n",
    "if graph_name == 'lattice':\n",
    "    stop_fraction = 0.25\n",
    "    obs_fraction = 0.25\n",
    "    ks = np.arange(1, 30, 2)\n",
    "elif graph_name == 'karate':\n",
    "    stop_fraction = 0.5\n",
    "    obs_fraction = 0.25\n",
    "    ks = np.arange(1, 18, 2)\n",
    "elif graph_name == 'dolphin':\n",
    "    stop_fraction = 0.5\n",
    "    obs_fraction = 0.25\n",
    "    ks = np.arange(1, 30, 2)\n",
    "    "
   ]
  },
  {
   "cell_type": "code",
   "execution_count": 55,
   "metadata": {},
   "outputs": [],
   "source": [
    "sp_trees = [gen_random_spanning_tree(g) for _ in range(n_samples)]"
   ]
  },
  {
   "cell_type": "code",
   "execution_count": 78,
   "metadata": {},
   "outputs": [],
   "source": [
    "from joblib import Parallel, delayed\n",
    "\n",
    "def one_batch_for_method_par(n_rounds, inference_kwargs, ks=[5, 10, 15, 20]):\n",
    "    scores = {k: [] for k in ks}\n",
    "    def one_run():\n",
    "        obs, c = gen_input(g, stop_fraction=stop_fraction, q=obs_fraction, p=1)\n",
    "        probas = infection_probability(g, obs, **inference_kwargs)\n",
    "        return [(k, top_k_infection_precision_recall(probas, c, obs, k=k)) for k in ks]\n",
    "    result = Parallel(n_jobs=-1)(one_run() for _ in tqdm(range(n_rounds), total=n_rounds))\n",
    "    for row in result:\n",
    "        for k, sc in row:\n",
    "            scores[k].append(sc)\n",
    "    return scores"
   ]
  },
  {
   "cell_type": "code",
   "execution_count": 66,
   "metadata": {},
   "outputs": [],
   "source": [
    "def one_batch_for_method(n_rounds, inference_kwargs, ks=[5, 10, 15, 20]):\n",
    "    scores = {k: [] for k in ks}\n",
    "    for i in tqdm(range(n_rounds)):\n",
    "        obs, c = gen_input(g, stop_fraction=stop_fraction, q=obs_fraction, p=1)\n",
    "        probas = infection_probability(g, obs, **inference_kwargs)\n",
    "        for k in ks:\n",
    "            prec, rec = top_k_infection_precision_recall(probas, c, obs, k=k)\n",
    "            scores[k].append((prec, rec))\n",
    "    return scores"
   ]
  },
  {
   "cell_type": "code",
   "execution_count": 72,
   "metadata": {},
   "outputs": [
    {
     "name": "stderr",
     "output_type": "stream",
     "text": [
      "100%|██████████| 100/100 [01:28<00:00,  1.04it/s]\n"
     ]
    }
   ],
   "source": [
    "sampling_scores = one_batch_for_method(\n",
    "    n_rounds, inference_kwargs={'method': 'sampling', 'sp_trees': sp_trees},\n",
    "    ks=ks)"
   ]
  },
  {
   "cell_type": "code",
   "execution_count": 73,
   "metadata": {},
   "outputs": [
    {
     "name": "stderr",
     "output_type": "stream",
     "text": [
      "100%|██████████| 100/100 [01:20<00:00,  1.24it/s]\n"
     ]
    }
   ],
   "source": [
    "subset_scores = one_batch_for_method(\n",
    "    n_rounds, inference_kwargs={'method': 'sampling', 'sp_trees': sp_trees, 'subset_size': subset_size},\n",
    "    ks=ks)"
   ]
  },
  {
   "cell_type": "code",
   "execution_count": 74,
   "metadata": {},
   "outputs": [
    {
     "data": {
      "image/png": "[encoded data removed]",
      "text/plain": [
       "<matplotlib.figure.Figure at 0x7febfd1bea90>"
      ]
     },
     "metadata": {},
     "output_type": "display_data"
    }
   ],
   "source": [
    "fig, ax = plt.subplots(1, 2, figsize=(10, 5), sharex=True, sharey=True)\n",
    "\n",
    "for scores in [sampling_scores, subset_scores]:\n",
    "    # for each method\n",
    "    mean_scores = np.asarray([np.mean(scores[k], axis=0)\n",
    "                              for k in ks])\n",
    "    # precision\n",
    "    ax[0].plot(ks, mean_scores[:, 0], '-o')\n",
    "    \n",
    "    # recall\n",
    "    ax[1].plot(ks, mean_scores[:, 1], '-o')\n",
    "ax[0].set_xlabel('k')\n",
    "ax[1].set_xlabel('k')\n",
    "\n",
    "ax[0].set_title('precision')\n",
    "ax[1].set_title('recall')\n",
    "plt.legend(['full', 'subset'], loc='lower right')\n",
    "fig.savefig('figs/inference_method_comparison_{}.pdf'.format(graph_name))"
   ]
  }
 ],
 "metadata": {
  "kernelspec": {
   "display_name": "Python 3",
   "language": "python",
   "name": "python3"
  },
  "language_info": {
   "codemirror_mode": {
    "name": "ipython",
    "version": 3
   },
   "file_extension": ".py",
   "mimetype": "text/x-python",
   "name": "python",
   "nbconvert_exporter": "python",
   "pygments_lexer": "ipython3",
   "version": "3.5.2"
  }
 },
 "nbformat": 4,
 "nbformat_minor": 2
}
