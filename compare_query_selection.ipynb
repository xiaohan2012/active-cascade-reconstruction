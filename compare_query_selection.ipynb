{
 "cells": [
  {
   "cell_type": "code",
   "execution_count": 2,
   "metadata": {},
   "outputs": [
    {
     "name": "stderr",
     "output_type": "stream",
     "text": [
      "/usr/local/lib/python3.5/dist-packages/matplotlib/font_manager.py:273: UserWarning: Matplotlib is building the font cache using fc-list. This may take a moment.\n",
      "  warnings.warn('Matplotlib is building the font cache using fc-list. This may take a moment.')\n",
      "/usr/local/lib/python3.5/dist-packages/matplotlib/font_manager.py:273: UserWarning: Matplotlib is building the font cache using fc-list. This may take a moment.\n",
      "  warnings.warn('Matplotlib is building the font cache using fc-list. This may take a moment.')\n"
     ]
    }
   ],
   "source": [
    "%matplotlib notebook"
   ]
  },
  {
   "cell_type": "code",
   "execution_count": 3,
   "metadata": {},
   "outputs": [],
   "source": [
    "import numpy as np\n",
    "import random\n",
    "import itertools\n",
    "from graph_tool import Graph, GraphView\n",
    "from graph_tool.draw import graph_draw\n",
    "from tqdm import tqdm\n",
    "\n",
    "from matplotlib import pyplot as plt\n",
    "\n",
    "from viz_helpers import lattice_node_pos\n",
    "from minimum_steiner_tree import min_steiner_tree\n",
    "from cascade_generator import si, observe_cascade\n",
    "from eval_helpers import infection_precision_recall\n",
    "from graph_helpers import remove_filters, load_graph_by_name\n",
    "\n",
    "from inference import infer_infected_nodes\n",
    "from query_selection import RandomQueryGenerator, OurQueryGenerator, PRQueryGenerator\n",
    "from experiment import gen_input, one_round_experiment"
   ]
  },
  {
   "cell_type": "code",
   "execution_count": 11,
   "metadata": {},
   "outputs": [],
   "source": [
    "graph_name = 'lattice'\n",
    "g = load_graph_by_name(graph_name)"
   ]
  },
  {
   "cell_type": "code",
   "execution_count": 12,
   "metadata": {},
   "outputs": [],
   "source": [
    "if False:\n",
    "    import graph_tool as gt\n",
    "    pos = gt.draw.sfdp_layout(gv)\n",
    "    vertex_text = g.new_vertex_property('string')\n",
    "    for v in g.vertices():\n",
    "        vertex_text[v] = str(v)\n",
    "    gt.draw.graph_draw(gv, pos=pos, vertex_text=vertex_text)"
   ]
  },
  {
   "cell_type": "code",
   "execution_count": 13,
   "metadata": {},
   "outputs": [],
   "source": [
    "def one_combined_round(g, n_queries, obs, c, inference_method, ks, n_samples=100):\n",
    "    from graph_helpers import gen_random_spanning_tree\n",
    "        \n",
    "    scores = []\n",
    "    print('rand')\n",
    "    gv = remove_filters(g)\n",
    "    rand_gen = RandomQueryGenerator(gv, obs)\n",
    "    score = one_round_experiment(gv, obs, c, rand_gen, 'random', \n",
    "                                 ks=ks, \n",
    "                                 inference_method=inference_method,\n",
    "                                 n_queries=n_queries)\n",
    "    scores.append(score)\n",
    "    \n",
    "    print('our')\n",
    "    gv = remove_filters(g)\n",
    "    our_gen = OurQueryGenerator(gv, obs, num_spt=100,\n",
    "                                method='entropy',\n",
    "                                use_resample=False)\n",
    "    score = one_round_experiment(gv, obs, c, our_gen, 'ours',\n",
    "                                 ks=ks, \n",
    "                                 inference_method=inference_method, \n",
    "                                 n_queries=n_queries)\n",
    "    scores.append(score)    \n",
    "    \n",
    "    print('pagerank')\n",
    "    gv = remove_filters(g)\n",
    "    pr_gen = PRQueryGenerator(gv, obs)\n",
    "    score = one_round_experiment(gv, obs, c, pr_gen, 'pagerank',\n",
    "                                 ks=ks, \n",
    "                                 inference_method=inference_method, \n",
    "                                 n_queries=n_queries)\n",
    "    scores.append(score)\n",
    "    \n",
    "    return scores\n",
    "    "
   ]
  },
  {
   "cell_type": "code",
   "execution_count": null,
   "metadata": {
    "scrolled": false
   },
   "outputs": [
    {
     "name": "stderr",
     "output_type": "stream",
     "text": [
      "\n",
      "  0%|          | 0/50 [00:00<?, ?it/s]\u001b[A\n",
      "  2%|▏         | 1/50 [00:00<00:13,  3.66it/s]"
     ]
    },
    {
     "name": "stdout",
     "output_type": "stream",
     "text": [
      "rand\n",
      "rand\n",
      "rand\n",
      "rand\n"
     ]
    },
    {
     "name": "stderr",
     "output_type": "stream",
     "text": [
      "\u001b[A"
     ]
    },
    {
     "name": "stdout",
     "output_type": "stream",
     "text": [
      "our\n",
      "our\n",
      "our\n",
      "our\n",
      "pagerank\n",
      "pagerank\n",
      "pagerank\n",
      "pagerank\n"
     ]
    },
    {
     "name": "stderr",
     "output_type": "stream",
     "text": [
      "\n",
      "\r",
      " 16%|█▌        | 8/50 [00:52<01:41,  2.41s/it]"
     ]
    },
    {
     "name": "stdout",
     "output_type": "stream",
     "text": [
      "rand\n"
     ]
    },
    {
     "name": "stderr",
     "output_type": "stream",
     "text": [
      "\u001b[A\n",
      " 18%|█▊        | 9/50 [00:54<01:42,  2.49s/it]"
     ]
    },
    {
     "name": "stdout",
     "output_type": "stream",
     "text": [
      "rand\n",
      "rand\n"
     ]
    },
    {
     "name": "stderr",
     "output_type": "stream",
     "text": [
      "\u001b[A\n",
      " 22%|██▏       | 11/50 [00:57<01:23,  2.13s/it]"
     ]
    },
    {
     "name": "stdout",
     "output_type": "stream",
     "text": [
      "rand\n"
     ]
    },
    {
     "name": "stderr",
     "output_type": "stream",
     "text": [
      "\u001b[A"
     ]
    },
    {
     "name": "stdout",
     "output_type": "stream",
     "text": [
      "our\n",
      "our\n",
      "our\n",
      "our\n",
      "pagerank\n",
      "pagerank\n",
      "pagerank\n",
      "pagerank\n"
     ]
    },
    {
     "name": "stderr",
     "output_type": "stream",
     "text": [
      "\n",
      "\r",
      " 24%|██▍       | 12/50 [01:45<10:10, 16.08s/it]"
     ]
    },
    {
     "name": "stdout",
     "output_type": "stream",
     "text": [
      "rand\n"
     ]
    },
    {
     "name": "stderr",
     "output_type": "stream",
     "text": [
      "\u001b[A\n",
      " 26%|██▌       | 13/50 [01:46<07:01, 11.39s/it]"
     ]
    },
    {
     "name": "stdout",
     "output_type": "stream",
     "text": [
      "rand\n"
     ]
    },
    {
     "name": "stderr",
     "output_type": "stream",
     "text": [
      "\u001b[A\n",
      " 28%|██▊       | 14/50 [01:48<05:10,  8.62s/it]"
     ]
    },
    {
     "name": "stdout",
     "output_type": "stream",
     "text": [
      "rand\n"
     ]
    },
    {
     "name": "stderr",
     "output_type": "stream",
     "text": [
      "\u001b[A\n",
      " 30%|███       | 15/50 [01:53<04:19,  7.41s/it]"
     ]
    },
    {
     "name": "stdout",
     "output_type": "stream",
     "text": [
      "rand\n"
     ]
    },
    {
     "name": "stderr",
     "output_type": "stream",
     "text": [
      "\u001b[A"
     ]
    },
    {
     "name": "stdout",
     "output_type": "stream",
     "text": [
      "our\n",
      "our\n",
      "our\n",
      "our\n",
      "pagerank\n",
      "pagerank\n",
      "pagerank\n",
      "pagerank\n"
     ]
    },
    {
     "name": "stderr",
     "output_type": "stream",
     "text": [
      "\n",
      "\r",
      " 32%|███▏      | 16/50 [02:39<10:46, 19.02s/it]"
     ]
    },
    {
     "name": "stdout",
     "output_type": "stream",
     "text": [
      "rand\n"
     ]
    },
    {
     "name": "stderr",
     "output_type": "stream",
     "text": [
      "\u001b[A\n",
      "\r",
      " 34%|███▍      | 17/50 [02:39<07:20, 13.36s/it]"
     ]
    },
    {
     "name": "stdout",
     "output_type": "stream",
     "text": [
      "rand\n"
     ]
    },
    {
     "name": "stderr",
     "output_type": "stream",
     "text": [
      "\u001b[A\n",
      " 36%|███▌      | 18/50 [02:42<05:25, 10.18s/it]"
     ]
    },
    {
     "name": "stdout",
     "output_type": "stream",
     "text": [
      "rand\n"
     ]
    },
    {
     "name": "stderr",
     "output_type": "stream",
     "text": [
      "\u001b[A\n",
      " 38%|███▊      | 19/50 [02:46<04:21,  8.45s/it]"
     ]
    },
    {
     "name": "stdout",
     "output_type": "stream",
     "text": [
      "rand\n"
     ]
    },
    {
     "name": "stderr",
     "output_type": "stream",
     "text": [
      "\u001b[A"
     ]
    },
    {
     "name": "stdout",
     "output_type": "stream",
     "text": [
      "our\n",
      "our\n",
      "our\n",
      "our\n",
      "pagerank\n",
      "pagerank\n",
      "pagerank\n",
      "pagerank\n"
     ]
    },
    {
     "name": "stderr",
     "output_type": "stream",
     "text": [
      "\n",
      "\r",
      " 40%|████      | 20/50 [03:33<09:55, 19.86s/it]"
     ]
    },
    {
     "name": "stdout",
     "output_type": "stream",
     "text": [
      "rand\n"
     ]
    },
    {
     "name": "stderr",
     "output_type": "stream",
     "text": [
      "\u001b[A\n",
      " 42%|████▏     | 21/50 [03:34<06:56, 14.36s/it]"
     ]
    },
    {
     "name": "stdout",
     "output_type": "stream",
     "text": [
      "rand\n"
     ]
    },
    {
     "name": "stderr",
     "output_type": "stream",
     "text": [
      "\u001b[A\n",
      " 44%|████▍     | 22/50 [03:37<05:05, 10.90s/it]"
     ]
    },
    {
     "name": "stdout",
     "output_type": "stream",
     "text": [
      "rand\n"
     ]
    },
    {
     "name": "stderr",
     "output_type": "stream",
     "text": [
      "\u001b[A\n",
      " 46%|████▌     | 23/50 [03:41<04:02,  8.98s/it]"
     ]
    },
    {
     "name": "stdout",
     "output_type": "stream",
     "text": [
      "rand\n"
     ]
    },
    {
     "name": "stderr",
     "output_type": "stream",
     "text": [
      "\u001b[A"
     ]
    },
    {
     "name": "stdout",
     "output_type": "stream",
     "text": [
      "our\n",
      "our\n",
      "our\n",
      "our\n",
      "pagerank\n",
      "pagerank\n",
      "pagerank\n",
      "pagerank\n"
     ]
    },
    {
     "name": "stderr",
     "output_type": "stream",
     "text": [
      "\n",
      "\r",
      " 48%|████▊     | 24/50 [04:28<08:43, 20.12s/it]"
     ]
    },
    {
     "name": "stdout",
     "output_type": "stream",
     "text": [
      "rand\n"
     ]
    },
    {
     "name": "stderr",
     "output_type": "stream",
     "text": [
      "\u001b[A\n",
      " 50%|█████     | 25/50 [04:28<05:57, 14.28s/it]"
     ]
    },
    {
     "name": "stdout",
     "output_type": "stream",
     "text": [
      "rand\n"
     ]
    },
    {
     "name": "stderr",
     "output_type": "stream",
     "text": [
      "\u001b[A\n",
      " 52%|█████▏    | 26/50 [04:31<04:22, 10.95s/it]"
     ]
    },
    {
     "name": "stdout",
     "output_type": "stream",
     "text": [
      "rand\n"
     ]
    },
    {
     "name": "stderr",
     "output_type": "stream",
     "text": [
      "\u001b[A\n",
      " 54%|█████▍    | 27/50 [04:36<03:26,  8.99s/it]"
     ]
    },
    {
     "name": "stdout",
     "output_type": "stream",
     "text": [
      "rand\n"
     ]
    },
    {
     "name": "stderr",
     "output_type": "stream",
     "text": [
      "\u001b[A"
     ]
    },
    {
     "name": "stdout",
     "output_type": "stream",
     "text": [
      "our\n",
      "our\n",
      "our\n",
      "our\n",
      "pagerank\n",
      "pagerank\n",
      "pagerank\n",
      "pagerank\n"
     ]
    },
    {
     "name": "stderr",
     "output_type": "stream",
     "text": [
      "\n",
      "\r",
      " 56%|█████▌    | 28/50 [05:20<07:07, 19.42s/it]"
     ]
    },
    {
     "name": "stdout",
     "output_type": "stream",
     "text": [
      "rand\n"
     ]
    },
    {
     "name": "stderr",
     "output_type": "stream",
     "text": [
      "\u001b[A\n",
      " 58%|█████▊    | 29/50 [05:20<04:46, 13.67s/it]"
     ]
    },
    {
     "name": "stdout",
     "output_type": "stream",
     "text": [
      "rand\n"
     ]
    },
    {
     "name": "stderr",
     "output_type": "stream",
     "text": [
      "\u001b[A\n",
      " 60%|██████    | 30/50 [05:25<03:42, 11.11s/it]"
     ]
    },
    {
     "name": "stdout",
     "output_type": "stream",
     "text": [
      "rand\n"
     ]
    },
    {
     "name": "stderr",
     "output_type": "stream",
     "text": [
      "\u001b[A\n",
      " 62%|██████▏   | 31/50 [05:30<02:57,  9.32s/it]"
     ]
    },
    {
     "name": "stdout",
     "output_type": "stream",
     "text": [
      "rand\n"
     ]
    },
    {
     "name": "stderr",
     "output_type": "stream",
     "text": [
      "\u001b[A"
     ]
    }
   ],
   "source": [
    "from joblib import Parallel, delayed\n",
    "\n",
    "n_rounds = 50\n",
    "n_samples=100\n",
    "n_queries = 10\n",
    "stop_fraction=0.25\n",
    "p=0.4\n",
    "cascade_model='ic'\n",
    "ks=[5, 10, 15]\n",
    "\n",
    "sc = Parallel(n_jobs=4)(delayed(one_combined_round)(g, n_queries,\n",
    "                                                    *gen_input(g, p=p, stop_fraction=stop_fraction,\n",
    "                                                               model=cascade_model),\n",
    "                                                    inference_method='sampling',\n",
    "                                                    ks=ks,\n",
    "                                                    n_samples=n_samples)\n",
    "                     for i in tqdm(range(n_rounds)))\n"
   ]
  },
  {
   "cell_type": "code",
   "execution_count": null,
   "metadata": {},
   "outputs": [],
   "source": [
    "scores = {k: {'random': [], 'pagerank': [], 'ours': []} for k in ks}\n",
    "\n",
    "for rand, our, pr in sc:\n",
    "    for k, seq_scores in rand.items():\n",
    "        scores[k]['random'].append(np.asarray(seq_scores))\n",
    "        \n",
    "    for k, seq_scores in our.items():\n",
    "        scores[k]['ours'].append(np.asarray(seq_scores))\n",
    "        \n",
    "    for k, seq_scores in pr.items():\n",
    "        scores[k]['pagerank'].append(np.asarray(seq_scores))        "
   ]
  },
  {
   "cell_type": "code",
   "execution_count": null,
   "metadata": {},
   "outputs": [],
   "source": [
    "methods = ['random', 'ours', 'pagerank']\n",
    "mean_scores = {k: {} for k in ks}\n",
    "variance = {k: {} for k in ks}\n",
    "for k in ks:\n",
    "    for method in methods:    \n",
    "        mean_scores[k][method] = np.mean(np.asarray(scores[k][method]), axis=0)\n",
    "        variance[k][method] = np.std(np.asarray(scores[k][method]), axis=0)\n"
   ]
  },
  {
   "cell_type": "code",
   "execution_count": null,
   "metadata": {},
   "outputs": [],
   "source": [
    "fig, axes = plt.subplots(2, len(ks), figsize=(5*len(ks), 5*2), sharex=True)\n",
    "for i in range(2):  # column 0 - precision / column 1 - recall\n",
    "    for j, k in enumerate(ks):  # k\n",
    "        ax = axes[i, j] \n",
    "        for method in methods:\n",
    "            ax.plot(np.arange(n_queries), mean_scores[k][method][:, i]) \n",
    "        if i==0:\n",
    "            ax.set_title('k={}'.format(k))\n",
    "plt.legend(methods, loc='lower right')\n",
    "plt.savefig('figs/query_comparison_{}_{}.pdf'.format(graph_name, cascade_model))"
   ]
  }
 ],
 "metadata": {
  "kernelspec": {
   "display_name": "Python 3",
   "language": "python",
   "name": "python3"
  },
  "language_info": {
   "codemirror_mode": {
    "name": "ipython",
    "version": 3
   },
   "file_extension": ".py",
   "mimetype": "text/x-python",
   "name": "python",
   "nbconvert_exporter": "python",
   "pygments_lexer": "ipython3",
   "version": "3.5.2"
  }
 },
 "nbformat": 4,
 "nbformat_minor": 2
}
