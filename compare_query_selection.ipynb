{
 "cells": [
  {
   "cell_type": "code",
   "execution_count": 2,
   "metadata": {},
   "outputs": [],
   "source": [
    "%matplotlib notebook"
   ]
  },
  {
   "cell_type": "code",
   "execution_count": 73,
   "metadata": {},
   "outputs": [],
   "source": [
    "import numpy as np\n",
    "import random\n",
    "import itertools\n",
    "from graph_tool import Graph, GraphView\n",
    "from graph_tool.draw import graph_draw\n",
    "from tqdm import tqdm\n",
    "\n",
    "from matplotlib import pyplot as plt\n",
    "\n",
    "from viz_helpers import lattice_node_pos\n",
    "from minimum_steiner_tree import min_steiner_tree\n",
    "from cascade_generator import si, observe_cascade\n",
    "from eval_helpers import infection_precision_recall\n",
    "from graph_helpers import remove_filters, load_graph_by_name\n",
    "\n",
    "from inference import infer_infected_nodes\n",
    "from query_selection import RandomQueryGenerator, OurQueryGenerator, PRQueryGenerator\n",
    "from experiment import gen_input, one_round_experiment"
   ]
  },
  {
   "cell_type": "code",
   "execution_count": 74,
   "metadata": {},
   "outputs": [],
   "source": [
    "graph_name = 'karate'\n",
    "g = load_graph_by_name(graph_name)"
   ]
  },
  {
   "cell_type": "code",
   "execution_count": 66,
   "metadata": {},
   "outputs": [],
   "source": [
    "if False:\n",
    "    import graph_tool as gt\n",
    "    pos = gt.draw.sfdp_layout(gv)\n",
    "    vertex_text = g.new_vertex_property('string')\n",
    "    for v in g.vertices():\n",
    "        vertex_text[v] = str(v)\n",
    "    gt.draw.graph_draw(gv, pos=pos, vertex_text=vertex_text)"
   ]
  },
  {
   "cell_type": "code",
   "execution_count": 75,
   "metadata": {},
   "outputs": [],
   "source": [
    "def one_combined_round(g, n_queries, obs, c, inference_method, ks, n_samples=100):\n",
    "    from graph_helpers import gen_random_spanning_tree\n",
    "        \n",
    "    scores = []\n",
    "    print('rand')\n",
    "    gv = remove_filters(g)\n",
    "    rand_gen = RandomQueryGenerator(gv, obs)\n",
    "    score = one_round_experiment(gv, obs, c, rand_gen, 'random', \n",
    "                                 ks=ks, \n",
    "                                 inference_method=inference_method,\n",
    "                                 n_queries=n_queries)\n",
    "    scores.append(score)\n",
    "    \n",
    "    print('our')\n",
    "    gv = remove_filters(g)\n",
    "    our_gen = OurQueryGenerator(gv, obs, num_spt=100,\n",
    "                                method='entropy',\n",
    "                                use_resample=False)\n",
    "    score = one_round_experiment(gv, obs, c, our_gen, 'ours',\n",
    "                                 ks=ks, \n",
    "                                 inference_method=inference_method, \n",
    "                                 n_queries=n_queries)\n",
    "    scores.append(score)    \n",
    "    \n",
    "    print('pagerank')\n",
    "    gv = remove_filters(g)\n",
    "    pr_gen = PRQueryGenerator(gv, obs)\n",
    "    score = one_round_experiment(gv, obs, c, pr_gen, 'pagerank',\n",
    "                                 ks=ks, \n",
    "                                 inference_method=inference_method, \n",
    "                                 n_queries=n_queries)\n",
    "    scores.append(score)\n",
    "    \n",
    "    return scores\n",
    "    "
   ]
  },
  {
   "cell_type": "code",
   "execution_count": 76,
   "metadata": {
    "scrolled": true
   },
   "outputs": [
    {
     "name": "stderr",
     "output_type": "stream",
     "text": [
      "\n",
      "\n",
      "\n",
      "\n",
      "\n",
      "  0%|          | 0/50 [00:00<?, ?it/s]\u001b[A\u001b[A\u001b[A\u001b[A\u001b[A\n",
      "\n",
      "\n",
      "\n",
      "\n",
      "  2%|▏         | 1/50 [00:00<00:18,  2.66it/s]"
     ]
    },
    {
     "name": "stdout",
     "output_type": "stream",
     "text": [
      "rand\n",
      "rand\n",
      "rand\n",
      "rand\n"
     ]
    },
    {
     "name": "stderr",
     "output_type": "stream",
     "text": [
      "\u001b[A\u001b[A\u001b[A\u001b[A\u001b[A"
     ]
    },
    {
     "name": "stdout",
     "output_type": "stream",
     "text": [
      "our\n",
      "our\n",
      "our\n",
      "our\n",
      "pagerank\n",
      "pagerank\n",
      "pagerank\n",
      "pagerank\n"
     ]
    },
    {
     "name": "stderr",
     "output_type": "stream",
     "text": [
      "\n",
      "\n",
      "\n",
      "\n",
      "\n",
      "\r",
      " 16%|█▌        | 8/50 [00:44<01:30,  2.16s/it]"
     ]
    },
    {
     "name": "stdout",
     "output_type": "stream",
     "text": [
      "rand\n",
      "rand\n"
     ]
    },
    {
     "name": "stderr",
     "output_type": "stream",
     "text": [
      "\u001b[A\u001b[A\u001b[A\u001b[A\u001b[A\n",
      "\n",
      "\n",
      "\n",
      "\n",
      " 20%|██        | 10/50 [00:45<01:02,  1.57s/it]"
     ]
    },
    {
     "name": "stdout",
     "output_type": "stream",
     "text": [
      "rand\n"
     ]
    },
    {
     "name": "stderr",
     "output_type": "stream",
     "text": [
      "\u001b[A\u001b[A\u001b[A\u001b[A\u001b[A\n",
      "\n",
      "\n",
      "\n",
      "\n",
      " 22%|██▏       | 11/50 [00:45<00:48,  1.23s/it]"
     ]
    },
    {
     "name": "stdout",
     "output_type": "stream",
     "text": [
      "rand\n"
     ]
    },
    {
     "name": "stderr",
     "output_type": "stream",
     "text": [
      "\u001b[A\u001b[A\u001b[A\u001b[A\u001b[A"
     ]
    },
    {
     "name": "stdout",
     "output_type": "stream",
     "text": [
      "our\n",
      "our\n",
      "our\n",
      "our\n",
      "pagerank\n",
      "pagerank\n",
      "pagerank\n",
      "pagerank\n"
     ]
    },
    {
     "name": "stderr",
     "output_type": "stream",
     "text": [
      "\n",
      "\n",
      "\n",
      "\n",
      "\n",
      "\r",
      " 24%|██▍       | 12/50 [01:27<08:32, 13.49s/it]"
     ]
    },
    {
     "name": "stdout",
     "output_type": "stream",
     "text": [
      "rand\n"
     ]
    },
    {
     "name": "stderr",
     "output_type": "stream",
     "text": [
      "\u001b[A\u001b[A\u001b[A\u001b[A\u001b[A\n",
      "\n",
      "\n",
      "\n",
      "\n",
      " 26%|██▌       | 13/50 [01:27<05:52,  9.52s/it]"
     ]
    },
    {
     "name": "stdout",
     "output_type": "stream",
     "text": [
      "rand\n"
     ]
    },
    {
     "name": "stderr",
     "output_type": "stream",
     "text": [
      "\u001b[A\u001b[A\u001b[A\u001b[A\u001b[A\n",
      "\n",
      "\n",
      "\n",
      "\n",
      " 28%|██▊       | 14/50 [01:28<04:08,  6.89s/it]"
     ]
    },
    {
     "name": "stdout",
     "output_type": "stream",
     "text": [
      "rand\n"
     ]
    },
    {
     "name": "stderr",
     "output_type": "stream",
     "text": [
      "\u001b[A\u001b[A\u001b[A\u001b[A\u001b[A\n",
      "\n",
      "\n",
      "\n",
      "\n",
      " 30%|███       | 15/50 [01:30<03:10,  5.45s/it]"
     ]
    },
    {
     "name": "stdout",
     "output_type": "stream",
     "text": [
      "rand\n"
     ]
    },
    {
     "name": "stderr",
     "output_type": "stream",
     "text": [
      "\u001b[A\u001b[A\u001b[A\u001b[A\u001b[A"
     ]
    },
    {
     "name": "stdout",
     "output_type": "stream",
     "text": [
      "our\n",
      "our\n",
      "our\n",
      "our\n",
      "pagerank\n",
      "pagerank\n",
      "pagerank\n",
      "pagerank\n"
     ]
    },
    {
     "name": "stderr",
     "output_type": "stream",
     "text": [
      "\n",
      "\n",
      "\n",
      "\n",
      "\n",
      "\r",
      " 32%|███▏      | 16/50 [02:10<08:56, 15.77s/it]"
     ]
    },
    {
     "name": "stdout",
     "output_type": "stream",
     "text": [
      "rand\n"
     ]
    },
    {
     "name": "stderr",
     "output_type": "stream",
     "text": [
      "\u001b[A\u001b[A\u001b[A\u001b[A\u001b[A\n",
      "\n",
      "\n",
      "\n",
      "\n",
      " 34%|███▍      | 17/50 [02:11<06:09, 11.19s/it]"
     ]
    },
    {
     "name": "stdout",
     "output_type": "stream",
     "text": [
      "rand\n"
     ]
    },
    {
     "name": "stderr",
     "output_type": "stream",
     "text": [
      "\u001b[A\u001b[A\u001b[A\u001b[A\u001b[A\n",
      "\n",
      "\n",
      "\n",
      "\n",
      " 36%|███▌      | 18/50 [02:13<04:34,  8.56s/it]"
     ]
    },
    {
     "name": "stdout",
     "output_type": "stream",
     "text": [
      "rand\n"
     ]
    },
    {
     "name": "stderr",
     "output_type": "stream",
     "text": [
      "\u001b[A\u001b[A\u001b[A\u001b[A\u001b[A\n",
      "\n",
      "\n",
      "\n",
      "\n",
      " 38%|███▊      | 19/50 [02:14<03:12,  6.20s/it]"
     ]
    },
    {
     "name": "stdout",
     "output_type": "stream",
     "text": [
      "rand\n"
     ]
    },
    {
     "name": "stderr",
     "output_type": "stream",
     "text": [
      "\u001b[A\u001b[A\u001b[A\u001b[A\u001b[A"
     ]
    },
    {
     "name": "stdout",
     "output_type": "stream",
     "text": [
      "our\n",
      "our\n",
      "our\n",
      "our\n",
      "pagerank\n",
      "pagerank\n",
      "pagerank\n",
      "pagerank\n"
     ]
    },
    {
     "name": "stderr",
     "output_type": "stream",
     "text": [
      "\n",
      "\n",
      "\n",
      "\n",
      "\n",
      "\r",
      " 40%|████      | 20/50 [02:52<07:56, 15.89s/it]"
     ]
    },
    {
     "name": "stdout",
     "output_type": "stream",
     "text": [
      "rand\n"
     ]
    },
    {
     "name": "stderr",
     "output_type": "stream",
     "text": [
      "\u001b[A\u001b[A\u001b[A\u001b[A\u001b[A\n",
      "\n",
      "\n",
      "\n",
      "\n",
      " 42%|████▏     | 21/50 [02:54<05:41, 11.78s/it]"
     ]
    },
    {
     "name": "stdout",
     "output_type": "stream",
     "text": [
      "rand\n"
     ]
    },
    {
     "name": "stderr",
     "output_type": "stream",
     "text": [
      "\u001b[A\u001b[A\u001b[A\u001b[A\u001b[A\n",
      "\n",
      "\n",
      "\n",
      "\n",
      " 44%|████▍     | 22/50 [02:56<04:08,  8.87s/it]"
     ]
    },
    {
     "name": "stdout",
     "output_type": "stream",
     "text": [
      "rand\n"
     ]
    },
    {
     "name": "stderr",
     "output_type": "stream",
     "text": [
      "\u001b[A\u001b[A\u001b[A\u001b[A\u001b[A\n",
      "\n",
      "\n",
      "\n",
      "\n",
      " 46%|████▌     | 23/50 [02:59<03:05,  6.86s/it]"
     ]
    },
    {
     "name": "stdout",
     "output_type": "stream",
     "text": [
      "rand\n"
     ]
    },
    {
     "name": "stderr",
     "output_type": "stream",
     "text": [
      "\u001b[A\u001b[A\u001b[A\u001b[A\u001b[A"
     ]
    },
    {
     "name": "stdout",
     "output_type": "stream",
     "text": [
      "our\n",
      "our\n",
      "our\n",
      "our\n",
      "pagerank\n",
      "pagerank\n",
      "pagerank\n",
      "pagerank\n"
     ]
    },
    {
     "name": "stderr",
     "output_type": "stream",
     "text": [
      "\n",
      "\n",
      "\n",
      "\n",
      "\n",
      "\r",
      " 48%|████▊     | 24/50 [03:37<07:04, 16.34s/it]"
     ]
    },
    {
     "name": "stdout",
     "output_type": "stream",
     "text": [
      "rand\n"
     ]
    },
    {
     "name": "stderr",
     "output_type": "stream",
     "text": [
      "\u001b[A\u001b[A\u001b[A\u001b[A\u001b[A\n",
      "\n",
      "\n",
      "\n",
      "\n",
      " 50%|█████     | 25/50 [03:39<04:57, 11.89s/it]"
     ]
    },
    {
     "name": "stdout",
     "output_type": "stream",
     "text": [
      "rand\n"
     ]
    },
    {
     "name": "stderr",
     "output_type": "stream",
     "text": [
      "\u001b[A\u001b[A\u001b[A\u001b[A\u001b[A\n",
      "\n",
      "\n",
      "\n",
      "\n",
      " 52%|█████▏    | 26/50 [03:41<03:34,  8.94s/it]"
     ]
    },
    {
     "name": "stdout",
     "output_type": "stream",
     "text": [
      "rand\n"
     ]
    },
    {
     "name": "stderr",
     "output_type": "stream",
     "text": [
      "\u001b[A\u001b[A\u001b[A\u001b[A\u001b[A\n",
      "\n",
      "\n",
      "\n",
      "\n",
      " 54%|█████▍    | 27/50 [03:43<02:37,  6.84s/it]"
     ]
    },
    {
     "name": "stdout",
     "output_type": "stream",
     "text": [
      "rand\n"
     ]
    },
    {
     "name": "stderr",
     "output_type": "stream",
     "text": [
      "\u001b[A\u001b[A\u001b[A\u001b[A\u001b[A"
     ]
    },
    {
     "name": "stdout",
     "output_type": "stream",
     "text": [
      "our\n",
      "our\n",
      "our\n",
      "our\n",
      "pagerank\n",
      "pagerank\n",
      "pagerank\n",
      "pagerank\n"
     ]
    },
    {
     "name": "stderr",
     "output_type": "stream",
     "text": [
      "\n",
      "\n",
      "\n",
      "\n",
      "\n",
      "\r",
      " 56%|█████▌    | 28/50 [04:21<05:57, 16.24s/it]"
     ]
    },
    {
     "name": "stdout",
     "output_type": "stream",
     "text": [
      "rand\n",
      "rand\n"
     ]
    },
    {
     "name": "stderr",
     "output_type": "stream",
     "text": [
      "\u001b[A\u001b[A\u001b[A\u001b[A\u001b[A\n",
      "\n",
      "\n",
      "\n",
      "\n",
      " 60%|██████    | 30/50 [04:26<04:02, 12.10s/it]"
     ]
    },
    {
     "name": "stdout",
     "output_type": "stream",
     "text": [
      "rand\n"
     ]
    },
    {
     "name": "stderr",
     "output_type": "stream",
     "text": [
      "\u001b[A\u001b[A\u001b[A\u001b[A\u001b[A\n",
      "\n",
      "\n",
      "\n",
      "\n",
      " 62%|██████▏   | 31/50 [04:26<02:41,  8.52s/it]\u001b[A\u001b[A\u001b[A\u001b[A\u001b[A"
     ]
    },
    {
     "name": "stdout",
     "output_type": "stream",
     "text": [
      "rand\n",
      "our\n",
      "our\n",
      "our\n",
      "our\n",
      "pagerank\n",
      "pagerank\n",
      "pagerank\n",
      "pagerank\n"
     ]
    },
    {
     "name": "stderr",
     "output_type": "stream",
     "text": [
      "\n",
      "\n",
      "\n",
      "\n",
      "\n",
      "\r",
      " 64%|██████▍   | 32/50 [05:06<05:21, 17.87s/it]"
     ]
    },
    {
     "name": "stdout",
     "output_type": "stream",
     "text": [
      "rand\n"
     ]
    },
    {
     "name": "stderr",
     "output_type": "stream",
     "text": [
      "\u001b[A\u001b[A\u001b[A\u001b[A\u001b[A\n",
      "\n",
      "\n",
      "\n",
      "\n",
      "\r",
      " 66%|██████▌   | 33/50 [05:06<03:33, 12.54s/it]"
     ]
    },
    {
     "name": "stdout",
     "output_type": "stream",
     "text": [
      "rand\n"
     ]
    },
    {
     "name": "stderr",
     "output_type": "stream",
     "text": [
      "\u001b[A\u001b[A\u001b[A\u001b[A\u001b[A\n",
      "\n",
      "\n",
      "\n",
      "\n",
      " 68%|██████▊   | 34/50 [05:11<02:45, 10.33s/it]"
     ]
    },
    {
     "name": "stdout",
     "output_type": "stream",
     "text": [
      "rand\n"
     ]
    },
    {
     "name": "stderr",
     "output_type": "stream",
     "text": [
      "\u001b[A\u001b[A\u001b[A\u001b[A\u001b[A\n",
      "\n",
      "\n",
      "\n",
      "\n",
      " 70%|███████   | 35/50 [05:11<01:50,  7.35s/it]"
     ]
    },
    {
     "name": "stdout",
     "output_type": "stream",
     "text": [
      "rand\n"
     ]
    },
    {
     "name": "stderr",
     "output_type": "stream",
     "text": [
      "\u001b[A\u001b[A\u001b[A\u001b[A\u001b[A"
     ]
    },
    {
     "name": "stdout",
     "output_type": "stream",
     "text": [
      "our\n",
      "our\n",
      "our\n",
      "our\n",
      "pagerank\n",
      "pagerank\n",
      "pagerank\n",
      "pagerank\n"
     ]
    },
    {
     "name": "stderr",
     "output_type": "stream",
     "text": [
      "\n",
      "\n",
      "\n",
      "\n",
      "\n",
      "\r",
      " 72%|███████▏  | 36/50 [05:49<03:51, 16.55s/it]"
     ]
    },
    {
     "name": "stdout",
     "output_type": "stream",
     "text": [
      "rand\n"
     ]
    },
    {
     "name": "stderr",
     "output_type": "stream",
     "text": [
      "\u001b[A\u001b[A\u001b[A\u001b[A\u001b[A\n",
      "\n",
      "\n",
      "\n",
      "\n",
      " 74%|███████▍  | 37/50 [05:50<02:31, 11.68s/it]"
     ]
    },
    {
     "name": "stdout",
     "output_type": "stream",
     "text": [
      "rand\n"
     ]
    },
    {
     "name": "stderr",
     "output_type": "stream",
     "text": [
      "\u001b[A\u001b[A\u001b[A\u001b[A\u001b[A\n",
      "\n",
      "\n",
      "\n",
      "\n",
      " 76%|███████▌  | 38/50 [05:55<01:56,  9.75s/it]"
     ]
    },
    {
     "name": "stdout",
     "output_type": "stream",
     "text": [
      "rand\n"
     ]
    },
    {
     "name": "stderr",
     "output_type": "stream",
     "text": [
      "\u001b[A\u001b[A\u001b[A\u001b[A\u001b[A\n",
      "\n",
      "\n",
      "\n",
      "\n",
      " 78%|███████▊  | 39/50 [05:55<01:15,  6.91s/it]"
     ]
    },
    {
     "name": "stdout",
     "output_type": "stream",
     "text": [
      "rand\n"
     ]
    },
    {
     "name": "stderr",
     "output_type": "stream",
     "text": [
      "\u001b[A\u001b[A\u001b[A\u001b[A\u001b[A"
     ]
    },
    {
     "name": "stdout",
     "output_type": "stream",
     "text": [
      "our\n",
      "our\n",
      "our\n",
      "our\n",
      "pagerank\n",
      "pagerank\n",
      "pagerank\n",
      "pagerank\n"
     ]
    },
    {
     "name": "stderr",
     "output_type": "stream",
     "text": [
      "\n",
      "\n",
      "\n",
      "\n",
      "\n",
      "\r",
      " 80%|████████  | 40/50 [06:33<02:42, 16.23s/it]"
     ]
    },
    {
     "name": "stdout",
     "output_type": "stream",
     "text": [
      "rand\n"
     ]
    },
    {
     "name": "stderr",
     "output_type": "stream",
     "text": [
      "\u001b[A\u001b[A\u001b[A\u001b[A\u001b[A\n",
      "\n",
      "\n",
      "\n",
      "\n",
      " 82%|████████▏ | 41/50 [06:33<01:42, 11.43s/it]"
     ]
    },
    {
     "name": "stdout",
     "output_type": "stream",
     "text": [
      "rand\n"
     ]
    },
    {
     "name": "stderr",
     "output_type": "stream",
     "text": [
      "\u001b[A\u001b[A\u001b[A\u001b[A\u001b[A\n",
      "\n",
      "\n",
      "\n",
      "\n",
      " 84%|████████▍ | 42/50 [06:38<01:16,  9.57s/it]"
     ]
    },
    {
     "name": "stdout",
     "output_type": "stream",
     "text": [
      "rand\n"
     ]
    },
    {
     "name": "stderr",
     "output_type": "stream",
     "text": [
      "\u001b[A\u001b[A\u001b[A\u001b[A\u001b[A\n",
      "\n",
      "\n",
      "\n",
      "\n",
      " 86%|████████▌ | 43/50 [06:39<00:48,  6.91s/it]"
     ]
    },
    {
     "name": "stdout",
     "output_type": "stream",
     "text": [
      "rand\n"
     ]
    },
    {
     "name": "stderr",
     "output_type": "stream",
     "text": [
      "\u001b[A\u001b[A\u001b[A\u001b[A\u001b[A"
     ]
    },
    {
     "name": "stdout",
     "output_type": "stream",
     "text": [
      "our\n",
      "our\n",
      "our\n",
      "our\n",
      "pagerank\n",
      "pagerank\n",
      "pagerank\n",
      "pagerank\n"
     ]
    },
    {
     "name": "stderr",
     "output_type": "stream",
     "text": [
      "\n",
      "\n",
      "\n",
      "\n",
      "\n",
      "\r",
      " 88%|████████▊ | 44/50 [07:17<01:37, 16.22s/it]"
     ]
    },
    {
     "name": "stdout",
     "output_type": "stream",
     "text": [
      "rand\n"
     ]
    },
    {
     "name": "stderr",
     "output_type": "stream",
     "text": [
      "\u001b[A\u001b[A\u001b[A\u001b[A\u001b[A\n",
      "\n",
      "\n",
      "\n",
      "\n",
      " 90%|█████████ | 45/50 [07:17<00:57, 11.44s/it]"
     ]
    },
    {
     "name": "stdout",
     "output_type": "stream",
     "text": [
      "rand\n"
     ]
    },
    {
     "name": "stderr",
     "output_type": "stream",
     "text": [
      "\u001b[A\u001b[A\u001b[A\u001b[A\u001b[A\n",
      "\n",
      "\n",
      "\n",
      "\n",
      " 92%|█████████▏| 46/50 [07:22<00:36,  9.23s/it]"
     ]
    },
    {
     "name": "stdout",
     "output_type": "stream",
     "text": [
      "rand\n"
     ]
    },
    {
     "name": "stderr",
     "output_type": "stream",
     "text": [
      "\u001b[A\u001b[A\u001b[A\u001b[A\u001b[A\n",
      "\n",
      "\n",
      "\n",
      "\n",
      " 94%|█████████▍| 47/50 [07:25<00:22,  7.47s/it]"
     ]
    },
    {
     "name": "stdout",
     "output_type": "stream",
     "text": [
      "rand\n"
     ]
    },
    {
     "name": "stderr",
     "output_type": "stream",
     "text": [
      "\u001b[A\u001b[A\u001b[A\u001b[A\u001b[A"
     ]
    },
    {
     "name": "stdout",
     "output_type": "stream",
     "text": [
      "our\n",
      "our\n",
      "our\n",
      "our\n",
      "pagerank\n",
      "pagerank\n",
      "pagerank\n",
      "pagerank\n"
     ]
    },
    {
     "name": "stderr",
     "output_type": "stream",
     "text": [
      "\n",
      "\n",
      "\n",
      "\n",
      "\n",
      "\r",
      " 96%|█████████▌| 48/50 [08:01<00:32, 16.12s/it]"
     ]
    },
    {
     "name": "stdout",
     "output_type": "stream",
     "text": [
      "rand\n",
      "rand\n"
     ]
    },
    {
     "name": "stderr",
     "output_type": "stream",
     "text": [
      "\u001b[A\u001b[A\u001b[A\u001b[A\u001b[A\n",
      "\n",
      "\n",
      "\n",
      "\n",
      "100%|██████████| 50/50 [08:05<00:00, 11.90s/it]"
     ]
    },
    {
     "name": "stdout",
     "output_type": "stream",
     "text": [
      "rand\n"
     ]
    },
    {
     "name": "stderr",
     "output_type": "stream",
     "text": [
      "\u001b[A\u001b[A\u001b[A\u001b[A\u001b[A\n",
      "\n",
      "\n",
      "\n",
      "\n",
      "\u001b[A\u001b[A\u001b[A\u001b[A\u001b[A"
     ]
    },
    {
     "name": "stdout",
     "output_type": "stream",
     "text": [
      "rand\n",
      "our\n",
      "our\n",
      "our\n",
      "our\n",
      "pagerank\n",
      "pagerank\n",
      "pagerank\n",
      "pagerank\n",
      "rand\n",
      "rand\n",
      "our\n",
      "our\n",
      "pagerank\n",
      "pagerank\n"
     ]
    }
   ],
   "source": [
    "from joblib import Parallel, delayed\n",
    "\n",
    "n_rounds = 50\n",
    "n_samples=100\n",
    "n_queries = 10\n",
    "ks=[5, 10, 15]\n",
    "\n",
    "sc = Parallel(n_jobs=4)(delayed(one_combined_round)(g, n_queries, *gen_input(g, stop_fraction=0.25),                                                    \n",
    "                                                    inference_method='sampling',\n",
    "                                                    ks=ks,\n",
    "                                                    n_samples=n_samples)\n",
    "                     for i in tqdm(range(n_rounds)))\n"
   ]
  },
  {
   "cell_type": "code",
   "execution_count": 77,
   "metadata": {},
   "outputs": [],
   "source": [
    "scores = {k: {'random': [], 'pagerank': [], 'ours': []} for k in ks}\n",
    "\n",
    "for rand, our, pr in sc:\n",
    "    for k, seq_scores in rand.items():\n",
    "        scores[k]['random'].append(np.asarray(seq_scores))\n",
    "        \n",
    "    for k, seq_scores in our.items():\n",
    "        scores[k]['ours'].append(np.asarray(seq_scores))\n",
    "        \n",
    "    for k, seq_scores in pr.items():\n",
    "        scores[k]['pagerank'].append(np.asarray(seq_scores))        "
   ]
  },
  {
   "cell_type": "code",
   "execution_count": 78,
   "metadata": {},
   "outputs": [],
   "source": [
    "methods = ['random', 'ours', 'pagerank']\n",
    "mean_scores = {k: {} for k in ks}\n",
    "for k in ks:\n",
    "    for method in methods:    \n",
    "        mean_scores[k][method] = np.mean(np.asarray(scores[k][method]), axis=0)\n"
   ]
  },
  {
   "cell_type": "code",
   "execution_count": 80,
   "metadata": {},
   "outputs": [
    {
     "data": {
      "application/javascript": [
       "/* Put everything inside the global mpl namespace */\n",
       "window.mpl = {};\n",
       "\n",
       "mpl.get_websocket_type = function() {\n",
       "    if (typeof(WebSocket) !== 'undefined') {\n",
       "        return WebSocket;\n",
       "    } else if (typeof(MozWebSocket) !== 'undefined') {\n",
       "        return MozWebSocket;\n",
       "    } else {\n",
       "        alert('Your browser does not have WebSocket support.' +\n",
       "              'Please try Chrome, Safari or Firefox ≥ 6. ' +\n",
       "              'Firefox 4 and 5 are also supported but you ' +\n",
       "              'have to enable WebSockets in about:config.');\n",
       "    };\n",
       "}\n",
       "\n",
       "mpl.figure = function(figure_id, websocket, ondownload, parent_element) {\n",
       "    this.id = figure_id;\n",
       "\n",
       "    this.ws = websocket;\n",
       "\n",
       "    this.supports_binary = (this.ws.binaryType != undefined);\n",
       "\n",
       "    if (!this.supports_binary) {\n",
       "        var warnings = document.getElementById(\"mpl-warnings\");\n",
       "        if (warnings) {\n",
       "            warnings.style.display = 'block';\n",
       "            warnings.textContent = (\n",
       "                \"This browser does not support binary websocket messages. \" +\n",
       "                    \"Performance may be slow.\");\n",
       "        }\n",
       "    }\n",
       "\n",
       "    this.imageObj = new Image();\n",
       "\n",
       "    this.context = undefined;\n",
       "    this.message = undefined;\n",
       "    this.canvas = undefined;\n",
       "    this.rubberband_canvas = undefined;\n",
       "    this.rubberband_context = undefined;\n",
       "    this.format_dropdown = undefined;\n",
       "\n",
       "    this.image_mode = 'full';\n",
       "\n",
       "    this.root = $('<div/>');\n",
       "    this._root_extra_style(this.root)\n",
       "    this.root.attr('style', 'display: inline-block');\n",
       "\n",
       "    $(parent_element).append(this.root);\n",
       "\n",
       "    this._init_header(this);\n",
       "    this._init_canvas(this);\n",
       "    this._init_toolbar(this);\n",
       "\n",
       "    var fig = this;\n",
       "\n",
       "    this.waiting = false;\n",
       "\n",
       "    this.ws.onopen =  function () {\n",
       "            fig.send_message(\"supports_binary\", {value: fig.supports_binary});\n",
       "            fig.send_message(\"send_image_mode\", {});\n",
       "            fig.send_message(\"refresh\", {});\n",
       "        }\n",
       "\n",
       "    this.imageObj.onload = function() {\n",
       "            if (fig.image_mode == 'full') {\n",
       "                // Full images could contain transparency (where diff images\n",
       "                // almost always do), so we need to clear the canvas so that\n",
       "                // there is no ghosting.\n",
       "                fig.context.clearRect(0, 0, fig.canvas.width, fig.canvas.height);\n",
       "            }\n",
       "            fig.context.drawImage(fig.imageObj, 0, 0);\n",
       "        };\n",
       "\n",
       "    this.imageObj.onunload = function() {\n",
       "        this.ws.close();\n",
       "    }\n",
       "\n",
       "    this.ws.onmessage = this._make_on_message_function(this);\n",
       "\n",
       "    this.ondownload = ondownload;\n",
       "}\n",
       "\n",
       "mpl.figure.prototype._init_header = function() {\n",
       "    var titlebar = $(\n",
       "        '<div class=\"ui-dialog-titlebar ui-widget-header ui-corner-all ' +\n",
       "        'ui-helper-clearfix\"/>');\n",
       "    var titletext = $(\n",
       "        '<div class=\"ui-dialog-title\" style=\"width: 100%; ' +\n",
       "        'text-align: center; padding: 3px;\"/>');\n",
       "    titlebar.append(titletext)\n",
       "    this.root.append(titlebar);\n",
       "    this.header = titletext[0];\n",
       "}\n",
       "\n",
       "\n",
       "\n",
       "mpl.figure.prototype._canvas_extra_style = function(canvas_div) {\n",
       "\n",
       "}\n",
       "\n",
       "\n",
       "mpl.figure.prototype._root_extra_style = function(canvas_div) {\n",
       "\n",
       "}\n",
       "\n",
       "mpl.figure.prototype._init_canvas = function() {\n",
       "    var fig = this;\n",
       "\n",
       "    var canvas_div = $('<div/>');\n",
       "\n",
       "    canvas_div.attr('style', 'position: relative; clear: both; outline: 0');\n",
       "\n",
       "    function canvas_keyboard_event(event) {\n",
       "        return fig.key_event(event, event['data']);\n",
       "    }\n",
       "\n",
       "    canvas_div.keydown('key_press', canvas_keyboard_event);\n",
       "    canvas_div.keyup('key_release', canvas_keyboard_event);\n",
       "    this.canvas_div = canvas_div\n",
       "    this._canvas_extra_style(canvas_div)\n",
       "    this.root.append(canvas_div);\n",
       "\n",
       "    var canvas = $('<canvas/>');\n",
       "    canvas.addClass('mpl-canvas');\n",
       "    canvas.attr('style', \"left: 0; top: 0; z-index: 0; outline: 0\")\n",
       "\n",
       "    this.canvas = canvas[0];\n",
       "    this.context = canvas[0].getContext(\"2d\");\n",
       "\n",
       "    var rubberband = $('<canvas/>');\n",
       "    rubberband.attr('style', \"position: absolute; left: 0; top: 0; z-index: 1;\")\n",
       "\n",
       "    var pass_mouse_events = true;\n",
       "\n",
       "    canvas_div.resizable({\n",
       "        start: function(event, ui) {\n",
       "            pass_mouse_events = false;\n",
       "        },\n",
       "        resize: function(event, ui) {\n",
       "            fig.request_resize(ui.size.width, ui.size.height);\n",
       "        },\n",
       "        stop: function(event, ui) {\n",
       "            pass_mouse_events = true;\n",
       "            fig.request_resize(ui.size.width, ui.size.height);\n",
       "        },\n",
       "    });\n",
       "\n",
       "    function mouse_event_fn(event) {\n",
       "        if (pass_mouse_events)\n",
       "            return fig.mouse_event(event, event['data']);\n",
       "    }\n",
       "\n",
       "    rubberband.mousedown('button_press', mouse_event_fn);\n",
       "    rubberband.mouseup('button_release', mouse_event_fn);\n",
       "    // Throttle sequential mouse events to 1 every 20ms.\n",
       "    rubberband.mousemove('motion_notify', mouse_event_fn);\n",
       "\n",
       "    rubberband.mouseenter('figure_enter', mouse_event_fn);\n",
       "    rubberband.mouseleave('figure_leave', mouse_event_fn);\n",
       "\n",
       "    canvas_div.on(\"wheel\", function (event) {\n",
       "        event = event.originalEvent;\n",
       "        event['data'] = 'scroll'\n",
       "        if (event.deltaY < 0) {\n",
       "            event.step = 1;\n",
       "        } else {\n",
       "            event.step = -1;\n",
       "        }\n",
       "        mouse_event_fn(event);\n",
       "    });\n",
       "\n",
       "    canvas_div.append(canvas);\n",
       "    canvas_div.append(rubberband);\n",
       "\n",
       "    this.rubberband = rubberband;\n",
       "    this.rubberband_canvas = rubberband[0];\n",
       "    this.rubberband_context = rubberband[0].getContext(\"2d\");\n",
       "    this.rubberband_context.strokeStyle = \"#000000\";\n",
       "\n",
       "    this._resize_canvas = function(width, height) {\n",
       "        // Keep the size of the canvas, canvas container, and rubber band\n",
       "        // canvas in synch.\n",
       "        canvas_div.css('width', width)\n",
       "        canvas_div.css('height', height)\n",
       "\n",
       "        canvas.attr('width', width);\n",
       "        canvas.attr('height', height);\n",
       "\n",
       "        rubberband.attr('width', width);\n",
       "        rubberband.attr('height', height);\n",
       "    }\n",
       "\n",
       "    // Set the figure to an initial 600x600px, this will subsequently be updated\n",
       "    // upon first draw.\n",
       "    this._resize_canvas(600, 600);\n",
       "\n",
       "    // Disable right mouse context menu.\n",
       "    $(this.rubberband_canvas).bind(\"contextmenu\",function(e){\n",
       "        return false;\n",
       "    });\n",
       "\n",
       "    function set_focus () {\n",
       "        canvas.focus();\n",
       "        canvas_div.focus();\n",
       "    }\n",
       "\n",
       "    window.setTimeout(set_focus, 100);\n",
       "}\n",
       "\n",
       "mpl.figure.prototype._init_toolbar = function() {\n",
       "    var fig = this;\n",
       "\n",
       "    var nav_element = $('<div/>')\n",
       "    nav_element.attr('style', 'width: 100%');\n",
       "    this.root.append(nav_element);\n",
       "\n",
       "    // Define a callback function for later on.\n",
       "    function toolbar_event(event) {\n",
       "        return fig.toolbar_button_onclick(event['data']);\n",
       "    }\n",
       "    function toolbar_mouse_event(event) {\n",
       "        return fig.toolbar_button_onmouseover(event['data']);\n",
       "    }\n",
       "\n",
       "    for(var toolbar_ind in mpl.toolbar_items) {\n",
       "        var name = mpl.toolbar_items[toolbar_ind][0];\n",
       "        var tooltip = mpl.toolbar_items[toolbar_ind][1];\n",
       "        var image = mpl.toolbar_items[toolbar_ind][2];\n",
       "        var method_name = mpl.toolbar_items[toolbar_ind][3];\n",
       "\n",
       "        if (!name) {\n",
       "            // put a spacer in here.\n",
       "            continue;\n",
       "        }\n",
       "        var button = $('<button/>');\n",
       "        button.addClass('ui-button ui-widget ui-state-default ui-corner-all ' +\n",
       "                        'ui-button-icon-only');\n",
       "        button.attr('role', 'button');\n",
       "        button.attr('aria-disabled', 'false');\n",
       "        button.click(method_name, toolbar_event);\n",
       "        button.mouseover(tooltip, toolbar_mouse_event);\n",
       "\n",
       "        var icon_img = $('<span/>');\n",
       "        icon_img.addClass('ui-button-icon-primary ui-icon');\n",
       "        icon_img.addClass(image);\n",
       "        icon_img.addClass('ui-corner-all');\n",
       "\n",
       "        var tooltip_span = $('<span/>');\n",
       "        tooltip_span.addClass('ui-button-text');\n",
       "        tooltip_span.html(tooltip);\n",
       "\n",
       "        button.append(icon_img);\n",
       "        button.append(tooltip_span);\n",
       "\n",
       "        nav_element.append(button);\n",
       "    }\n",
       "\n",
       "    var fmt_picker_span = $('<span/>');\n",
       "\n",
       "    var fmt_picker = $('<select/>');\n",
       "    fmt_picker.addClass('mpl-toolbar-option ui-widget ui-widget-content');\n",
       "    fmt_picker_span.append(fmt_picker);\n",
       "    nav_element.append(fmt_picker_span);\n",
       "    this.format_dropdown = fmt_picker[0];\n",
       "\n",
       "    for (var ind in mpl.extensions) {\n",
       "        var fmt = mpl.extensions[ind];\n",
       "        var option = $(\n",
       "            '<option/>', {selected: fmt === mpl.default_extension}).html(fmt);\n",
       "        fmt_picker.append(option)\n",
       "    }\n",
       "\n",
       "    // Add hover states to the ui-buttons\n",
       "    $( \".ui-button\" ).hover(\n",
       "        function() { $(this).addClass(\"ui-state-hover\");},\n",
       "        function() { $(this).removeClass(\"ui-state-hover\");}\n",
       "    );\n",
       "\n",
       "    var status_bar = $('<span class=\"mpl-message\"/>');\n",
       "    nav_element.append(status_bar);\n",
       "    this.message = status_bar[0];\n",
       "}\n",
       "\n",
       "mpl.figure.prototype.request_resize = function(x_pixels, y_pixels) {\n",
       "    // Request matplotlib to resize the figure. Matplotlib will then trigger a resize in the client,\n",
       "    // which will in turn request a refresh of the image.\n",
       "    this.send_message('resize', {'width': x_pixels, 'height': y_pixels});\n",
       "}\n",
       "\n",
       "mpl.figure.prototype.send_message = function(type, properties) {\n",
       "    properties['type'] = type;\n",
       "    properties['figure_id'] = this.id;\n",
       "    this.ws.send(JSON.stringify(properties));\n",
       "}\n",
       "\n",
       "mpl.figure.prototype.send_draw_message = function() {\n",
       "    if (!this.waiting) {\n",
       "        this.waiting = true;\n",
       "        this.ws.send(JSON.stringify({type: \"draw\", figure_id: this.id}));\n",
       "    }\n",
       "}\n",
       "\n",
       "\n",
       "mpl.figure.prototype.handle_save = function(fig, msg) {\n",
       "    var format_dropdown = fig.format_dropdown;\n",
       "    var format = format_dropdown.options[format_dropdown.selectedIndex].value;\n",
       "    fig.ondownload(fig, format);\n",
       "}\n",
       "\n",
       "\n",
       "mpl.figure.prototype.handle_resize = function(fig, msg) {\n",
       "    var size = msg['size'];\n",
       "    if (size[0] != fig.canvas.width || size[1] != fig.canvas.height) {\n",
       "        fig._resize_canvas(size[0], size[1]);\n",
       "        fig.send_message(\"refresh\", {});\n",
       "    };\n",
       "}\n",
       "\n",
       "mpl.figure.prototype.handle_rubberband = function(fig, msg) {\n",
       "    var x0 = msg['x0'];\n",
       "    var y0 = fig.canvas.height - msg['y0'];\n",
       "    var x1 = msg['x1'];\n",
       "    var y1 = fig.canvas.height - msg['y1'];\n",
       "    x0 = Math.floor(x0) + 0.5;\n",
       "    y0 = Math.floor(y0) + 0.5;\n",
       "    x1 = Math.floor(x1) + 0.5;\n",
       "    y1 = Math.floor(y1) + 0.5;\n",
       "    var min_x = Math.min(x0, x1);\n",
       "    var min_y = Math.min(y0, y1);\n",
       "    var width = Math.abs(x1 - x0);\n",
       "    var height = Math.abs(y1 - y0);\n",
       "\n",
       "    fig.rubberband_context.clearRect(\n",
       "        0, 0, fig.canvas.width, fig.canvas.height);\n",
       "\n",
       "    fig.rubberband_context.strokeRect(min_x, min_y, width, height);\n",
       "}\n",
       "\n",
       "mpl.figure.prototype.handle_figure_label = function(fig, msg) {\n",
       "    // Updates the figure title.\n",
       "    fig.header.textContent = msg['label'];\n",
       "}\n",
       "\n",
       "mpl.figure.prototype.handle_cursor = function(fig, msg) {\n",
       "    var cursor = msg['cursor'];\n",
       "    switch(cursor)\n",
       "    {\n",
       "    case 0:\n",
       "        cursor = 'pointer';\n",
       "        break;\n",
       "    case 1:\n",
       "        cursor = 'default';\n",
       "        break;\n",
       "    case 2:\n",
       "        cursor = 'crosshair';\n",
       "        break;\n",
       "    case 3:\n",
       "        cursor = 'move';\n",
       "        break;\n",
       "    }\n",
       "    fig.rubberband_canvas.style.cursor = cursor;\n",
       "}\n",
       "\n",
       "mpl.figure.prototype.handle_message = function(fig, msg) {\n",
       "    fig.message.textContent = msg['message'];\n",
       "}\n",
       "\n",
       "mpl.figure.prototype.handle_draw = function(fig, msg) {\n",
       "    // Request the server to send over a new figure.\n",
       "    fig.send_draw_message();\n",
       "}\n",
       "\n",
       "mpl.figure.prototype.handle_image_mode = function(fig, msg) {\n",
       "    fig.image_mode = msg['mode'];\n",
       "}\n",
       "\n",
       "mpl.figure.prototype.updated_canvas_event = function() {\n",
       "    // Called whenever the canvas gets updated.\n",
       "    this.send_message(\"ack\", {});\n",
       "}\n",
       "\n",
       "// A function to construct a web socket function for onmessage handling.\n",
       "// Called in the figure constructor.\n",
       "mpl.figure.prototype._make_on_message_function = function(fig) {\n",
       "    return function socket_on_message(evt) {\n",
       "        if (evt.data instanceof Blob) {\n",
       "            /* FIXME: We get \"Resource interpreted as Image but\n",
       "             * transferred with MIME type text/plain:\" errors on\n",
       "             * Chrome.  But how to set the MIME type?  It doesn't seem\n",
       "             * to be part of the websocket stream */\n",
       "            evt.data.type = \"image/png\";\n",
       "\n",
       "            /* Free the memory for the previous frames */\n",
       "            if (fig.imageObj.src) {\n",
       "                (window.URL || window.webkitURL).revokeObjectURL(\n",
       "                    fig.imageObj.src);\n",
       "            }\n",
       "\n",
       "            fig.imageObj.src = (window.URL || window.webkitURL).createObjectURL(\n",
       "                evt.data);\n",
       "            fig.updated_canvas_event();\n",
       "            fig.waiting = false;\n",
       "            return;\n",
       "        }\n",
       "        else if (typeof evt.data === 'string' && evt.data.slice(0, 21) == \"data:image/png;base64\") {\n",
       "            fig.imageObj.src = evt.data;\n",
       "            fig.updated_canvas_event();\n",
       "            fig.waiting = false;\n",
       "            return;\n",
       "        }\n",
       "\n",
       "        var msg = JSON.parse(evt.data);\n",
       "        var msg_type = msg['type'];\n",
       "\n",
       "        // Call the  \"handle_{type}\" callback, which takes\n",
       "        // the figure and JSON message as its only arguments.\n",
       "        try {\n",
       "            var callback = fig[\"handle_\" + msg_type];\n",
       "        } catch (e) {\n",
       "            console.log(\"No handler for the '\" + msg_type + \"' message type: \", msg);\n",
       "            return;\n",
       "        }\n",
       "\n",
       "        if (callback) {\n",
       "            try {\n",
       "                // console.log(\"Handling '\" + msg_type + \"' message: \", msg);\n",
       "                callback(fig, msg);\n",
       "            } catch (e) {\n",
       "                console.log(\"Exception inside the 'handler_\" + msg_type + \"' callback:\", e, e.stack, msg);\n",
       "            }\n",
       "        }\n",
       "    };\n",
       "}\n",
       "\n",
       "// from http://stackoverflow.com/questions/1114465/getting-mouse-location-in-canvas\n",
       "mpl.findpos = function(e) {\n",
       "    //this section is from http://www.quirksmode.org/js/events_properties.html\n",
       "    var targ;\n",
       "    if (!e)\n",
       "        e = window.event;\n",
       "    if (e.target)\n",
       "        targ = e.target;\n",
       "    else if (e.srcElement)\n",
       "        targ = e.srcElement;\n",
       "    if (targ.nodeType == 3) // defeat Safari bug\n",
       "        targ = targ.parentNode;\n",
       "\n",
       "    // jQuery normalizes the pageX and pageY\n",
       "    // pageX,Y are the mouse positions relative to the document\n",
       "    // offset() returns the position of the element relative to the document\n",
       "    var x = e.pageX - $(targ).offset().left;\n",
       "    var y = e.pageY - $(targ).offset().top;\n",
       "\n",
       "    return {\"x\": x, \"y\": y};\n",
       "};\n",
       "\n",
       "/*\n",
       " * return a copy of an object with only non-object keys\n",
       " * we need this to avoid circular references\n",
       " * http://stackoverflow.com/a/24161582/3208463\n",
       " */\n",
       "function simpleKeys (original) {\n",
       "  return Object.keys(original).reduce(function (obj, key) {\n",
       "    if (typeof original[key] !== 'object')\n",
       "        obj[key] = original[key]\n",
       "    return obj;\n",
       "  }, {});\n",
       "}\n",
       "\n",
       "mpl.figure.prototype.mouse_event = function(event, name) {\n",
       "    var canvas_pos = mpl.findpos(event)\n",
       "\n",
       "    if (name === 'button_press')\n",
       "    {\n",
       "        this.canvas.focus();\n",
       "        this.canvas_div.focus();\n",
       "    }\n",
       "\n",
       "    var x = canvas_pos.x;\n",
       "    var y = canvas_pos.y;\n",
       "\n",
       "    this.send_message(name, {x: x, y: y, button: event.button,\n",
       "                             step: event.step,\n",
       "                             guiEvent: simpleKeys(event)});\n",
       "\n",
       "    /* This prevents the web browser from automatically changing to\n",
       "     * the text insertion cursor when the button is pressed.  We want\n",
       "     * to control all of the cursor setting manually through the\n",
       "     * 'cursor' event from matplotlib */\n",
       "    event.preventDefault();\n",
       "    return false;\n",
       "}\n",
       "\n",
       "mpl.figure.prototype._key_event_extra = function(event, name) {\n",
       "    // Handle any extra behaviour associated with a key event\n",
       "}\n",
       "\n",
       "mpl.figure.prototype.key_event = function(event, name) {\n",
       "\n",
       "    // Prevent repeat events\n",
       "    if (name == 'key_press')\n",
       "    {\n",
       "        if (event.which === this._key)\n",
       "            return;\n",
       "        else\n",
       "            this._key = event.which;\n",
       "    }\n",
       "    if (name == 'key_release')\n",
       "        this._key = null;\n",
       "\n",
       "    var value = '';\n",
       "    if (event.ctrlKey && event.which != 17)\n",
       "        value += \"ctrl+\";\n",
       "    if (event.altKey && event.which != 18)\n",
       "        value += \"alt+\";\n",
       "    if (event.shiftKey && event.which != 16)\n",
       "        value += \"shift+\";\n",
       "\n",
       "    value += 'k';\n",
       "    value += event.which.toString();\n",
       "\n",
       "    this._key_event_extra(event, name);\n",
       "\n",
       "    this.send_message(name, {key: value,\n",
       "                             guiEvent: simpleKeys(event)});\n",
       "    return false;\n",
       "}\n",
       "\n",
       "mpl.figure.prototype.toolbar_button_onclick = function(name) {\n",
       "    if (name == 'download') {\n",
       "        this.handle_save(this, null);\n",
       "    } else {\n",
       "        this.send_message(\"toolbar_button\", {name: name});\n",
       "    }\n",
       "};\n",
       "\n",
       "mpl.figure.prototype.toolbar_button_onmouseover = function(tooltip) {\n",
       "    this.message.textContent = tooltip;\n",
       "};\n",
       "mpl.toolbar_items = [[\"Home\", \"Reset original view\", \"fa fa-home icon-home\", \"home\"], [\"Back\", \"Back to  previous view\", \"fa fa-arrow-left icon-arrow-left\", \"back\"], [\"Forward\", \"Forward to next view\", \"fa fa-arrow-right icon-arrow-right\", \"forward\"], [\"\", \"\", \"\", \"\"], [\"Pan\", \"Pan axes with left mouse, zoom with right\", \"fa fa-arrows icon-move\", \"pan\"], [\"Zoom\", \"Zoom to rectangle\", \"fa fa-square-o icon-check-empty\", \"zoom\"], [\"\", \"\", \"\", \"\"], [\"Download\", \"Download plot\", \"fa fa-floppy-o icon-save\", \"download\"]];\n",
       "\n",
       "mpl.extensions = [\"eps\", \"pdf\", \"png\", \"ps\", \"raw\", \"svg\"];\n",
       "\n",
       "mpl.default_extension = \"png\";var comm_websocket_adapter = function(comm) {\n",
       "    // Create a \"websocket\"-like object which calls the given IPython comm\n",
       "    // object with the appropriate methods. Currently this is a non binary\n",
       "    // socket, so there is still some room for performance tuning.\n",
       "    var ws = {};\n",
       "\n",
       "    ws.close = function() {\n",
       "        comm.close()\n",
       "    };\n",
       "    ws.send = function(m) {\n",
       "        //console.log('sending', m);\n",
       "        comm.send(m);\n",
       "    };\n",
       "    // Register the callback with on_msg.\n",
       "    comm.on_msg(function(msg) {\n",
       "        //console.log('receiving', msg['content']['data'], msg);\n",
       "        // Pass the mpl event to the overriden (by mpl) onmessage function.\n",
       "        ws.onmessage(msg['content']['data'])\n",
       "    });\n",
       "    return ws;\n",
       "}\n",
       "\n",
       "mpl.mpl_figure_comm = function(comm, msg) {\n",
       "    // This is the function which gets called when the mpl process\n",
       "    // starts-up an IPython Comm through the \"matplotlib\" channel.\n",
       "\n",
       "    var id = msg.content.data.id;\n",
       "    // Get hold of the div created by the display call when the Comm\n",
       "    // socket was opened in Python.\n",
       "    var element = $(\"#\" + id);\n",
       "    var ws_proxy = comm_websocket_adapter(comm)\n",
       "\n",
       "    function ondownload(figure, format) {\n",
       "        window.open(figure.imageObj.src);\n",
       "    }\n",
       "\n",
       "    var fig = new mpl.figure(id, ws_proxy,\n",
       "                           ondownload,\n",
       "                           element.get(0));\n",
       "\n",
       "    // Call onopen now - mpl needs it, as it is assuming we've passed it a real\n",
       "    // web socket which is closed, not our websocket->open comm proxy.\n",
       "    ws_proxy.onopen();\n",
       "\n",
       "    fig.parent_element = element.get(0);\n",
       "    fig.cell_info = mpl.find_output_cell(\"<div id='\" + id + \"'></div>\");\n",
       "    if (!fig.cell_info) {\n",
       "        console.error(\"Failed to find cell for figure\", id, fig);\n",
       "        return;\n",
       "    }\n",
       "\n",
       "    var output_index = fig.cell_info[2]\n",
       "    var cell = fig.cell_info[0];\n",
       "\n",
       "};\n",
       "\n",
       "mpl.figure.prototype.handle_close = function(fig, msg) {\n",
       "    fig.root.unbind('remove')\n",
       "\n",
       "    // Update the output cell to use the data from the current canvas.\n",
       "    fig.push_to_output();\n",
       "    var dataURL = fig.canvas.toDataURL();\n",
       "    // Re-enable the keyboard manager in IPython - without this line, in FF,\n",
       "    // the notebook keyboard shortcuts fail.\n",
       "    IPython.keyboard_manager.enable()\n",
       "    $(fig.parent_element).html('<img src=\"' + dataURL + '\">');\n",
       "    fig.close_ws(fig, msg);\n",
       "}\n",
       "\n",
       "mpl.figure.prototype.close_ws = function(fig, msg){\n",
       "    fig.send_message('closing', msg);\n",
       "    // fig.ws.close()\n",
       "}\n",
       "\n",
       "mpl.figure.prototype.push_to_output = function(remove_interactive) {\n",
       "    // Turn the data on the canvas into data in the output cell.\n",
       "    var dataURL = this.canvas.toDataURL();\n",
       "    this.cell_info[1]['text/html'] = '<img src=\"' + dataURL + '\">';\n",
       "}\n",
       "\n",
       "mpl.figure.prototype.updated_canvas_event = function() {\n",
       "    // Tell IPython that the notebook contents must change.\n",
       "    IPython.notebook.set_dirty(true);\n",
       "    this.send_message(\"ack\", {});\n",
       "    var fig = this;\n",
       "    // Wait a second, then push the new image to the DOM so\n",
       "    // that it is saved nicely (might be nice to debounce this).\n",
       "    setTimeout(function () { fig.push_to_output() }, 1000);\n",
       "}\n",
       "\n",
       "mpl.figure.prototype._init_toolbar = function() {\n",
       "    var fig = this;\n",
       "\n",
       "    var nav_element = $('<div/>')\n",
       "    nav_element.attr('style', 'width: 100%');\n",
       "    this.root.append(nav_element);\n",
       "\n",
       "    // Define a callback function for later on.\n",
       "    function toolbar_event(event) {\n",
       "        return fig.toolbar_button_onclick(event['data']);\n",
       "    }\n",
       "    function toolbar_mouse_event(event) {\n",
       "        return fig.toolbar_button_onmouseover(event['data']);\n",
       "    }\n",
       "\n",
       "    for(var toolbar_ind in mpl.toolbar_items){\n",
       "        var name = mpl.toolbar_items[toolbar_ind][0];\n",
       "        var tooltip = mpl.toolbar_items[toolbar_ind][1];\n",
       "        var image = mpl.toolbar_items[toolbar_ind][2];\n",
       "        var method_name = mpl.toolbar_items[toolbar_ind][3];\n",
       "\n",
       "        if (!name) { continue; };\n",
       "\n",
       "        var button = $('<button class=\"btn btn-default\" href=\"#\" title=\"' + name + '\"><i class=\"fa ' + image + ' fa-lg\"></i></button>');\n",
       "        button.click(method_name, toolbar_event);\n",
       "        button.mouseover(tooltip, toolbar_mouse_event);\n",
       "        nav_element.append(button);\n",
       "    }\n",
       "\n",
       "    // Add the status bar.\n",
       "    var status_bar = $('<span class=\"mpl-message\" style=\"text-align:right; float: right;\"/>');\n",
       "    nav_element.append(status_bar);\n",
       "    this.message = status_bar[0];\n",
       "\n",
       "    // Add the close button to the window.\n",
       "    var buttongrp = $('<div class=\"btn-group inline pull-right\"></div>');\n",
       "    var button = $('<button class=\"btn btn-mini btn-primary\" href=\"#\" title=\"Stop Interaction\"><i class=\"fa fa-power-off icon-remove icon-large\"></i></button>');\n",
       "    button.click(function (evt) { fig.handle_close(fig, {}); } );\n",
       "    button.mouseover('Stop Interaction', toolbar_mouse_event);\n",
       "    buttongrp.append(button);\n",
       "    var titlebar = this.root.find($('.ui-dialog-titlebar'));\n",
       "    titlebar.prepend(buttongrp);\n",
       "}\n",
       "\n",
       "mpl.figure.prototype._root_extra_style = function(el){\n",
       "    var fig = this\n",
       "    el.on(\"remove\", function(){\n",
       "\tfig.close_ws(fig, {});\n",
       "    });\n",
       "}\n",
       "\n",
       "mpl.figure.prototype._canvas_extra_style = function(el){\n",
       "    // this is important to make the div 'focusable\n",
       "    el.attr('tabindex', 0)\n",
       "    // reach out to IPython and tell the keyboard manager to turn it's self\n",
       "    // off when our div gets focus\n",
       "\n",
       "    // location in version 3\n",
       "    if (IPython.notebook.keyboard_manager) {\n",
       "        IPython.notebook.keyboard_manager.register_events(el);\n",
       "    }\n",
       "    else {\n",
       "        // location in version 2\n",
       "        IPython.keyboard_manager.register_events(el);\n",
       "    }\n",
       "\n",
       "}\n",
       "\n",
       "mpl.figure.prototype._key_event_extra = function(event, name) {\n",
       "    var manager = IPython.notebook.keyboard_manager;\n",
       "    if (!manager)\n",
       "        manager = IPython.keyboard_manager;\n",
       "\n",
       "    // Check for shift+enter\n",
       "    if (event.shiftKey && event.which == 13) {\n",
       "        this.canvas_div.blur();\n",
       "        // select the cell after this one\n",
       "        var index = IPython.notebook.find_cell_index(this.cell_info[0]);\n",
       "        IPython.notebook.select(index + 1);\n",
       "    }\n",
       "}\n",
       "\n",
       "mpl.figure.prototype.handle_save = function(fig, msg) {\n",
       "    fig.ondownload(fig, null);\n",
       "}\n",
       "\n",
       "\n",
       "mpl.find_output_cell = function(html_output) {\n",
       "    // Return the cell and output element which can be found *uniquely* in the notebook.\n",
       "    // Note - this is a bit hacky, but it is done because the \"notebook_saving.Notebook\"\n",
       "    // IPython event is triggered only after the cells have been serialised, which for\n",
       "    // our purposes (turning an active figure into a static one), is too late.\n",
       "    var cells = IPython.notebook.get_cells();\n",
       "    var ncells = cells.length;\n",
       "    for (var i=0; i<ncells; i++) {\n",
       "        var cell = cells[i];\n",
       "        if (cell.cell_type === 'code'){\n",
       "            for (var j=0; j<cell.output_area.outputs.length; j++) {\n",
       "                var data = cell.output_area.outputs[j];\n",
       "                if (data.data) {\n",
       "                    // IPython >= 3 moved mimebundle to data attribute of output\n",
       "                    data = data.data;\n",
       "                }\n",
       "                if (data['text/html'] == html_output) {\n",
       "                    return [cell, data, j];\n",
       "                }\n",
       "            }\n",
       "        }\n",
       "    }\n",
       "}\n",
       "\n",
       "// Register the function which deals with the matplotlib target/channel.\n",
       "// The kernel may be null if the page has been refreshed.\n",
       "if (IPython.notebook.kernel != null) {\n",
       "    IPython.notebook.kernel.comm_manager.register_target('matplotlib', mpl.mpl_figure_comm);\n",
       "}\n"
      ],
      "text/plain": [
       "<IPython.core.display.Javascript object>"
      ]
     },
     "metadata": {},
     "output_type": "display_data"
    },
    {
     "data": {
      "text/html": [
       "<img src=\"data:image/png;base64,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\">"
      ],
      "text/plain": [
       "<IPython.core.display.HTML object>"
      ]
     },
     "metadata": {},
     "output_type": "display_data"
    }
   ],
   "source": [
    "fig, axes = plt.subplots(2, len(ks), figsize=(5*len(ks), 5*2), sharex=True)\n",
    "for i in range(2):  # column 0 - precision / column 1 - recall\n",
    "    for j, k in enumerate(ks):  # k\n",
    "        ax = axes[i, j] \n",
    "        for method in methods:\n",
    "            ax.plot(np.arange(n_queries), mean_scores[k][method][:, i]) \n",
    "        if i==0:\n",
    "            ax.set_title('k={}'.format(k))\n",
    "plt.legend(methods, loc='lower right')\n",
    "plt.savefig('figs/query_comparison_{}.pdf'.format(graph_name))"
   ]
  }
 ],
 "metadata": {
  "kernelspec": {
   "display_name": "Python 3",
   "language": "python",
   "name": "python3"
  },
  "language_info": {
   "codemirror_mode": {
    "name": "ipython",
    "version": 3
   },
   "file_extension": ".py",
   "mimetype": "text/x-python",
   "name": "python",
   "nbconvert_exporter": "python",
   "pygments_lexer": "ipython3",
   "version": "3.5.2"
  }
 },
 "nbformat": 4,
 "nbformat_minor": 2
}
