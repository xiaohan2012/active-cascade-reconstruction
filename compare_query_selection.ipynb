{
 "cells": [
  {
   "cell_type": "code",
   "execution_count": null,
   "metadata": {
    "collapsed": true,
    "deletable": true,
    "editable": true
   },
   "outputs": [],
   "source": [
    "%matplotlib notebook"
   ]
  },
  {
   "cell_type": "code",
   "execution_count": 1,
   "metadata": {
    "collapsed": false,
    "deletable": true,
    "editable": true
   },
   "outputs": [],
   "source": [
    "import numpy as np\n",
    "import random\n",
    "import itertools\n",
    "from graph_tool import Graph, GraphView\n",
    "from graph_tool.draw import graph_draw\n",
    "from tqdm import tqdm\n",
    "\n",
    "from matplotlib import pyplot as plt\n",
    "\n",
    "from viz_helpers import lattice_node_pos\n",
    "from minimum_steiner_tree import min_steiner_tree\n",
    "from cascade_generator import si, observe_cascade\n",
    "from eval_helpers import infection_precision_recall\n",
    "from graph_helpers import remove_filters, load_graph_by_name\n",
    "\n",
    "from inference import infer_infected_nodes\n",
    "from query_selection import RandomQueryGenerator, OurQueryGenerator, PRQueryGenerator\n",
    "from experiment import gen_input, one_round_experiment"
   ]
  },
  {
   "cell_type": "code",
   "execution_count": 2,
   "metadata": {
    "collapsed": false,
    "deletable": true,
    "editable": true
   },
   "outputs": [],
   "source": [
    "g = load_graph_by_name('dolphin')"
   ]
  },
  {
   "cell_type": "code",
   "execution_count": 3,
   "metadata": {
    "collapsed": false
   },
   "outputs": [
    {
     "data": {
      "text/plain": [
       "<GraphView object, undirected, with 62 vertices and 159 edges, edges filtered by (<PropertyMap object with key type 'Edge' and value type 'bool', for Graph 0x7f6fd411c128, at 0x7f6fd411c438>, False), vertices filtered by (<PropertyMap object with key type 'Vertex' and value type 'bool', for Graph 0x7f6fd411c128, at 0x7f6fbc3845f8>, False) at 0x7f6fd411c128>"
      ]
     },
     "execution_count": 3,
     "metadata": {},
     "output_type": "execute_result"
    }
   ],
   "source": [
    "g"
   ]
  },
  {
   "cell_type": "code",
   "execution_count": 4,
   "metadata": {
    "collapsed": false,
    "deletable": true,
    "editable": true
   },
   "outputs": [],
   "source": [
    "if False:\n",
    "    import graph_tool as gt\n",
    "    pos = gt.draw.sfdp_layout(gv)\n",
    "    vertex_text = g.new_vertex_property('string')\n",
    "    for v in g.vertices():\n",
    "        vertex_text[v] = str(v)\n",
    "    gt.draw.graph_draw(gv, pos=pos, vertex_text=vertex_text)"
   ]
  },
  {
   "cell_type": "code",
   "execution_count": null,
   "metadata": {
    "collapsed": false,
    "deletable": true,
    "editable": true,
    "scrolled": true
   },
   "outputs": [
    {
     "name": "stderr",
     "output_type": "stream",
     "text": [
      "\n",
      "  0%|          | 0/50 [00:00<?, ?it/s]\u001b[A\n",
      "  2%|▏         | 1/50 [00:05<04:25,  5.42s/it]\u001b[A\n",
      "Exception in thread Thread-4:\n",
      "Traceback (most recent call last):\n",
      "  File \"/usr/lib/python3.5/threading.py\", line 914, in _bootstrap_inner\n",
      "    self.run()\n",
      "  File \"/usr/local/lib/python3.5/dist-packages/tqdm/_tqdm.py\", line 102, in run\n",
      "    for instance in self.tqdm_cls._instances:\n",
      "  File \"/usr/lib/python3.5/_weakrefset.py\", line 60, in __iter__\n",
      "    for itemref in self.data:\n",
      "RuntimeError: Set changed size during iteration\n",
      "\n",
      " 14%|█▍        | 7/50 [00:35<03:37,  5.06s/it]"
     ]
    }
   ],
   "source": [
    "scores = {\n",
    "    'random': [],\n",
    "    'pagerank': [],\n",
    "    'ours': []\n",
    "}\n",
    "\n",
    "n_queries = 10\n",
    "\n",
    "for i in tqdm(range(50)):\n",
    "    obs, c = gen_input(g, stop_fraction=0.25)\n",
    "    \n",
    "    # for rand method\n",
    "    gv = remove_filters(g)\n",
    "    rand_gen = RandomQueryGenerator(gv, obs)\n",
    "    score = one_round_experiment(gv, obs, c, rand_gen, 'random', n_queries)\n",
    "    scores['random'].append(score)\n",
    "    \n",
    "    # for our method\n",
    "    gv = remove_filters(g)\n",
    "    our_gen = OurQueryGenerator(gv, obs, num_spt=20, num_stt=5,\n",
    "                                method='entropy',\n",
    "                                use_resample=False)\n",
    "    score = one_round_experiment(gv, obs, c, our_gen, 'ours', n_queries)    \n",
    "    scores['ours'].append(score)\n",
    "    \n",
    "    # for our pagerank\n",
    "    gv = remove_filters(g)\n",
    "    pr_gen = PRQueryGenerator(gv, obs)\n",
    "    score = one_round_experiment(gv, obs, c, pr_gen, 'pagerank', n_queries)\n",
    "    scores['pagerank'].append(score)\n"
   ]
  },
  {
   "cell_type": "code",
   "execution_count": null,
   "metadata": {
    "collapsed": false,
    "deletable": true,
    "editable": true
   },
   "outputs": [],
   "source": [
    "rand_mean_scores = np.mean(np.asarray(scores['random']), axis=0)\n",
    "our_mean_scores = np.mean(np.asarray(scores['ours']), axis=0)\n",
    "pr_mean_scores = np.mean(np.asarray(scores['pagerank']), axis=0)"
   ]
  },
  {
   "cell_type": "code",
   "execution_count": null,
   "metadata": {
    "collapsed": false,
    "deletable": true,
    "editable": true
   },
   "outputs": [],
   "source": [
    "rand_prec, rand_rec = zip(*rand_mean_scores)\n",
    "pr_prec, pr_rec = zip(*pr_mean_scores)\n",
    "our_prec, our_rec = zip(*our_mean_scores)\n",
    "fig = plt.figure()\n",
    "fig.clf()\n",
    "plt.plot(rand_prec)\n",
    "plt.plot(pr_prec)\n",
    "plt.plot(our_prec)\n",
    "plt.legend(['random', 'pagerank', 'ours'], loc='upper left')"
   ]
  },
  {
   "cell_type": "code",
   "execution_count": null,
   "metadata": {
    "collapsed": false,
    "deletable": true,
    "editable": true
   },
   "outputs": [],
   "source": [
    "plt.figure()\n",
    "plt.plot(rand_rec)\n",
    "plt.plot(pr_rec)\n",
    "plt.plot(our_rec)\n",
    "plt.legend(['random', 'pagerank', 'ours'], loc='upper left')"
   ]
  }
 ],
 "metadata": {
  "kernelspec": {
   "display_name": "Python 3",
   "language": "python",
   "name": "python3"
  },
  "language_info": {
   "codemirror_mode": {
    "name": "ipython",
    "version": 3
   },
   "file_extension": ".py",
   "mimetype": "text/x-python",
   "name": "python",
   "nbconvert_exporter": "python",
   "pygments_lexer": "ipython3",
   "version": "3.5.2"
  }
 },
 "nbformat": 4,
 "nbformat_minor": 2
}
