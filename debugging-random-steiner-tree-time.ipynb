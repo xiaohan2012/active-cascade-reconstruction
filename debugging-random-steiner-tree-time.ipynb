{
 "cells": [
  {
   "cell_type": "code",
   "execution_count": 62,
   "metadata": {},
   "outputs": [],
   "source": [
    "import re\n",
    "import pandas as pd\n",
    "import numpy as np\n",
    "from graph_helpers import load_graph_by_name\n",
    "from collections import defaultdict\n",
    "from graph_tool.topology import shortest_distance\n"
   ]
  },
  {
   "cell_type": "code",
   "execution_count": 63,
   "metadata": {},
   "outputs": [],
   "source": [
    "g = load_graph_by_name('digg')"
   ]
  },
  {
   "cell_type": "code",
   "execution_count": 64,
   "metadata": {},
   "outputs": [
    {
     "name": "stdout",
     "output_type": "stream",
     "text": [
      "279631\n",
      "1548131\n"
     ]
    }
   ],
   "source": [
    "print(g.num_vertices())\n",
    "print(g.num_edges())"
   ]
  },
  {
   "cell_type": "code",
   "execution_count": 65,
   "metadata": {},
   "outputs": [
    {
     "name": "stdout",
     "output_type": "stream",
     "text": [
      "root is 267154\n",
      "\n",
      "root is 267154\n",
      "\n",
      "root is 267154\n",
      "\n",
      "root is 267154\n",
      "\n",
      "root is 267154\n",
      "\n",
      "root is 267154\n",
      "\n",
      "root is 267154\n",
      "\n",
      "root is 267154\n",
      "\n",
      "root is 267154\n",
      "\n",
      "root is 267154\n",
      "\n",
      "root is 180561\n",
      "\n"
     ]
    }
   ],
   "source": [
    "node2times = defaultdict(list)\n",
    "node2occ = defaultdict(list)\n",
    "with open('logs/test_digg.log', 'r') as f:\n",
    "    idx = 0\n",
    "    for l in f:\n",
    "        if l.startswith('CPP'):\n",
    "            node, time = re.findall('\\{(.*?)\\}', l)\n",
    "            node = int(node)\n",
    "            time = float(time)\n",
    "            node2times[node].append(time)\n",
    "            node2occ[node].append(idx)\n",
    "            idx += 1\n",
    "        elif l.startswith('root'):\n",
    "            print(l)\n",
    "            idx = 0"
   ]
  },
  {
   "cell_type": "code",
   "execution_count": 80,
   "metadata": {},
   "outputs": [],
   "source": [
    "df = pd.DataFrame(list(zip(node2times.keys(), node2times.values(), node2occ.values())),\n",
    "                  columns=['node', 'times', 'occ'])"
   ]
  },
  {
   "cell_type": "code",
   "execution_count": 81,
   "metadata": {},
   "outputs": [],
   "source": [
    "df['mean_time'] = df['times'].apply(lambda r: np.mean(r))\n",
    "df['std_time'] = df['times'].apply(lambda r: np.std(r))\n",
    "df['mean_occ'] = df['occ'].apply(lambda r: np.mean(r))"
   ]
  },
  {
   "cell_type": "code",
   "execution_count": 82,
   "metadata": {},
   "outputs": [],
   "source": [
    "del df['times']\n",
    "del df['occ']"
   ]
  },
  {
   "cell_type": "code",
   "execution_count": 83,
   "metadata": {},
   "outputs": [],
   "source": [
    "source = 267154\n",
    "dist = shortest_distance(g, source=source)"
   ]
  },
  {
   "cell_type": "code",
   "execution_count": 84,
   "metadata": {},
   "outputs": [],
   "source": [
    "df['dist'] = [dist[n] for n in df['node']]"
   ]
  },
  {
   "cell_type": "code",
   "execution_count": 86,
   "metadata": {},
   "outputs": [
    {
     "data": {
      "text/html": [
       "<div>\n",
       "<table border=\"1\" class=\"dataframe\">\n",
       "  <thead>\n",
       "    <tr style=\"text-align: right;\">\n",
       "      <th></th>\n",
       "      <th>node</th>\n",
       "      <th>mean_time</th>\n",
       "      <th>std_time</th>\n",
       "      <th>mean_occ</th>\n",
       "      <th>dist</th>\n",
       "    </tr>\n",
       "  </thead>\n",
       "  <tbody>\n",
       "    <tr>\n",
       "      <th>162</th>\n",
       "      <td>97660</td>\n",
       "      <td>4.579999</td>\n",
       "      <td>2.819693</td>\n",
       "      <td>0.0</td>\n",
       "      <td>3</td>\n",
       "    </tr>\n",
       "    <tr>\n",
       "      <th>210</th>\n",
       "      <td>95218</td>\n",
       "      <td>0.004328</td>\n",
       "      <td>0.005191</td>\n",
       "      <td>1.0</td>\n",
       "      <td>3</td>\n",
       "    </tr>\n",
       "    <tr>\n",
       "      <th>150</th>\n",
       "      <td>30033</td>\n",
       "      <td>0.002977</td>\n",
       "      <td>0.002874</td>\n",
       "      <td>2.0</td>\n",
       "      <td>3</td>\n",
       "    </tr>\n",
       "    <tr>\n",
       "      <th>26</th>\n",
       "      <td>140868</td>\n",
       "      <td>0.001236</td>\n",
       "      <td>0.001350</td>\n",
       "      <td>16.0</td>\n",
       "      <td>2</td>\n",
       "    </tr>\n",
       "    <tr>\n",
       "      <th>5</th>\n",
       "      <td>110009</td>\n",
       "      <td>0.000717</td>\n",
       "      <td>0.001284</td>\n",
       "      <td>12.0</td>\n",
       "      <td>2</td>\n",
       "    </tr>\n",
       "    <tr>\n",
       "      <th>0</th>\n",
       "      <td>266241</td>\n",
       "      <td>0.000903</td>\n",
       "      <td>0.001099</td>\n",
       "      <td>5.0</td>\n",
       "      <td>3</td>\n",
       "    </tr>\n",
       "    <tr>\n",
       "      <th>127</th>\n",
       "      <td>156964</td>\n",
       "      <td>0.000937</td>\n",
       "      <td>0.000980</td>\n",
       "      <td>6.0</td>\n",
       "      <td>3</td>\n",
       "    </tr>\n",
       "    <tr>\n",
       "      <th>82</th>\n",
       "      <td>166077</td>\n",
       "      <td>0.000761</td>\n",
       "      <td>0.000924</td>\n",
       "      <td>3.0</td>\n",
       "      <td>2</td>\n",
       "    </tr>\n",
       "    <tr>\n",
       "      <th>3</th>\n",
       "      <td>75272</td>\n",
       "      <td>0.000613</td>\n",
       "      <td>0.000840</td>\n",
       "      <td>11.0</td>\n",
       "      <td>3</td>\n",
       "    </tr>\n",
       "    <tr>\n",
       "      <th>38</th>\n",
       "      <td>19547</td>\n",
       "      <td>0.000574</td>\n",
       "      <td>0.000805</td>\n",
       "      <td>27.0</td>\n",
       "      <td>3</td>\n",
       "    </tr>\n",
       "  </tbody>\n",
       "</table>\n",
       "</div>"
      ],
      "text/plain": [
       "       node  mean_time  std_time  mean_occ  dist\n",
       "162   97660   4.579999  2.819693       0.0     3\n",
       "210   95218   0.004328  0.005191       1.0     3\n",
       "150   30033   0.002977  0.002874       2.0     3\n",
       "26   140868   0.001236  0.001350      16.0     2\n",
       "5    110009   0.000717  0.001284      12.0     2\n",
       "0    266241   0.000903  0.001099       5.0     3\n",
       "127  156964   0.000937  0.000980       6.0     3\n",
       "82   166077   0.000761  0.000924       3.0     2\n",
       "3     75272   0.000613  0.000840      11.0     3\n",
       "38    19547   0.000574  0.000805      27.0     3"
      ]
     },
     "execution_count": 86,
     "metadata": {},
     "output_type": "execute_result"
    }
   ],
   "source": [
    "df.sort_values(by='std_time', ascending=False).head(10)"
   ]
  },
  {
   "cell_type": "code",
   "execution_count": 87,
   "metadata": {},
   "outputs": [
    {
     "data": {
      "text/html": [
       "<div>\n",
       "<table border=\"1\" class=\"dataframe\">\n",
       "  <thead>\n",
       "    <tr style=\"text-align: right;\">\n",
       "      <th></th>\n",
       "      <th>mean_time</th>\n",
       "      <th>mean_occ</th>\n",
       "    </tr>\n",
       "  </thead>\n",
       "  <tbody>\n",
       "    <tr>\n",
       "      <th>mean_time</th>\n",
       "      <td>1.000000</td>\n",
       "      <td>-0.624944</td>\n",
       "    </tr>\n",
       "    <tr>\n",
       "      <th>mean_occ</th>\n",
       "      <td>-0.624944</td>\n",
       "      <td>1.000000</td>\n",
       "    </tr>\n",
       "  </tbody>\n",
       "</table>\n",
       "</div>"
      ],
      "text/plain": [
       "           mean_time  mean_occ\n",
       "mean_time   1.000000 -0.624944\n",
       "mean_occ   -0.624944  1.000000"
      ]
     },
     "execution_count": 87,
     "metadata": {},
     "output_type": "execute_result"
    }
   ],
   "source": [
    "df[['mean_time', 'mean_occ']].corr(method='spearman')"
   ]
  },
  {
   "cell_type": "code",
   "execution_count": 88,
   "metadata": {},
   "outputs": [
    {
     "data": {
      "text/html": [
       "<div>\n",
       "<table border=\"1\" class=\"dataframe\">\n",
       "  <thead>\n",
       "    <tr style=\"text-align: right;\">\n",
       "      <th></th>\n",
       "      <th>mean_time</th>\n",
       "      <th>dist</th>\n",
       "    </tr>\n",
       "  </thead>\n",
       "  <tbody>\n",
       "    <tr>\n",
       "      <th>mean_time</th>\n",
       "      <td>1.000000</td>\n",
       "      <td>0.164057</td>\n",
       "    </tr>\n",
       "    <tr>\n",
       "      <th>dist</th>\n",
       "      <td>0.164057</td>\n",
       "      <td>1.000000</td>\n",
       "    </tr>\n",
       "  </tbody>\n",
       "</table>\n",
       "</div>"
      ],
      "text/plain": [
       "           mean_time      dist\n",
       "mean_time   1.000000  0.164057\n",
       "dist        0.164057  1.000000"
      ]
     },
     "execution_count": 88,
     "metadata": {},
     "output_type": "execute_result"
    }
   ],
   "source": [
    "df[['mean_time', 'dist']].corr(method='spearman')"
   ]
  }
 ],
 "metadata": {
  "kernelspec": {
   "display_name": "Python 3",
   "language": "python",
   "name": "python3"
  },
  "language_info": {
   "codemirror_mode": {
    "name": "ipython",
    "version": 3
   },
   "file_extension": ".py",
   "mimetype": "text/x-python",
   "name": "python",
   "nbconvert_exporter": "python",
   "pygments_lexer": "ipython3",
   "version": "3.5.2"
  }
 },
 "nbformat": 4,
 "nbformat_minor": 2
}
