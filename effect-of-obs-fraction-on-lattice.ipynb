{
 "cells": [
  {
   "cell_type": "code",
   "execution_count": 27,
   "metadata": {},
   "outputs": [],
   "source": [
    "%matplotlib inline"
   ]
  },
  {
   "cell_type": "code",
   "execution_count": 25,
   "metadata": {},
   "outputs": [],
   "source": [
    "import matplotlib as mpl\n",
    "from matplotlib import pyplot as plt\n",
    "from sklearn.metrics import average_precision_score, f1_score, roc_auc_score\n",
    "\n",
    "from helpers import load_cascades\n",
    "from graph_helpers import load_graph_by_name\n",
    "from eval_helpers import aggregate_scores_over_cascades_by_methods"
   ]
  },
  {
   "cell_type": "code",
   "execution_count": 36,
   "metadata": {},
   "outputs": [],
   "source": [
    "graph_name = 'lattice-1024'\n",
    "obs_frac = 0.5\n",
    "data_id = '{}-mic-s0.02-o{}'.format(graph_name, obs_frac)\n",
    "sampling_method = 'loop_erased'\n",
    "inf_dirname = 'inf_probas-weighted'\n",
    "query_dirname = 'queries-weighted'\n",
    "cascade_dirname = 'cascade-weighted'\n",
    "inf_result_dirname = 'outputs/{}/{}/{}'.format(inf_dirname,\n",
    "                                               data_id,\n",
    "                                               sampling_method)\n",
    "query_dirname = 'outputs/{}/{}/{}'.format(query_dirname,\n",
    "                                          data_id,\n",
    "                                          sampling_method)\n",
    "n_queries = 10"
   ]
  },
  {
   "cell_type": "code",
   "execution_count": 37,
   "metadata": {},
   "outputs": [
    {
     "name": "stdout",
     "output_type": "stream",
     "text": [
      "load graph from data/lattice-1024/graph.gt\n"
     ]
    }
   ],
   "source": [
    "g = load_graph_by_name(graph_name)\n",
    "cascades = load_cascades('{}/{}'.format(cascade_dirname, data_id))\n"
   ]
  },
  {
   "cell_type": "code",
   "execution_count": 38,
   "metadata": {},
   "outputs": [],
   "source": [
    "query_dir_ids = ['prediction_error']\n",
    "inf_dir_ids = ['prediction_error']\n",
    "labels = ['prederror']"
   ]
  },
  {
   "cell_type": "code",
   "execution_count": 39,
   "metadata": {},
   "outputs": [],
   "source": [
    "eval_func = average_precision_score"
   ]
  },
  {
   "cell_type": "code",
   "execution_count": 40,
   "metadata": {},
   "outputs": [
    {
     "name": "stderr",
     "output_type": "stream",
     "text": [
      "96it [00:01, 65.05it/s]\n"
     ]
    }
   ],
   "source": [
    "scores_by_method = aggregate_scores_over_cascades_by_methods(\n",
    "    cascades,\n",
    "    labels,\n",
    "    query_dir_ids,\n",
    "    inf_dir_ids,\n",
    "    n_queries,\n",
    "    inf_result_dirname,\n",
    "    query_dirname,\n",
    "    eval_func,\n",
    "    True)"
   ]
  },
  {
   "cell_type": "code",
   "execution_count": 47,
   "metadata": {},
   "outputs": [],
   "source": [
    "cascades = load_cascades('{}/{}'.format(cascade_dirname, data_id))\n",
    "paths = [tpl[0] for tpl in cascades]\n",
    "scores_with_path = list(zip(scores_by_method['prederror'], paths))"
   ]
  },
  {
   "cell_type": "code",
   "execution_count": 49,
   "metadata": {},
   "outputs": [],
   "source": [
    "most_decreasing_experiment = max(scores_with_path, key=lambda tpl: tpl[0][0] - tpl[0][-1])"
   ]
  },
  {
   "cell_type": "code",
   "execution_count": 51,
   "metadata": {},
   "outputs": [
    {
     "name": "stdout",
     "output_type": "stream",
     "text": [
      "path cascade-weighted/lattice-1024-mic-s0.02-o0.5/9.pkl\n"
     ]
    }
   ],
   "source": [
    "print('path', most_decreasing_experiment[1])"
   ]
  },
  {
   "cell_type": "code",
   "execution_count": 52,
   "metadata": {},
   "outputs": [
    {
     "data": {
      "text/plain": [
       "[<matplotlib.lines.Line2D at 0x7f414c3fc9b0>]"
      ]
     },
     "execution_count": 52,
     "metadata": {},
     "output_type": "execute_result"
    },
    {
     "data": {
      "image/png": "[encoded data removed]",
      "text/plain": [
       "<matplotlib.figure.Figure at 0x7f414c4207f0>"
      ]
     },
     "metadata": {},
     "output_type": "display_data"
    }
   ],
   "source": [
    "ax = plt.subplot()\n",
    "\n",
    "ax.plot(most_decreasing_experiment[0])\n",
    "# for y in scores[:5]:\n",
    "#     ax.plot(y)\n",
    "    "
   ]
  },
  {
   "cell_type": "code",
   "execution_count": 44,
   "metadata": {},
   "outputs": [],
   "source": []
  }
 ],
 "metadata": {
  "kernelspec": {
   "display_name": "Python 3",
   "language": "python",
   "name": "python3"
  },
  "language_info": {
   "codemirror_mode": {
    "name": "ipython",
    "version": 3
   },
   "file_extension": ".py",
   "mimetype": "text/x-python",
   "name": "python",
   "nbconvert_exporter": "python",
   "pygments_lexer": "ipython3",
   "version": "3.5.2"
  }
 },
 "nbformat": 4,
 "nbformat_minor": 2
}
