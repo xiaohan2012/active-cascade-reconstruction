{
 "cells": [
  {
   "cell_type": "code",
   "execution_count": null,
   "metadata": {},
   "outputs": [],
   "source": [
    "%matplotlib inline"
   ]
  },
  {
   "cell_type": "code",
   "execution_count": null,
   "metadata": {},
   "outputs": [],
   "source": [
    "import seaborn as sb"
   ]
  },
  {
   "cell_type": "code",
   "execution_count": null,
   "metadata": {},
   "outputs": [],
   "source": [
    "import pickle as pkl\n",
    "import numpy as np\n",
    "import pandas as pd\n",
    "import matplotlib\n",
    "from matplotlib import pyplot as plt\n",
    "from scipy.stats import pearsonr"
   ]
  },
  {
   "cell_type": "code",
   "execution_count": null,
   "metadata": {},
   "outputs": [],
   "source": [
    "pred_error, inf_proba = pkl.load(open('data-files/prediction-error-and-infection-proba.pkl', 'rb'))"
   ]
  },
  {
   "cell_type": "code",
   "execution_count": null,
   "metadata": {},
   "outputs": [],
   "source": [
    "nodes = list(pred_error.keys())"
   ]
  },
  {
   "cell_type": "code",
   "execution_count": null,
   "metadata": {},
   "outputs": [],
   "source": [
    "pred_error_array = np.array([pred_error[n] for n in nodes])\n",
    "inf_proba_array = np.array([inf_proba[n] for n in nodes])\n"
   ]
  },
  {
   "cell_type": "code",
   "execution_count": null,
   "metadata": {},
   "outputs": [],
   "source": [
    "ax.locator_params?"
   ]
  },
  {
   "cell_type": "code",
   "execution_count": null,
   "metadata": {},
   "outputs": [],
   "source": [
    "ax.scatter?"
   ]
  },
  {
   "cell_type": "code",
   "execution_count": null,
   "metadata": {
    "scrolled": true
   },
   "outputs": [],
   "source": [
    "pos_indices = np.nonzero(inf_proba_array > 0)[0]\n",
    "neg_indices = np.nonzero(inf_proba_array == 0)[0]\n",
    "noise_x = np.random.uniform(-0.01, 0.01, size=inf_proba_array.shape)\n",
    "noise_y = np.random.uniform(-0.25, 0.25, size=inf_proba_array.shape)\n",
    "\n",
    "styles = {\n",
    "    'edgecolors': 'none', \n",
    "    'alpha': 0.5,\n",
    "    's': 50\n",
    "}\n",
    "fig, ax = plt.subplots(figsize=(5,4))\n",
    "\n",
    "ax.scatter(inf_proba_array[pos_indices] + noise_x[pos_indices], \n",
    "            pred_error_array[pos_indices] + noise_y[pos_indices],\n",
    "            c='b', marker='*',\n",
    "           **styles)\n",
    "ax.scatter(inf_proba_array[neg_indices] + noise_x[neg_indices],\n",
    "            pred_error_array[neg_indices] + noise_y[neg_indices],\n",
    "            c='r', marker='o',\n",
    "           **styles)\n",
    "\n",
    "ax.set_xlim(-0.05, 0.55)\n",
    "# text\n",
    "ax.legend(['inf proba > 0', 'inf proba = 0'], fontsize=18)\n",
    "ax.set_xlabel('infection probability')\n",
    "ax.set_ylabel('prediction error')\n",
    "\n",
    "# font sizes\n",
    "for item in ([ax.xaxis.label, ax.yaxis.label]):\n",
    "    item.set_fontsize(20)\n",
    "for item in (ax.get_xticklabels() + ax.get_yticklabels()):\n",
    "    item.set_fontsize(14)\n",
    "\n",
    "# num. of ticks    \n",
    "plt.locator_params(axis='y', nbins=3)\n",
    "plt.locator_params(axis='x', nbins=5)    \n",
    "ax.locator_params(nticks=4)\n",
    "\n",
    "# misc\n",
    "fig.tight_layout()\n",
    "\n",
    "fig.savefig('figs/inf-proba-vs-pred-error.pdf')"
   ]
  },
  {
   "cell_type": "code",
   "execution_count": null,
   "metadata": {},
   "outputs": [],
   "source": [
    "fig, ax = plt.subplots"
   ]
  }
 ],
 "metadata": {
  "kernelspec": {
   "display_name": "Python 3",
   "language": "python",
   "name": "python3"
  },
  "language_info": {
   "codemirror_mode": {
    "name": "ipython",
    "version": 3
   },
   "file_extension": ".py",
   "mimetype": "text/x-python",
   "name": "python",
   "nbconvert_exporter": "python",
   "pygments_lexer": "ipython3",
   "version": "3.5.2"
  }
 },
 "nbformat": 4,
 "nbformat_minor": 2
}
