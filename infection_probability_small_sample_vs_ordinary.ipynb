{
 "cells": [
  {
   "cell_type": "code",
   "execution_count": 16,
   "metadata": {},
   "outputs": [],
   "source": [
    "%matplotlibplotlib inline"
   ]
  },
  {
   "cell_type": "code",
   "execution_count": 14,
   "metadata": {},
   "outputs": [],
   "source": [
    "import numpy as np\n",
    "import pandas as pd\n",
    "from tqdm import tqdm\n",
    "\n",
    "from core import sample_steiner_trees\n",
    "from experiment import gen_input\n",
    "from inference import infection_probability\n",
    "from graph_helpers import load_graph_by_name\n",
    "from viz_helpers import InfectionProbability, lattice_node_pos"
   ]
  },
  {
   "cell_type": "code",
   "execution_count": 4,
   "metadata": {},
   "outputs": [],
   "source": [
    "graph_name = 'lattice'\n",
    "g = load_graph_by_name(graph_name)\n",
    "pos = lattice_node_pos(g, (10, 10))"
   ]
  },
  {
   "cell_type": "code",
   "execution_count": 6,
   "metadata": {},
   "outputs": [],
   "source": [
    "n_rounds = 100\n",
    "n_samples = 200\n",
    "subset_size = 50\n",
    "stop_fraction = 0.25\n",
    "obs_fraction = 0.25"
   ]
  },
  {
   "cell_type": "code",
   "execution_count": 15,
   "metadata": {},
   "outputs": [
    {
     "name": "stderr",
     "output_type": "stream",
     "text": [
      "100%|██████████| 50/50 [03:19<00:00,  4.00s/it]\n"
     ]
    }
   ],
   "source": [
    "obs, c = gen_input(g, stop_fraction=stop_fraction, q=obs_fraction)\n",
    "\n",
    "viz = InfectionProbability(g, pos)\n",
    "\n",
    "small_st_trees = sample_steiner_trees(g, obs, n_samples, subset_size)\n",
    "st_trees = sample_steiner_trees(g, obs, n_samples)\n",
    "\n",
    "def beat_it(n):\n",
    "    small_stat = []\n",
    "    stat = []\n",
    "    \n",
    "    for i in tqdm(range(n), total=n):\n",
    "        obs, c = gen_input(g, stop_fraction=stop_fraction, q=obs_fraction)\n",
    "\n",
    "        small_st_trees = sample_steiner_trees(g, obs, n_samples, subset_size)\n",
    "        st_trees = sample_steiner_trees(g, obs, n_samples)\n",
    "\n",
    "        probas = infection_probability(g, obs, st_trees = small_st_trees)\n",
    "        summary = pd.Series([probas[n] for n in np.nonzero(c>=0)[0]]).describe()\n",
    "        small_stat.append((summary['25%'], summary['50%'], summary['75%']))\n",
    "\n",
    "        probas = infection_probability(g, obs, st_trees = st_trees)\n",
    "        summary = pd.Series([probas[n] for n in np.nonzero(c>=0)[0]]).describe()\n",
    "        stat.append((summary['25%'], summary['50%'], summary['75%']))\n",
    "        \n",
    "    return small_stat, stat\n",
    "\n",
    "small_stat, stat = beat_it(50)\n",
    "\n"
   ]
  },
  {
   "cell_type": "code",
   "execution_count": null,
   "metadata": {},
   "outputs": [],
   "source": [
    "small_df = pd.DataFrame.from_records(small_stat, columns=['25', '50', '75'])\n",
    "df = pd.DataFrame.from_records(stat, columns=['25', '50', '75'])\n",
    "\n",
    "print(small_df.mean())\n",
    "\n",
    "print(df.mean())\n",
    "\n"
   ]
  },
  {
   "cell_type": "code",
   "execution_count": null,
   "metadata": {},
   "outputs": [],
   "source": [
    "viz.plot(obs, sp_trees=small_st_trees)\n",
    "\n",
    "viz.plot(obs, sp_trees=st_trees)"
   ]
  }
 ],
 "metadata": {
  "kernelspec": {
   "display_name": "Python 3",
   "language": "python",
   "name": "python3"
  },
  "language_info": {
   "codemirror_mode": {
    "name": "ipython",
    "version": 3
   },
   "file_extension": ".py",
   "mimetype": "text/x-python",
   "name": "python",
   "nbconvert_exporter": "python",
   "pygments_lexer": "ipython3",
   "version": "3.5.2"
  }
 },
 "nbformat": 4,
 "nbformat_minor": 2
}
