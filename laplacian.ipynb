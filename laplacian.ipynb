{
 "cells": [
  {
   "cell_type": "code",
   "execution_count": 64,
   "metadata": {
    "collapsed": true,
    "deletable": true,
    "editable": true
   },
   "outputs": [],
   "source": [
    "import numpy as np\n",
    "import random\n",
    "from scipy.sparse import csr_matrix, diags\n",
    "from graph_tool.spectral import laplacian\n",
    "from graph_tool.generation import random_graph, lattice"
   ]
  },
  {
   "cell_type": "code",
   "execution_count": 28,
   "metadata": {
    "collapsed": true,
    "deletable": true,
    "editable": true
   },
   "outputs": [],
   "source": [
    "def deg_sample():\n",
    "    if random.random() > 0.5:\n",
    "        return np.random.poisson(4), np.random.poisson(4)\n",
    "    else:\n",
    "        return np.random.poisson(20), np.random.poisson(20)"
   ]
  },
  {
   "cell_type": "code",
   "execution_count": 28,
   "metadata": {
    "collapsed": false
   },
   "outputs": [],
   "source": [
    "\n",
    "def native():\n",
    "    import numpy as np\n",
    "    import random\n",
    "    from scipy.sparse import csr_matrix\n",
    "    from graph_tool.spectral import laplacian\n",
    "    from graph_tool.generation import random_graph\n",
    "    def deg_sample():\n",
    "        if random.random() > 0.5:\n",
    "            return np.random.poisson(4), np.random.poisson(4)\n",
    "        else:\n",
    "            return np.random.poisson(20), np.random.poisson(20)    \n",
    "    g = random_graph(100, deg_sample)\n",
    "    laplacian(g) \n"
   ]
  },
  {
   "cell_type": "code",
   "execution_count": 31,
   "metadata": {
    "collapsed": false
   },
   "outputs": [],
   "source": [
    "%lprun -f native for i in range(1000): native()"
   ]
  },
  {
   "cell_type": "code",
   "execution_count": 79,
   "metadata": {
    "collapsed": true,
    "deletable": true,
    "editable": true
   },
   "outputs": [],
   "source": [
    "def my_method():\n",
    "    import numpy as np\n",
    "    import random\n",
    "    from scipy.sparse import csr_matrix\n",
    "    from graph_tool.spectral import laplacian\n",
    "    from graph_tool.generation import random_graph\n",
    "    def deg_sample():\n",
    "        if random.random() > 0.5:\n",
    "            return np.random.poisson(4), np.random.poisson(4)\n",
    "        else:\n",
    "            return np.random.poisson(20), np.random.poisson(20)    \n",
    "    def get_laplacian(g):\n",
    "        n = g.num_vertices()\n",
    "        edges = g.get_edges()\n",
    "        row_ind = edges[:, 0]\n",
    "        col_ind = edges[:, 1]\n",
    "        data = np.ones(edges.shape[0])\n",
    "        a = csr_matrix((data, (row_ind, col_ind)), shape=(n, n))    \n",
    "        ba = (a + a.transpose())    \n",
    "        d = diags(np.ravel(ba.sum(axis=1)))\n",
    "        return d-a\n",
    "    g = random_graph(100, deg_sample)\n",
    "    get_laplacian(g)"
   ]
  },
  {
   "cell_type": "code",
   "execution_count": 80,
   "metadata": {
    "collapsed": true
   },
   "outputs": [],
   "source": [
    "%lprun -f my_method for i in range(1000): my_method()"
   ]
  },
  {
   "cell_type": "code",
   "execution_count": 41,
   "metadata": {
    "collapsed": false
   },
   "outputs": [],
   "source": [
    "g = lattice((10, 10))"
   ]
  },
  {
   "cell_type": "code",
   "execution_count": 78,
   "metadata": {
    "collapsed": true
   },
   "outputs": [],
   "source": [
    "def get_laplacian(g):\n",
    "    n = g.num_vertices()\n",
    "    edges = g.get_edges()\n",
    "    row_ind = edges[:, 0]\n",
    "    col_ind = edges[:, 1]\n",
    "    data = np.ones(edges.shape[0])\n",
    "    a = csr_matrix((data, (row_ind, col_ind)), shape=(n, n))    \n",
    "    ba = (a + a.transpose())    \n",
    "    d = diags(np.ravel(ba.sum(axis=1)))\n",
    "    return d-a\n"
   ]
  }
 ],
 "metadata": {
  "kernelspec": {
   "display_name": "Python 3",
   "language": "python",
   "name": "python3"
  }
 },
 "nbformat": 4,
 "nbformat_minor": 2
}
