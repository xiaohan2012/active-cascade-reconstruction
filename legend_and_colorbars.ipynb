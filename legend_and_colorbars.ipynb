{
 "cells": [
  {
   "cell_type": "code",
   "execution_count": 1,
   "metadata": {},
   "outputs": [],
   "source": [
    "%matplotlib inline"
   ]
  },
  {
   "cell_type": "code",
   "execution_count": 2,
   "metadata": {},
   "outputs": [],
   "source": [
    "import numpy as np\n",
    "import matplotlib as mpl\n",
    "# mpl.use('Agg')\n",
    "from matplotlib import pyplot as plt\n"
   ]
  },
  {
   "cell_type": "code",
   "execution_count": 10,
   "metadata": {},
   "outputs": [
    {
     "data": {
      "image/png": "[encoded data removed]",
      "text/plain": [
       "<matplotlib.figure.Figure at 0x7faa49320e10>"
      ]
     },
     "metadata": {},
     "output_type": "display_data"
    }
   ],
   "source": [
    "plt.style.use('paper')\n",
    "a = np.array([[0,1]])\n",
    "fig = plt.figure(figsize=(9, 1.5))\n",
    "img = plt.imshow(a, cmap=\"Reds\")\n",
    "plt.gca().set_visible(False)\n",
    "cax = plt.axes([0.11, 0.3, 0.8, 0.2])\n",
    "cbar = plt.colorbar(orientation=\"horizontal\", cax=cax, ticks=[0, 1])\n",
    "cbar.ax.set_xticklabels(['queried early', 'queried late'])\n",
    "cbar.outline.set_visible(False)\n",
    "plt.tick_params(axis='both', which='major', labelsize=18)\n",
    "# plt.tight_layout()\n",
    "plt.savefig('figs/inspect-query-process/cbar.pdf')\n"
   ]
  },
  {
   "cell_type": "code",
   "execution_count": 11,
   "metadata": {},
   "outputs": [
    {
     "data": {
      "image/png": "[encoded data removed]",
      "text/plain": [
       "<matplotlib.figure.Figure at 0x7faa4959cd68>"
      ]
     },
     "metadata": {},
     "output_type": "display_data"
    }
   ],
   "source": [
    "plt.style.use('paper')\n",
    "\n",
    "import matplotlib.pyplot as plt\n",
    "from viz_helpers import COLOR_BLUE, COLOR_WHITE, COLOR_YELLOW, COLOR_ORANGE\n",
    "\n",
    "appearance_configs = [\n",
    "    (COLOR_BLUE, 's', 20), (COLOR_YELLOW, 'o', 20), (COLOR_ORANGE, '^', 20), \n",
    "    (COLOR_YELLOW, 'p', 20), (COLOR_WHITE, 'o', 10)\n",
    "]\n",
    "labels = ['observed infected', 'hidden infected', 'query', 'source', 'hidden uninfected']\n",
    "\n",
    "handles = []\n",
    "for config in appearance_configs:\n",
    "    color, shape, size = config\n",
    "    h = plt.plot([],[],marker=shape, color=color, \n",
    "                 markersize=size,\n",
    "                 ls=\"none\")[0]\n",
    "    handles.append(h)\n",
    "    \n",
    "legend = plt.legend(handles, labels, loc=2,\n",
    "                    framealpha=1, frameon=False,\n",
    "                    ncol=3,\n",
    "                    numpoints=1)\n",
    "plt.axis('off')\n",
    "fig  = legend.figure\n",
    "fig.canvas.draw()\n",
    "bbox  = legend.get_window_extent().transformed(fig.dpi_scale_trans.inverted())\n",
    "fig.savefig('figs/inspect-query-process/legend.pdf', dpi=\"figure\", bbox_inches=bbox)\n",
    "# plt.show()"
   ]
  }
 ],
 "metadata": {
  "kernelspec": {
   "display_name": "Python 3",
   "language": "python",
   "name": "python3"
  },
  "language_info": {
   "codemirror_mode": {
    "name": "ipython",
    "version": 3
   },
   "file_extension": ".py",
   "mimetype": "text/x-python",
   "name": "python",
   "nbconvert_exporter": "python",
   "pygments_lexer": "ipython3",
   "version": "3.5.2"
  }
 },
 "nbformat": 4,
 "nbformat_minor": 2
}
