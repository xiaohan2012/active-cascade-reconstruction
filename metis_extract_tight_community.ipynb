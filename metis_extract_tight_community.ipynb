{
 "cells": [
  {
   "cell_type": "code",
   "execution_count": 20,
   "metadata": {},
   "outputs": [],
   "source": [
    "%matplotlib inline"
   ]
  },
  {
   "cell_type": "code",
   "execution_count": 17,
   "metadata": {},
   "outputs": [],
   "source": [
    "import networkx as nx\n",
    "import pandas as pd\n",
    "from graph_helpers import load_graph_by_name\n",
    "from collections import defaultdict\n",
    "import metis"
   ]
  },
  {
   "cell_type": "code",
   "execution_count": 221,
   "metadata": {},
   "outputs": [],
   "source": [
    "def get_cut(nodes):\n",
    "    node_set = set(nodes)\n",
    "    n_cut = 0\n",
    "    for u in nodes:\n",
    "        for v in g.neighbors(u):        \n",
    "            if v not in node_set:\n",
    "                n_cut += 1\n",
    "    return n_cut       "
   ]
  },
  {
   "cell_type": "code",
   "execution_count": 222,
   "metadata": {},
   "outputs": [],
   "source": [
    "def cut_from_each_node(nodes):\n",
    "    node_set = set(nodes)\n",
    "    cut = {}\n",
    "    for u in nodes:\n",
    "        cut[u] = 0\n",
    "        for v in g.neighbors(u):        \n",
    "            if v not in node_set:\n",
    "                cut[u] += 1\n",
    "    return cut       "
   ]
  },
  {
   "cell_type": "code",
   "execution_count": 247,
   "metadata": {},
   "outputs": [
    {
     "name": "stdout",
     "output_type": "stream",
     "text": [
      "load graph from data/grqc/graph.gt\n"
     ]
    }
   ],
   "source": [
    "gt = load_graph_by_name('grqc')"
   ]
  },
  {
   "cell_type": "code",
   "execution_count": 250,
   "metadata": {},
   "outputs": [
    {
     "data": {
      "text/plain": [
       "[<Vertex object with index '3605' at 0x7f2935c57a50>]"
      ]
     },
     "execution_count": 250,
     "metadata": {},
     "output_type": "execute_result"
    }
   ],
   "source": [
    "list(gt.vertex(0).out_neighbours())"
   ]
  },
  {
   "cell_type": "code",
   "execution_count": 204,
   "metadata": {},
   "outputs": [],
   "source": [
    "g = nx.read_graphml('data/grqc/graph.graphml')\n"
   ]
  },
  {
   "cell_type": "code",
   "execution_count": 206,
   "metadata": {},
   "outputs": [],
   "source": [
    "new_g = nx.Graph()\n",
    "for u, v in g.edges_iter():\n",
    "    new_g.add_edge(int(u), int(v))"
   ]
  },
  {
   "cell_type": "code",
   "execution_count": 213,
   "metadata": {},
   "outputs": [],
   "source": [
    "g = new_g"
   ]
  },
  {
   "cell_type": "code",
   "execution_count": 256,
   "metadata": {},
   "outputs": [],
   "source": [
    "assert gt.num_vertices() == g.number_of_nodes()\n",
    "assert gt.num_edges() == g.number_of_edges()\n",
    "\n",
    "for u, v in g.edges_iter():\n",
    "    assert gt.edge(u, v) is not None\n"
   ]
  },
  {
   "cell_type": "code",
   "execution_count": 216,
   "metadata": {},
   "outputs": [],
   "source": [
    "k = 50\n",
    "cuts, comm = metis.part_graph(g, k)"
   ]
  },
  {
   "cell_type": "code",
   "execution_count": 217,
   "metadata": {},
   "outputs": [],
   "source": [
    "comm_list = defaultdict(list)\n",
    "for v, c in enumerate(comm):\n",
    "    comm_list[c].append(v)"
   ]
  },
  {
   "cell_type": "code",
   "execution_count": 218,
   "metadata": {},
   "outputs": [],
   "source": [
    "comm_cuts = {c: get_cut(nodes) for c, nodes in comm_list.items()}\n",
    "records = [{'id': c, 'nodes': comm_list[c], 'cut': comm_cuts[c]} for c in comm_list]\n",
    "df = pd.DataFrame.from_records(records)\n",
    "df['size'] = df['nodes'].apply(len)\n",
    "df['ratio'] = df['size'] / df['cut']"
   ]
  },
  {
   "cell_type": "code",
   "execution_count": 243,
   "metadata": {},
   "outputs": [
    {
     "data": {
      "text/plain": [
       "Int64Index([28, 43, 15, 8, 37, 30, 27, 26, 39, 33, 3, 11], dtype='int64')"
      ]
     },
     "execution_count": 243,
     "metadata": {},
     "output_type": "execute_result"
    }
   ],
   "source": [
    "top_comms = df.sort_values('ratio', ascending=False).head(12)\n",
    "top_comms.index"
   ]
  },
  {
   "cell_type": "code",
   "execution_count": 246,
   "metadata": {
    "scrolled": true
   },
   "outputs": [],
   "source": [
    "for i, cid in enumerate(top_comms.index): \n",
    "    c = np.ones(g.number_of_nodes()) * -1\n",
    "    nodes = df.iloc[cid]['nodes']\n",
    "    cd = cut_from_each_node(nodes)\n",
    "    source = min(nodes, key=cd.__getitem__)\n",
    "    c[nodes] = 1    \n",
    "    c[source] = 0\n",
    "    \n",
    "    for j in range(8):\n",
    "        obs = np.random.permutation(nodes)[:int(len(nodes) * 0.2)]\n",
    "        pkl.dump((obs, c), open('cascade-weighted/grqc-mcom-s0.02-o0.2/{}.pkl'.format(i * 8 + j), 'wb'))"
   ]
  },
  {
   "cell_type": "code",
   "execution_count": 257,
   "metadata": {},
   "outputs": [],
   "source": [
    "import pickle as pkl\n",
    "import numpy as np\n",
    "from helpers import infected_nodes\n",
    "cuts = []\n",
    "for i in np.arange(0, 96, 8):\n",
    "    _, c = pkl.load(open('cascade-weighted/grqc-msi-s0.02-o0.2/{}.pkl'.format(i), 'rb'))\n",
    "    nodes = list(infected_nodes(c))\n",
    "    cuts.append(get_cut(nodes))"
   ]
  },
  {
   "cell_type": "code",
   "execution_count": 258,
   "metadata": {},
   "outputs": [
    {
     "name": "stdout",
     "output_type": "stream",
     "text": [
      "mean cut 481.3333333333333\n"
     ]
    }
   ],
   "source": [
    "print('mean cut', np.mean(cuts))"
   ]
  },
  {
   "cell_type": "code",
   "execution_count": 260,
   "metadata": {},
   "outputs": [
    {
     "name": "stdout",
     "output_type": "stream",
     "text": [
      "mean cut in this case 41.333333333333336\n"
     ]
    }
   ],
   "source": [
    "print('mean cut in this case', top_comms['cut'].mean())"
   ]
  },
  {
   "cell_type": "code",
   "execution_count": 270,
   "metadata": {},
   "outputs": [],
   "source": [
    "from glob import glob\n",
    "def mean_runnig_time(d):\n",
    "    return np.mean([pkl.load(open(p, 'rb'))['time_elapsed'] for p in glob(d + '/*.meta.pkl')])"
   ]
  },
  {
   "cell_type": "code",
   "execution_count": 271,
   "metadata": {},
   "outputs": [
    {
     "data": {
      "text/plain": [
       "269.7858134607474"
      ]
     },
     "execution_count": 271,
     "metadata": {},
     "output_type": "execute_result"
    }
   ],
   "source": [
    "mean_runnig_time('outputs/queries-weighted/grqc-msi-s0.02-o0.2/loop_erased/entropy')"
   ]
  },
  {
   "cell_type": "code",
   "execution_count": 273,
   "metadata": {},
   "outputs": [
    {
     "name": "stderr",
     "output_type": "stream",
     "text": [
      "/usr/local/lib/python3.5/dist-packages/numpy/core/fromnumeric.py:2957: RuntimeWarning: Mean of empty slice.\n",
      "  out=out, **kwargs)\n",
      "/usr/local/lib/python3.5/dist-packages/numpy/core/_methods.py:80: RuntimeWarning: invalid value encountered in double_scalars\n",
      "  ret = ret.dtype.type(ret / rcount)\n"
     ]
    },
    {
     "data": {
      "text/plain": [
       "nan"
      ]
     },
     "execution_count": 273,
     "metadata": {},
     "output_type": "execute_result"
    }
   ],
   "source": [
    "mean_runnig_time('outputs/queries-weighted/grqc-mcomm-s0.02-o0.2/loop_erased/entropy')"
   ]
  }
 ],
 "metadata": {
  "kernelspec": {
   "display_name": "Python 3",
   "language": "python",
   "name": "python3"
  },
  "language_info": {
   "codemirror_mode": {
    "name": "ipython",
    "version": 3
   },
   "file_extension": ".py",
   "mimetype": "text/x-python",
   "name": "python",
   "nbconvert_exporter": "python",
   "pygments_lexer": "ipython3",
   "version": "3.5.2"
  }
 },
 "nbformat": 4,
 "nbformat_minor": 2
}
