{
 "cells": [
  {
   "cell_type": "code",
   "execution_count": 17,
   "metadata": {},
   "outputs": [],
   "source": [
    "%matplotlib inline"
   ]
  },
  {
   "cell_type": "code",
   "execution_count": 33,
   "metadata": {},
   "outputs": [],
   "source": [
    "import networkx as nx\n",
    "import pandas as pd\n",
    "import metis\n",
    "import pickle as pkl\n",
    "import numpy as np\n",
    "\n",
    "from graph_helpers import load_graph_by_name\n",
    "from collections import defaultdict\n",
    "from helpers import infected_nodes"
   ]
  },
  {
   "cell_type": "code",
   "execution_count": 19,
   "metadata": {},
   "outputs": [],
   "source": [
    "def get_cut(nodes):\n",
    "    node_set = set(nodes)\n",
    "    n_cut = 0\n",
    "    for u in nodes:\n",
    "        for v in g.neighbors(u):        \n",
    "            if v not in node_set:\n",
    "                n_cut += 1\n",
    "    return n_cut       "
   ]
  },
  {
   "cell_type": "code",
   "execution_count": 20,
   "metadata": {},
   "outputs": [],
   "source": [
    "def cut_from_each_node(nodes):\n",
    "    node_set = set(nodes)\n",
    "    cut = {}\n",
    "    for u in nodes:\n",
    "        cut[u] = 0\n",
    "        for v in g.neighbors(u):        \n",
    "            if v not in node_set:\n",
    "                cut[u] += 1\n",
    "    return cut       "
   ]
  },
  {
   "cell_type": "code",
   "execution_count": 21,
   "metadata": {},
   "outputs": [
    {
     "name": "stdout",
     "output_type": "stream",
     "text": [
      "load graph from data/grqc/graph.gt\n"
     ]
    }
   ],
   "source": [
    "gt = load_graph_by_name('grqc')"
   ]
  },
  {
   "cell_type": "code",
   "execution_count": 22,
   "metadata": {},
   "outputs": [
    {
     "data": {
      "text/plain": [
       "[<Vertex object with index '3605' at 0x7f42851fa9f0>]"
      ]
     },
     "execution_count": 22,
     "metadata": {},
     "output_type": "execute_result"
    }
   ],
   "source": [
    "list(gt.vertex(0).out_neighbours())"
   ]
  },
  {
   "cell_type": "code",
   "execution_count": 23,
   "metadata": {},
   "outputs": [],
   "source": [
    "g = nx.read_graphml('data/grqc/graph.graphml')\n"
   ]
  },
  {
   "cell_type": "code",
   "execution_count": 24,
   "metadata": {},
   "outputs": [],
   "source": [
    "new_g = nx.Graph()\n",
    "for u, v in g.edges_iter():\n",
    "    new_g.add_edge(int(u), int(v))"
   ]
  },
  {
   "cell_type": "code",
   "execution_count": 25,
   "metadata": {},
   "outputs": [],
   "source": [
    "g = new_g"
   ]
  },
  {
   "cell_type": "code",
   "execution_count": 26,
   "metadata": {},
   "outputs": [],
   "source": [
    "assert gt.num_vertices() == g.number_of_nodes()\n",
    "assert gt.num_edges() == g.number_of_edges()\n",
    "\n",
    "for u, v in g.edges_iter():\n",
    "    assert gt.edge(u, v) is not None\n"
   ]
  },
  {
   "cell_type": "code",
   "execution_count": 27,
   "metadata": {},
   "outputs": [],
   "source": [
    "k = 50\n",
    "cuts, comm = metis.part_graph(g, k)"
   ]
  },
  {
   "cell_type": "code",
   "execution_count": 28,
   "metadata": {},
   "outputs": [],
   "source": [
    "comm_list = defaultdict(list)\n",
    "for v, c in enumerate(comm):\n",
    "    comm_list[c].append(v)"
   ]
  },
  {
   "cell_type": "code",
   "execution_count": 29,
   "metadata": {},
   "outputs": [],
   "source": [
    "comm_cuts = {c: get_cut(nodes) for c, nodes in comm_list.items()}\n",
    "records = [{'id': c, 'nodes': comm_list[c], 'cut': comm_cuts[c]} for c in comm_list]\n",
    "df = pd.DataFrame.from_records(records)\n",
    "df['size'] = df['nodes'].apply(len)\n",
    "df['ratio'] = df['size'] / df['cut']"
   ]
  },
  {
   "cell_type": "code",
   "execution_count": 30,
   "metadata": {},
   "outputs": [
    {
     "data": {
      "text/plain": [
       "Int64Index([6, 27, 35, 25, 3, 5, 7, 15, 44, 40, 17, 31], dtype='int64')"
      ]
     },
     "execution_count": 30,
     "metadata": {},
     "output_type": "execute_result"
    }
   ],
   "source": [
    "top_comms = df.sort_values('ratio', ascending=False).head(12)\n",
    "top_comms.index"
   ]
  },
  {
   "cell_type": "code",
   "execution_count": 31,
   "metadata": {},
   "outputs": [
    {
     "data": {
      "text/html": [
       "<div>\n",
       "<style scoped>\n",
       "    .dataframe tbody tr th:only-of-type {\n",
       "        vertical-align: middle;\n",
       "    }\n",
       "\n",
       "    .dataframe tbody tr th {\n",
       "        vertical-align: top;\n",
       "    }\n",
       "\n",
       "    .dataframe thead th {\n",
       "        text-align: right;\n",
       "    }\n",
       "</style>\n",
       "<table border=\"1\" class=\"dataframe\">\n",
       "  <thead>\n",
       "    <tr style=\"text-align: right;\">\n",
       "      <th></th>\n",
       "      <th>cut</th>\n",
       "      <th>id</th>\n",
       "      <th>nodes</th>\n",
       "      <th>size</th>\n",
       "      <th>ratio</th>\n",
       "    </tr>\n",
       "  </thead>\n",
       "  <tbody>\n",
       "    <tr>\n",
       "      <th>6</th>\n",
       "      <td>23</td>\n",
       "      <td>6</td>\n",
       "      <td>[16, 71, 132, 147, 151, 165, 186, 231, 328, 42...</td>\n",
       "      <td>84</td>\n",
       "      <td>3.652174</td>\n",
       "    </tr>\n",
       "    <tr>\n",
       "      <th>27</th>\n",
       "      <td>27</td>\n",
       "      <td>27</td>\n",
       "      <td>[43, 54, 86, 137, 143, 152, 171, 174, 178, 225...</td>\n",
       "      <td>82</td>\n",
       "      <td>3.037037</td>\n",
       "    </tr>\n",
       "    <tr>\n",
       "      <th>35</th>\n",
       "      <td>30</td>\n",
       "      <td>35</td>\n",
       "      <td>[50, 100, 190, 197, 220, 229, 251, 300, 311, 4...</td>\n",
       "      <td>83</td>\n",
       "      <td>2.766667</td>\n",
       "    </tr>\n",
       "    <tr>\n",
       "      <th>25</th>\n",
       "      <td>31</td>\n",
       "      <td>25</td>\n",
       "      <td>[39, 56, 57, 83, 98, 141, 235, 264, 266, 305, ...</td>\n",
       "      <td>83</td>\n",
       "      <td>2.677419</td>\n",
       "    </tr>\n",
       "    <tr>\n",
       "      <th>3</th>\n",
       "      <td>32</td>\n",
       "      <td>3</td>\n",
       "      <td>[18, 30, 31, 82, 145, 255, 473, 563, 582, 600,...</td>\n",
       "      <td>83</td>\n",
       "      <td>2.593750</td>\n",
       "    </tr>\n",
       "    <tr>\n",
       "      <th>5</th>\n",
       "      <td>35</td>\n",
       "      <td>5</td>\n",
       "      <td>[15, 61, 139, 172, 196, 198, 214, 227, 275, 28...</td>\n",
       "      <td>83</td>\n",
       "      <td>2.371429</td>\n",
       "    </tr>\n",
       "    <tr>\n",
       "      <th>7</th>\n",
       "      <td>36</td>\n",
       "      <td>7</td>\n",
       "      <td>[53, 59, 93, 99, 114, 134, 158, 179, 188, 319,...</td>\n",
       "      <td>82</td>\n",
       "      <td>2.277778</td>\n",
       "    </tr>\n",
       "    <tr>\n",
       "      <th>15</th>\n",
       "      <td>42</td>\n",
       "      <td>15</td>\n",
       "      <td>[0, 10, 17, 25, 47, 78, 95, 117, 217, 283, 295...</td>\n",
       "      <td>85</td>\n",
       "      <td>2.023810</td>\n",
       "    </tr>\n",
       "    <tr>\n",
       "      <th>44</th>\n",
       "      <td>46</td>\n",
       "      <td>44</td>\n",
       "      <td>[9, 112, 113, 126, 130, 206, 208, 434, 533, 62...</td>\n",
       "      <td>84</td>\n",
       "      <td>1.826087</td>\n",
       "    </tr>\n",
       "    <tr>\n",
       "      <th>40</th>\n",
       "      <td>48</td>\n",
       "      <td>40</td>\n",
       "      <td>[12, 35, 123, 144, 194, 207, 240, 247, 303, 42...</td>\n",
       "      <td>85</td>\n",
       "      <td>1.770833</td>\n",
       "    </tr>\n",
       "    <tr>\n",
       "      <th>17</th>\n",
       "      <td>53</td>\n",
       "      <td>17</td>\n",
       "      <td>[108, 120, 148, 154, 202, 317, 320, 344, 364, ...</td>\n",
       "      <td>85</td>\n",
       "      <td>1.603774</td>\n",
       "    </tr>\n",
       "    <tr>\n",
       "      <th>31</th>\n",
       "      <td>52</td>\n",
       "      <td>31</td>\n",
       "      <td>[150, 232, 359, 371, 421, 432, 448, 459, 511, ...</td>\n",
       "      <td>81</td>\n",
       "      <td>1.557692</td>\n",
       "    </tr>\n",
       "  </tbody>\n",
       "</table>\n",
       "</div>"
      ],
      "text/plain": [
       "    cut  id                                              nodes  size     ratio\n",
       "6    23   6  [16, 71, 132, 147, 151, 165, 186, 231, 328, 42...    84  3.652174\n",
       "27   27  27  [43, 54, 86, 137, 143, 152, 171, 174, 178, 225...    82  3.037037\n",
       "35   30  35  [50, 100, 190, 197, 220, 229, 251, 300, 311, 4...    83  2.766667\n",
       "25   31  25  [39, 56, 57, 83, 98, 141, 235, 264, 266, 305, ...    83  2.677419\n",
       "3    32   3  [18, 30, 31, 82, 145, 255, 473, 563, 582, 600,...    83  2.593750\n",
       "5    35   5  [15, 61, 139, 172, 196, 198, 214, 227, 275, 28...    83  2.371429\n",
       "7    36   7  [53, 59, 93, 99, 114, 134, 158, 179, 188, 319,...    82  2.277778\n",
       "15   42  15  [0, 10, 17, 25, 47, 78, 95, 117, 217, 283, 295...    85  2.023810\n",
       "44   46  44  [9, 112, 113, 126, 130, 206, 208, 434, 533, 62...    84  1.826087\n",
       "40   48  40  [12, 35, 123, 144, 194, 207, 240, 247, 303, 42...    85  1.770833\n",
       "17   53  17  [108, 120, 148, 154, 202, 317, 320, 344, 364, ...    85  1.603774\n",
       "31   52  31  [150, 232, 359, 371, 421, 432, 448, 459, 511, ...    81  1.557692"
      ]
     },
     "execution_count": 31,
     "metadata": {},
     "output_type": "execute_result"
    }
   ],
   "source": [
    "top_comms"
   ]
  },
  {
   "cell_type": "code",
   "execution_count": 35,
   "metadata": {
    "scrolled": true
   },
   "outputs": [],
   "source": [
    "for i, cid in enumerate(top_comms.index): \n",
    "    c = np.ones(g.number_of_nodes()) * -1\n",
    "    nodes = df.iloc[cid]['nodes']\n",
    "    cd = cut_from_each_node(nodes)\n",
    "    source = min(nodes, key=cd.__getitem__)\n",
    "    c[nodes] = 1    \n",
    "    c[source] = 0\n",
    "    \n",
    "    for j in range(8):\n",
    "        obs = np.random.permutation(nodes)[:int(len(nodes) * 0.2)]\n",
    "        pkl.dump((obs, c), open('cascade-weighted/grqc-sto-mcom-s0.02-o0.2/{}.pkl'.format(i * 8 + j), 'wb'))"
   ]
  },
  {
   "cell_type": "code",
   "execution_count": 257,
   "metadata": {},
   "outputs": [],
   "source": [
    "\n",
    "cuts = []\n",
    "for i in np.arange(0, 96, 8):\n",
    "    _, c = pkl.load(open('cascade-weighted/grqc-msi-s0.02-o0.2/{}.pkl'.format(i), 'rb'))\n",
    "    nodes = list(infected_nodes(c))\n",
    "    cuts.append(get_cut(nodes))"
   ]
  },
  {
   "cell_type": "code",
   "execution_count": 258,
   "metadata": {},
   "outputs": [
    {
     "name": "stdout",
     "output_type": "stream",
     "text": [
      "mean cut 481.3333333333333\n"
     ]
    }
   ],
   "source": [
    "print('mean cut', np.mean(cuts))"
   ]
  },
  {
   "cell_type": "code",
   "execution_count": 260,
   "metadata": {},
   "outputs": [
    {
     "name": "stdout",
     "output_type": "stream",
     "text": [
      "mean cut in this case 41.333333333333336\n"
     ]
    }
   ],
   "source": [
    "print('mean cut in this case', top_comms['cut'].mean())"
   ]
  },
  {
   "cell_type": "code",
   "execution_count": 270,
   "metadata": {},
   "outputs": [],
   "source": [
    "from glob import glob\n",
    "def mean_runnig_time(d):\n",
    "    return np.mean([pkl.load(open(p, 'rb'))['time_elapsed'] for p in glob(d + '/*.meta.pkl')])"
   ]
  },
  {
   "cell_type": "code",
   "execution_count": 271,
   "metadata": {},
   "outputs": [
    {
     "data": {
      "text/plain": [
       "269.7858134607474"
      ]
     },
     "execution_count": 271,
     "metadata": {},
     "output_type": "execute_result"
    }
   ],
   "source": [
    "mean_runnig_time('outputs/queries-weighted/grqc-msi-s0.02-o0.2/loop_erased/entropy')"
   ]
  },
  {
   "cell_type": "code",
   "execution_count": 273,
   "metadata": {},
   "outputs": [
    {
     "name": "stderr",
     "output_type": "stream",
     "text": [
      "/usr/local/lib/python3.5/dist-packages/numpy/core/fromnumeric.py:2957: RuntimeWarning: Mean of empty slice.\n",
      "  out=out, **kwargs)\n",
      "/usr/local/lib/python3.5/dist-packages/numpy/core/_methods.py:80: RuntimeWarning: invalid value encountered in double_scalars\n",
      "  ret = ret.dtype.type(ret / rcount)\n"
     ]
    },
    {
     "data": {
      "text/plain": [
       "nan"
      ]
     },
     "execution_count": 273,
     "metadata": {},
     "output_type": "execute_result"
    }
   ],
   "source": [
    "mean_runnig_time('outputs/queries-weighted/grqc-mcomm-s0.02-o0.2/loop_erased/entropy')"
   ]
  }
 ],
 "metadata": {
  "kernelspec": {
   "display_name": "Python 3",
   "language": "python",
   "name": "python3"
  },
  "language_info": {
   "codemirror_mode": {
    "name": "ipython",
    "version": 3
   },
   "file_extension": ".py",
   "mimetype": "text/x-python",
   "name": "python",
   "nbconvert_exporter": "python",
   "pygments_lexer": "ipython3",
   "version": "3.5.2"
  }
 },
 "nbformat": 4,
 "nbformat_minor": 2
}
