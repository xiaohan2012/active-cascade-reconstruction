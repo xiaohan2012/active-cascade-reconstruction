{
 "cells": [
  {
   "cell_type": "code",
   "execution_count": 1,
   "metadata": {},
   "outputs": [],
   "source": [
    "%matplotlib inline"
   ]
  },
  {
   "cell_type": "code",
   "execution_count": 56,
   "metadata": {},
   "outputs": [
    {
     "name": "stderr",
     "output_type": "stream",
     "text": [
      "/usr/local/lib/python3.5/dist-packages/matplotlib/__init__.py:1357: UserWarning:  This call to matplotlib.use() has no effect\n",
      "because the backend has already been chosen;\n",
      "matplotlib.use() must be called *before* pylab, matplotlib.pyplot,\n",
      "or matplotlib.backends is imported for the first time.\n",
      "\n",
      "  warnings.warn(_use_error_msg)\n"
     ]
    }
   ],
   "source": [
    "import matplotlib as mpl\n",
    "mpl.use('Agg')\n",
    "\n",
    "import pickle as pkl\n",
    "import math\n",
    "from graph_tool.draw import graph_draw\n",
    "from matplotlib import  pyplot as plt\n",
    "\n",
    "from graph_helpers import remove_filters, load_graph_by_name, gen_random_spanning_tree\n",
    "from viz_helpers import lattice_node_pos, QueryIllustrator\n",
    "from experiment import gen_input, one_round_experiment, remove_filters\n",
    "from query_selection import RandomQueryGenerator, OurQueryGenerator, PRQueryGenerator\n"
   ]
  },
  {
   "cell_type": "code",
   "execution_count": 23,
   "metadata": {},
   "outputs": [],
   "source": [
    "graph_name = 'lattice'\n",
    "g = load_graph_by_name(graph_name)"
   ]
  },
  {
   "cell_type": "code",
   "execution_count": 24,
   "metadata": {},
   "outputs": [],
   "source": [
    "if graph_name == 'lattice':\n",
    "    pos = lattice_node_pos(g, shape=(10, 10))\n"
   ]
  },
  {
   "cell_type": "code",
   "execution_count": 25,
   "metadata": {},
   "outputs": [],
   "source": [
    "n_samples = 100\n",
    "stop_fraction = 0.25\n",
    "n_queries = 15"
   ]
  },
  {
   "cell_type": "code",
   "execution_count": 30,
   "metadata": {},
   "outputs": [],
   "source": [
    "obs, c = gen_input(g, stop_fraction=stop_fraction, p=0.5)"
   ]
  },
  {
   "cell_type": "code",
   "execution_count": 31,
   "metadata": {},
   "outputs": [],
   "source": [
    "if True:\n",
    "    pkl.dump((obs, c), open('/tmp/cascade_example.pkl', 'wb'))\n",
    "else:\n",
    "    (obs, c) = pkl.load(open('/tmp/cascade_example.pkl', 'rb'))"
   ]
  },
  {
   "cell_type": "code",
   "execution_count": 32,
   "metadata": {},
   "outputs": [],
   "source": [
    "n_plots = n_queries\n",
    "n_row = 1\n",
    "n_col = int(math.ceil(n_plots / n_row))\n",
    "\n",
    "def create_fig_axes():\n",
    "    plt.clf()\n",
    "    fig, axes = plt.subplots(n_row, n_col, sharex=True, sharey=True)\n",
    "    return fig, axes"
   ]
  },
  {
   "cell_type": "code",
   "execution_count": 57,
   "metadata": {},
   "outputs": [
    {
     "name": "stderr",
     "output_type": "stream",
     "text": [
      "100%|██████████| 15/15 [00:39<00:00,  2.51s/it]\n"
     ]
    }
   ],
   "source": [
    "# for our method\n",
    "gv = remove_filters(g)\n",
    "q_gen = OurQueryGenerator(gv, obs, num_spt=n_samples,\n",
    "                            method='entropy',\n",
    "                            use_resample=False)\n",
    "scores, queries, eval_details = one_round_experiment(\n",
    "    g, obs, c, q_gen, query_method='ours', inference_method='sampling', \n",
    "    n_spanning_tree_samples=n_samples,\n",
    "    n_queries=n_queries,\n",
    "    return_details=True, log=True)\n",
    "\n"
   ]
  },
  {
   "cell_type": "code",
   "execution_count": 58,
   "metadata": {},
   "outputs": [],
   "source": [
    "plt.switch_backend('cairo')\n",
    "qi = QueryIllustrator(g, obs, c, pos)\n",
    "fig, axes = create_fig_axes()\n",
    "for i, ax in enumerate(axes):\n",
    "    qi.plot_snapshot(queries[i], n_samples=n_samples, ax=ax)"
   ]
  },
  {
   "cell_type": "code",
   "execution_count": 59,
   "metadata": {},
   "outputs": [],
   "source": [
    "fig.set_size_inches(75, 5, forward=True)\n",
    "fig.savefig('figs/query_process_our.pdf')"
   ]
  },
  {
   "cell_type": "code",
   "execution_count": 60,
   "metadata": {},
   "outputs": [
    {
     "name": "stderr",
     "output_type": "stream",
     "text": [
      "100%|██████████| 15/15 [00:18<00:00,  1.20s/it]\n"
     ]
    }
   ],
   "source": [
    "# for pagerank\n",
    "gv = remove_filters(g)\n",
    "q_gen = PRQueryGenerator(gv, obs)\n",
    "scores, queries, eval_details = one_round_experiment(\n",
    "    g, obs, c, q_gen, query_method='pagerank', inference_method='sampling',\n",
    "    n_spanning_tree_samples=n_samples,\n",
    "    n_queries=n_queries, \n",
    "    return_details=True, log=True)"
   ]
  },
  {
   "cell_type": "code",
   "execution_count": 61,
   "metadata": {},
   "outputs": [],
   "source": [
    "qi = QueryIllustrator(g, obs, c, pos)\n",
    "fig, axes = create_fig_axes()\n",
    "for i, ax in enumerate(axes):\n",
    "    qi.plot_snapshot(queries[i], n_samples=n_samples, ax=ax)\n",
    "fig.set_size_inches(75, 5, forward=True)\n",
    "fig.savefig('figs/query_process_pagerank.pdf')    "
   ]
  },
  {
   "cell_type": "code",
   "execution_count": 62,
   "metadata": {},
   "outputs": [],
   "source": [
    "# for random\n",
    "gv = remove_filters(g)\n",
    "q_gen = RandomQueryGenerator(gv, obs)\n",
    "scores, queries, eval_details = one_round_experiment(\n",
    "    g, obs, c, q_gen, query_method='random', inference_method='sampling', n_queries=n_queries,\n",
    "    n_spanning_tree_samples=n_samples,\n",
    "    return_details=True)"
   ]
  },
  {
   "cell_type": "code",
   "execution_count": 63,
   "metadata": {},
   "outputs": [],
   "source": [
    "qi = QueryIllustrator(g, obs, c, pos)\n",
    "fig, axes = create_fig_axes()\n",
    "for i, ax in enumerate(axes):\n",
    "    qi.plot_snapshot(queries[i], n_samples=n_samples, ax=ax)\n",
    "fig.set_size_inches(75, 5, forward=True)\n",
    "fig.savefig('figs/query_process_random.pdf')    "
   ]
  }
 ],
 "metadata": {
  "kernelspec": {
   "display_name": "Python 3",
   "language": "python",
   "name": "python3"
  },
  "language_info": {
   "codemirror_mode": {
    "name": "ipython",
    "version": 3
   },
   "file_extension": ".py",
   "mimetype": "text/x-python",
   "name": "python",
   "nbconvert_exporter": "python",
   "pygments_lexer": "ipython3",
   "version": "3.5.2"
  }
 },
 "nbformat": 4,
 "nbformat_minor": 2
}
