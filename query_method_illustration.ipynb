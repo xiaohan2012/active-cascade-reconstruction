{
 "cells": [
  {
   "cell_type": "code",
   "execution_count": 2,
   "metadata": {},
   "outputs": [],
   "source": [
    "%matplotlib inline"
   ]
  },
  {
   "cell_type": "code",
   "execution_count": 3,
   "metadata": {},
   "outputs": [
    {
     "name": "stderr",
     "output_type": "stream",
     "text": [
      "/usr/local/lib/python3.5/dist-packages/matplotlib/__init__.py:1357: UserWarning:  This call to matplotlib.use() has no effect\n",
      "because the backend has already been chosen;\n",
      "matplotlib.use() must be called *before* pylab, matplotlib.pyplot,\n",
      "or matplotlib.backends is imported for the first time.\n",
      "\n",
      "  warnings.warn(_use_error_msg)\n"
     ]
    }
   ],
   "source": [
    "import matplotlib as mpl\n",
    "mpl.use('Agg')\n",
    "\n",
    "import pickle as pkl\n",
    "import math\n",
    "from graph_tool.draw import graph_draw\n",
    "from matplotlib import  pyplot as plt\n",
    "\n",
    "from graph_helpers import remove_filters, load_graph_by_name, gen_random_spanning_tree\n",
    "from viz_helpers import lattice_node_pos, QueryIllustrator\n",
    "from experiment import gen_input, one_round_experiment, remove_filters\n",
    "from query_selection import RandomQueryGenerator, EntropyQueryGenerator, PRQueryGenerator, PredictionErrorQueryGenerator\n",
    "from simulator import Simulator\n"
   ]
  },
  {
   "cell_type": "code",
   "execution_count": 4,
   "metadata": {},
   "outputs": [],
   "source": [
    "graph_name = 'lattice'\n",
    "g = load_graph_by_name(graph_name)"
   ]
  },
  {
   "cell_type": "code",
   "execution_count": 5,
   "metadata": {},
   "outputs": [],
   "source": [
    "if graph_name == 'lattice':\n",
    "    pos = lattice_node_pos(g, shape=(10, 10))\n"
   ]
  },
  {
   "cell_type": "code",
   "execution_count": 13,
   "metadata": {},
   "outputs": [],
   "source": [
    "use_cached_result = True"
   ]
  },
  {
   "cell_type": "code",
   "execution_count": 6,
   "metadata": {},
   "outputs": [],
   "source": [
    "n_samples = 100\n",
    "stop_fraction = 0.25\n",
    "n_queries = 10"
   ]
  },
  {
   "cell_type": "code",
   "execution_count": 19,
   "metadata": {},
   "outputs": [],
   "source": [
    "if not use_cached_result:\n",
    "    obs, c = gen_input(g, stop_fraction=stop_fraction, p=0.5)\n",
    "    # pkl.dump((obs, c), open('/tmp/cascade_example.pkl', 'wb'))\n",
    "else:\n",
    "    methods = ['random', 'pagerank', 'entropy', 'prediction_error']\n",
    "    round_id = 84\n",
    "    (obs, c) = pkl.load(open('cascade/{}/{}.pkl'.format(graph_name, round_id), 'rb'))\n",
    "    queries_by_method = {\n",
    "        method: pkl.load(open('outputs/queries/{}/{}/{}.pkl'.format(graph_name, method, round_id),\n",
    "                              'rb'))[0]\n",
    "        for method in methods}\n",
    "    n_queries = len(queries_by_method['random'])"
   ]
  },
  {
   "cell_type": "code",
   "execution_count": 20,
   "metadata": {},
   "outputs": [
    {
     "data": {
      "text/plain": [
       "{'entropy': [36, 24, 13, 25, 56, 46, 31, 30, 42, 74],\n",
       " 'pagerank': [21, 65, 45, 34, 11, 56, 76, 32, 54, 43],\n",
       " 'prediction_error': [48, 59, 37, 93, 5, 14, 1, 46, 91, 98],\n",
       " 'random': [7, 68, 37, 53, 58, 46, 45, 14, 30, 81]}"
      ]
     },
     "execution_count": 20,
     "metadata": {},
     "output_type": "execute_result"
    }
   ],
   "source": [
    "queries_by_method"
   ]
  },
  {
   "cell_type": "code",
   "execution_count": 8,
   "metadata": {},
   "outputs": [],
   "source": [
    "n_plots = n_queries\n",
    "n_row = 1\n",
    "n_col = int(math.ceil(n_plots / n_row))\n",
    "\n",
    "def create_fig_axes():\n",
    "    plt.clf()\n",
    "    fig, axes = plt.subplots(n_row, n_col, sharex=True, sharey=True)\n",
    "    return fig, axes"
   ]
  },
  {
   "cell_type": "code",
   "execution_count": 22,
   "metadata": {},
   "outputs": [],
   "source": [
    "stategies = [\n",
    "    (PredictionErrorQueryGenerator, {'num_stt': n_samples}, 'prediction_error'), \n",
    "    (EntropyQueryGenerator, {'num_stt': n_samples, 'method': 'entropy', 'use_resample': False}, 'entropy'),\n",
    "    (RandomQueryGenerator, {}, 'random'),\n",
    "    (PRQueryGenerator, {}, 'pagerank'),\n",
    "]\n"
   ]
  },
  {
   "cell_type": "code",
   "execution_count": 25,
   "metadata": {},
   "outputs": [
    {
     "name": "stdout",
     "output_type": "stream",
     "text": [
      "prediction_error\n",
      "entropy\n",
      "random\n",
      "pagerank\n"
     ]
    }
   ],
   "source": [
    "plt.switch_backend('cairo')\n",
    "\n",
    "for cls, params, name in stategies:\n",
    "    print(name)\n",
    "    if not use_cached_result:\n",
    "        gv = remove_filters(g)\n",
    "        q_gen = cls(gv, **params)\n",
    "        sim = Simulator(gv, q_gen, print_log=True)\n",
    "        queries, _ = sim.run(n_queries, obs, c)\n",
    "    else:\n",
    "        # use the pre-computed queries\n",
    "        queries = queries_by_method[name]\n",
    "\n",
    "    qi = QueryIllustrator(g, obs, c, pos)\n",
    "    fig, axes = create_fig_axes()\n",
    "    for i, ax in enumerate(axes):\n",
    "        qi.plot_snapshot(queries[i], n_samples=n_samples, ax=ax)\n",
    "    fig.set_size_inches(5 * n_queries, 5, forward=True)\n",
    "    fig.savefig('figs/query_process/{}.pdf'.format(name))"
   ]
  }
 ],
 "metadata": {
  "kernelspec": {
   "display_name": "Python 3",
   "language": "python",
   "name": "python3"
  },
  "language_info": {
   "codemirror_mode": {
    "name": "ipython",
    "version": 3
   },
   "file_extension": ".py",
   "mimetype": "text/x-python",
   "name": "python",
   "nbconvert_exporter": "python",
   "pygments_lexer": "ipython3",
   "version": "3.5.2"
  }
 },
 "nbformat": 4,
 "nbformat_minor": 2
}
