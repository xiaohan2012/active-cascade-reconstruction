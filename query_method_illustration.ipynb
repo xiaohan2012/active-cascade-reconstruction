{
 "cells": [
  {
   "cell_type": "code",
   "execution_count": 2,
   "metadata": {},
   "outputs": [],
   "source": [
    "%matplotlib inline"
   ]
  },
  {
   "cell_type": "code",
   "execution_count": 3,
   "metadata": {},
   "outputs": [
    {
     "name": "stderr",
     "output_type": "stream",
     "text": [
      "/usr/local/lib/python3.5/dist-packages/matplotlib/__init__.py:1357: UserWarning:  This call to matplotlib.use() has no effect\n",
      "because the backend has already been chosen;\n",
      "matplotlib.use() must be called *before* pylab, matplotlib.pyplot,\n",
      "or matplotlib.backends is imported for the first time.\n",
      "\n",
      "  warnings.warn(_use_error_msg)\n"
     ]
    }
   ],
   "source": [
    "import matplotlib as mpl\n",
    "mpl.use('Agg')\n",
    "\n",
    "import pickle as pkl\n",
    "import math\n",
    "from graph_tool.draw import graph_draw\n",
    "from matplotlib import  pyplot as plt\n",
    "\n",
    "from graph_helpers import remove_filters, load_graph_by_name, gen_random_spanning_tree\n",
    "from viz_helpers import lattice_node_pos, QueryIllustrator\n",
    "from experiment import gen_input, one_round_experiment, remove_filters\n",
    "from query_selection import RandomQueryGenerator, EntropyQueryGenerator, PRQueryGenerator, PredictionErrorQueryGenerator\n",
    "from simulator import Simulator\n"
   ]
  },
  {
   "cell_type": "code",
   "execution_count": 4,
   "metadata": {},
   "outputs": [],
   "source": [
    "graph_name = 'lattice'\n",
    "g = load_graph_by_name(graph_name)"
   ]
  },
  {
   "cell_type": "code",
   "execution_count": 5,
   "metadata": {},
   "outputs": [],
   "source": [
    "if graph_name == 'lattice':\n",
    "    pos = lattice_node_pos(g, shape=(10, 10))\n"
   ]
  },
  {
   "cell_type": "code",
   "execution_count": 6,
   "metadata": {},
   "outputs": [],
   "source": [
    "n_samples = 100\n",
    "stop_fraction = 0.25\n",
    "n_queries = 10"
   ]
  },
  {
   "cell_type": "code",
   "execution_count": 7,
   "metadata": {},
   "outputs": [],
   "source": [
    "if False:\n",
    "    obs, c = gen_input(g, stop_fraction=stop_fraction, p=0.5)\n",
    "    # pkl.dump((obs, c), open('/tmp/cascade_example.pkl', 'wb'))\n",
    "else:\n",
    "    (obs, c) = pkl.load(open('/tmp/cascade_example.pkl', 'rb'))"
   ]
  },
  {
   "cell_type": "code",
   "execution_count": 8,
   "metadata": {},
   "outputs": [],
   "source": [
    "n_plots = n_queries\n",
    "n_row = 1\n",
    "n_col = int(math.ceil(n_plots / n_row))\n",
    "\n",
    "def create_fig_axes():\n",
    "    plt.clf()\n",
    "    fig, axes = plt.subplots(n_row, n_col, sharex=True, sharey=True)\n",
    "    return fig, axes"
   ]
  },
  {
   "cell_type": "code",
   "execution_count": 9,
   "metadata": {},
   "outputs": [],
   "source": [
    "stategies = [\n",
    "    (PredictionErrorQueryGenerator, {'num_stt': n_samples}, 'prediction_error'), \n",
    "    (EntropyQueryGenerator, {'num_stt': n_samples, 'method': 'entropy', 'use_resample': False}, 'entropy')\n",
    "]\n"
   ]
  },
  {
   "cell_type": "code",
   "execution_count": 10,
   "metadata": {},
   "outputs": [
    {
     "name": "stderr",
     "output_type": "stream",
     "text": [
      "\r",
      "  0%|          | 0/10 [00:00<?, ?it/s]"
     ]
    },
    {
     "name": "stdout",
     "output_type": "stream",
     "text": [
      "p(q=0, y=0)=1.0\n",
      "p(q=0, y=1)=0.0\n",
      "p(q=9, y=0)=0.99\n",
      "p(q=9, y=1)=0.01\n"
     ]
    },
    {
     "name": "stderr",
     "output_type": "stream",
     "text": [
      "\r",
      " 10%|█         | 1/10 [00:02<00:18,  2.02s/it]"
     ]
    },
    {
     "name": "stdout",
     "output_type": "stream",
     "text": [
      "p(q=89, y=0)=0.96\n",
      "p(q=89, y=1)=0.04\n",
      "p(q=99, y=0)=0.99\n",
      "p(q=99, y=1)=0.01\n",
      "top score queries:\n",
      "86(27.18)\n",
      "26(27.20)\n",
      "24(27.31)\n",
      "31(27.38)\n",
      "42(27.49)\n",
      "47(27.52)\n",
      "66(27.53)\n",
      "25(27.54)\n",
      "36(27.59)\n",
      "85(27.59)\n",
      "p(q=0, y=0)=0.99\n",
      "p(q=0, y=1)=0.01\n",
      "p(q=9, y=0)=0.99\n",
      "p(q=9, y=1)=0.01\n"
     ]
    },
    {
     "name": "stderr",
     "output_type": "stream",
     "text": [
      "\r",
      " 20%|██        | 2/10 [00:03<00:15,  1.99s/it]"
     ]
    },
    {
     "name": "stdout",
     "output_type": "stream",
     "text": [
      "p(q=89, y=0)=0.98\n",
      "p(q=89, y=1)=0.02\n",
      "p(q=99, y=0)=0.99\n",
      "p(q=99, y=1)=0.01\n",
      "top score queries:\n",
      "42(28.40)\n",
      "25(28.54)\n",
      "58(28.60)\n",
      "46(28.66)\n",
      "12(28.67)\n",
      "43(28.69)\n",
      "37(28.75)\n",
      "66(28.78)\n",
      "57(28.81)\n",
      "77(28.86)\n",
      "p(q=0, y=0)=0.95\n",
      "p(q=0, y=1)=0.05\n",
      "p(q=9, y=0)=0.99\n",
      "p(q=9, y=1)=0.01\n"
     ]
    },
    {
     "name": "stderr",
     "output_type": "stream",
     "text": [
      "\r",
      " 30%|███       | 3/10 [00:05<00:13,  1.95s/it]"
     ]
    },
    {
     "name": "stdout",
     "output_type": "stream",
     "text": [
      "p(q=89, y=0)=0.95\n",
      "p(q=89, y=1)=0.05\n",
      "p(q=99, y=0)=0.97\n",
      "p(q=99, y=1)=0.03\n",
      "top score queries:\n",
      "6(37.22)\n",
      "36(37.50)\n",
      "16(37.62)\n",
      "4(37.67)\n",
      "58(37.76)\n",
      "97(37.81)\n",
      "46(37.85)\n",
      "5(37.91)\n",
      "37(37.92)\n",
      "12(37.95)\n",
      "p(q=0, y=0)=0.98\n",
      "p(q=0, y=1)=0.02\n",
      "p(q=9, y=0)=1.0\n",
      "p(q=9, y=1)=0.0\n"
     ]
    },
    {
     "name": "stderr",
     "output_type": "stream",
     "text": [
      "\r",
      " 40%|████      | 4/10 [00:07<00:10,  1.81s/it]"
     ]
    },
    {
     "name": "stdout",
     "output_type": "stream",
     "text": [
      "p(q=89, y=0)=0.96\n",
      "p(q=89, y=1)=0.04\n",
      "p(q=99, y=0)=0.97\n",
      "p(q=99, y=1)=0.03\n",
      "top score queries:\n",
      "30(32.54)\n",
      "20(32.63)\n",
      "23(32.65)\n",
      "95(32.65)\n",
      "77(32.75)\n",
      "36(32.75)\n",
      "40(32.83)\n",
      "22(32.86)\n",
      "69(32.91)\n",
      "93(32.91)\n",
      "p(q=0, y=0)=1.0\n",
      "p(q=0, y=1)=0.0\n",
      "p(q=9, y=0)=0.99\n",
      "p(q=9, y=1)=0.01\n"
     ]
    },
    {
     "name": "stderr",
     "output_type": "stream",
     "text": [
      "\r",
      " 50%|█████     | 5/10 [00:08<00:08,  1.71s/it]"
     ]
    },
    {
     "name": "stdout",
     "output_type": "stream",
     "text": [
      "p(q=89, y=0)=0.95\n",
      "p(q=89, y=1)=0.05\n",
      "p(q=99, y=0)=0.96\n",
      "p(q=99, y=1)=0.04\n",
      "top score queries:\n",
      "96(33.75)\n",
      "97(33.75)\n",
      "95(33.97)\n",
      "58(34.20)\n",
      "68(34.27)\n",
      "25(34.33)\n",
      "15(34.49)\n",
      "26(34.51)\n",
      "12(34.56)\n",
      "57(34.56)\n",
      "p(q=0, y=0)=0.99\n",
      "p(q=0, y=1)=0.01\n",
      "p(q=9, y=0)=1.0\n",
      "p(q=9, y=1)=0.0\n"
     ]
    },
    {
     "name": "stderr",
     "output_type": "stream",
     "text": [
      "\r",
      " 60%|██████    | 6/10 [00:10<00:06,  1.63s/it]"
     ]
    },
    {
     "name": "stdout",
     "output_type": "stream",
     "text": [
      "p(q=89, y=0)=1.0\n",
      "p(q=89, y=1)=0.0\n",
      "p(q=99, y=0)=1.0\n",
      "p(q=99, y=1)=0.0\n",
      "top score queries:\n",
      "12(28.51)\n",
      "57(28.67)\n",
      "13(28.72)\n",
      "21(29.00)\n",
      "93(29.05)\n",
      "36(29.06)\n",
      "15(29.12)\n",
      "56(29.13)\n",
      "67(29.14)\n",
      "58(29.15)\n",
      "p(q=0, y=0)=0.98\n",
      "p(q=0, y=1)=0.02\n",
      "p(q=9, y=0)=1.0\n",
      "p(q=9, y=1)=0.0\n"
     ]
    },
    {
     "name": "stderr",
     "output_type": "stream",
     "text": [
      "\r",
      " 70%|███████   | 7/10 [00:11<00:04,  1.58s/it]"
     ]
    },
    {
     "name": "stdout",
     "output_type": "stream",
     "text": [
      "p(q=89, y=0)=0.97\n",
      "p(q=89, y=1)=0.03\n",
      "p(q=99, y=0)=0.99\n",
      "p(q=99, y=1)=0.01\n",
      "top score queries:\n",
      "69(30.23)\n",
      "77(30.43)\n",
      "27(30.58)\n",
      "79(30.61)\n",
      "59(30.62)\n",
      "26(30.71)\n",
      "23(30.75)\n",
      "24(30.79)\n",
      "37(30.80)\n",
      "16(30.83)\n",
      "p(q=0, y=0)=0.98\n",
      "p(q=0, y=1)=0.02\n",
      "p(q=9, y=0)=1.0\n",
      "p(q=9, y=1)=0.0\n"
     ]
    },
    {
     "name": "stderr",
     "output_type": "stream",
     "text": [
      "\r",
      " 80%|████████  | 8/10 [00:13<00:03,  1.53s/it]"
     ]
    },
    {
     "name": "stdout",
     "output_type": "stream",
     "text": [
      "p(q=89, y=0)=0.99\n",
      "p(q=89, y=1)=0.01\n",
      "p(q=99, y=0)=0.99\n",
      "p(q=99, y=1)=0.01\n",
      "top score queries:\n",
      "75(28.66)\n",
      "41(28.80)\n",
      "27(28.86)\n",
      "34(28.96)\n",
      "15(28.97)\n",
      "48(29.09)\n",
      "47(29.10)\n",
      "51(29.12)\n",
      "26(29.26)\n",
      "16(29.29)\n",
      "p(q=0, y=0)=1.0\n",
      "p(q=0, y=1)=0.0\n",
      "p(q=9, y=0)=0.99\n",
      "p(q=9, y=1)=0.01\n"
     ]
    },
    {
     "name": "stderr",
     "output_type": "stream",
     "text": [
      "\r",
      " 90%|█████████ | 9/10 [00:14<00:01,  1.49s/it]"
     ]
    },
    {
     "name": "stdout",
     "output_type": "stream",
     "text": [
      "p(q=89, y=0)=0.99\n",
      "p(q=89, y=1)=0.01\n",
      "p(q=99, y=0)=1.0\n",
      "p(q=99, y=1)=0.0\n",
      "top score queries:\n",
      "17(28.66)\n",
      "15(29.01)\n",
      "16(29.09)\n",
      "58(29.12)\n",
      "76(29.12)\n",
      "46(29.20)\n",
      "31(29.21)\n",
      "24(29.24)\n",
      "60(29.25)\n",
      "41(29.27)\n",
      "p(q=0, y=0)=1.0\n",
      "p(q=0, y=1)=0.0\n",
      "p(q=9, y=0)=1.0\n",
      "p(q=9, y=1)=0.0\n"
     ]
    },
    {
     "name": "stderr",
     "output_type": "stream",
     "text": [
      "\r",
      "100%|██████████| 10/10 [00:15<00:00,  1.45s/it]"
     ]
    },
    {
     "name": "stdout",
     "output_type": "stream",
     "text": [
      "p(q=89, y=0)=1.0\n",
      "p(q=89, y=1)=0.0\n",
      "p(q=99, y=0)=1.0\n",
      "p(q=99, y=1)=0.0\n",
      "top score queries:\n",
      "71(25.61)\n",
      "46(25.79)\n",
      "56(25.91)\n",
      "31(25.95)\n",
      "21(25.97)\n",
      "61(25.98)\n",
      "32(26.02)\n",
      "34(26.07)\n",
      "57(26.10)\n",
      "33(26.11)\n"
     ]
    },
    {
     "name": "stderr",
     "output_type": "stream",
     "text": [
      "\n",
      "100%|██████████| 10/10 [00:11<00:00,  1.16s/it]\n"
     ]
    }
   ],
   "source": [
    "plt.switch_backend('cairo')\n",
    "\n",
    "for cls, params, name in stategies:\n",
    "    gv = remove_filters(g)\n",
    "    q_gen = cls(gv, **params)\n",
    "    sim = Simulator(gv, q_gen, print_log=True)\n",
    "    queries, _ = sim.run(n_queries, obs, c)\n",
    "\n",
    "\n",
    "    qi = QueryIllustrator(g, obs, c, pos)\n",
    "    fig, axes = create_fig_axes()\n",
    "    for i, ax in enumerate(axes):\n",
    "        qi.plot_snapshot(queries[i], n_samples=n_samples, ax=ax)\n",
    "    fig.set_size_inches(5 * n_queries, 5, forward=True)\n",
    "    # fig.savefig('figs/query_process/{}.pdf'.format(name))"
   ]
  }
 ],
 "metadata": {
  "kernelspec": {
   "display_name": "Python 3",
   "language": "python",
   "name": "python3"
  },
  "language_info": {
   "codemirror_mode": {
    "name": "ipython",
    "version": 3
   },
   "file_extension": ".py",
   "mimetype": "text/x-python",
   "name": "python",
   "nbconvert_exporter": "python",
   "pygments_lexer": "ipython3",
   "version": "3.5.2"
  }
 },
 "nbformat": 4,
 "nbformat_minor": 2
}
