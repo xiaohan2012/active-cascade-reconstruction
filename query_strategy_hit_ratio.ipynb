{
 "cells": [
  {
   "cell_type": "code",
   "execution_count": 5,
   "metadata": {},
   "outputs": [],
   "source": [
    "%matplotlib inline"
   ]
  },
  {
   "cell_type": "code",
   "execution_count": 90,
   "metadata": {},
   "outputs": [],
   "source": [
    "import os\n",
    "import numpy as np\n",
    "import pandas as pd\n",
    "import pickle as pkl\n",
    "import matplotlib as mpl\n",
    "import itertools\n",
    "# mpl.use('Agg')\n",
    "import seaborn as sns\n",
    "\n",
    "from graph_tool.draw import sfdp_layout, graph_draw\n",
    "from matplotlib import pyplot as plt\n",
    "from sklearn.metrics import average_precision_score\n",
    "\n",
    "from helpers import infected_nodes\n",
    "from graph_helpers import load_graph_by_name\n",
    "from viz_helpers import lattice_node_pos, set_cycler, smooth"
   ]
  },
  {
   "cell_type": "code",
   "execution_count": 91,
   "metadata": {},
   "outputs": [],
   "source": [
    "graph = 'grqc-sto'\n",
    "sampling_method = 'loop_erased'\n",
    "obs_frac = \"0.2\"\n",
    "cascade_frac = '0.025'\n",
    "obs_method = 'uniform'\n",
    "dataset_id = '{}-mic-s{}-o{}-om{}'.format(graph, cascade_frac, obs_frac, obs_method)\n",
    "cascade_dir = 'cascade-weighted/{}'.format(dataset_id)\n",
    "query_path = 'outputs/queries-weighted/{}/{}/'.format(dataset_id, sampling_method)\n",
    "inf_probas_path = 'outputs/inf_probas-weighted/{}/{}/'.format(dataset_id, sampling_method)\n",
    "fig_root_dir = 'figs/infection-probas-after-queries/{}'.format(dataset_id)"
   ]
  },
  {
   "cell_type": "code",
   "execution_count": 92,
   "metadata": {},
   "outputs": [],
   "source": [
    "def get_query_hit_states(method):\n",
    "    \"\"\"return 2D list\"\"\"\n",
    "    queries_states = []\n",
    "    for cascade_id in range(96):\n",
    "        cascade_path = 'cascade-weighted/{}/{}.pkl'.format(dataset_id, cascade_id)\n",
    "        obs, c = pkl.load(open(cascade_path, 'rb'))[:2]\n",
    "        inf_nodes = set(infected_nodes(c))\n",
    "        # inf_probas_pathbas_list = pkl.load(open(inf_probas_path + method + '/{}.pkl'.format(cascade_id), 'rb'))\n",
    "        queries, _ = pkl.load(open(query_path + method + '/{}.pkl'.format(cascade_id), 'rb'))\n",
    "        queries_states.append(list(map(inf_nodes.__contains__, queries)))\n",
    "    return queries_states"
   ]
  },
  {
   "cell_type": "code",
   "execution_count": 93,
   "metadata": {},
   "outputs": [],
   "source": [
    "def query_strategy_hit_ratio(method):\n",
    "    states = get_query_hit_states(method)\n",
    "    states = np.array(list(itertools.chain(*states)))\n",
    "    return states.sum() / len(states)\n"
   ]
  },
  {
   "cell_type": "code",
   "execution_count": 94,
   "metadata": {},
   "outputs": [
    {
     "name": "stdout",
     "output_type": "stream",
     "text": [
      "random, hit ratio: 0.0250625\n",
      "pagerank, hit ratio: 0.19883333333333333\n",
      "entropy, hit ratio: 0.10691666666666666\n",
      "prediction_error, hit ratio: 0.136511534383797\n",
      "mutual-info, hit ratio: 0.07533712006243767\n",
      "oracle-e, hit ratio: 1.0\n",
      "oracle-l, hit ratio: 1.0\n"
     ]
    }
   ],
   "source": [
    "methods = ['random', 'pagerank', 'entropy', 'prediction_error', 'mutual-info', 'oracle-e', 'oracle-l']\n",
    "# , 'weighted_prediction_error'\n",
    "for m in methods:\n",
    "    print('{}, hit ratio: {}'.format(m, query_strategy_hit_ratio(m)))"
   ]
  },
  {
   "cell_type": "code",
   "execution_count": 95,
   "metadata": {},
   "outputs": [],
   "source": [
    "max_queries = 500"
   ]
  },
  {
   "cell_type": "code",
   "execution_count": 96,
   "metadata": {},
   "outputs": [
    {
     "name": "stdout",
     "output_type": "stream",
     "text": [
      "random\n",
      "pagerank\n",
      "entropy\n",
      "prediction_error\n",
      "mutual-info\n",
      "oracle-e\n",
      "oracle-l\n"
     ]
    }
   ],
   "source": [
    "hit_ratio_ts = {}\n",
    "hit_states = {}\n",
    "effective_n_queries = {}\n",
    "for method in methods:\n",
    "    print(method)\n",
    "    states = get_query_hit_states(method)    \n",
    "    effective_n_queries[method] = np.mean(list(map(len, states)))\n",
    "    for s in states:\n",
    "        s += [s[-1]] * (max_queries - len(s))\n",
    "    states = np.array(states)\n",
    "    hit_ratio_ts[method] = np.mean(states, axis=0)\n",
    "    hit_states[method] = states\n"
   ]
  },
  {
   "cell_type": "code",
   "execution_count": 97,
   "metadata": {},
   "outputs": [
    {
     "data": {
      "text/plain": [
       "{'entropy': 500.0,\n",
       " 'mutual-info': 480.4791666666667,\n",
       " 'oracle-e': 99.83333333333333,\n",
       " 'oracle-l': 99.83333333333333,\n",
       " 'pagerank': 500.0,\n",
       " 'prediction_error': 284.9270833333333,\n",
       " 'random': 500.0}"
      ]
     },
     "execution_count": 97,
     "metadata": {},
     "output_type": "execute_result"
    }
   ],
   "source": [
    "effective_n_queries"
   ]
  },
  {
   "cell_type": "code",
   "execution_count": 98,
   "metadata": {},
   "outputs": [],
   "source": [
    "plt.style.use('paper')"
   ]
  },
  {
   "cell_type": "code",
   "execution_count": 99,
   "metadata": {
    "scrolled": true
   },
   "outputs": [
    {
     "data": {
      "text/plain": [
       "<matplotlib.text.Text at 0x7f85fc90a940>"
      ]
     },
     "execution_count": 99,
     "metadata": {},
     "output_type": "execute_result"
    },
    {
     "data": {
      "image/png": "[encoded data removed]",
      "text/plain": [
       "<matplotlib.figure.Figure at 0x7f85fca40a20>"
      ]
     },
     "metadata": {},
     "output_type": "display_data"
    }
   ],
   "source": [
    "fig, ax = plt.subplots(1, 1)\n",
    "window = 10\n",
    "x = np.arange(0, max_queries+window)\n",
    "set_cycler(ax)\n",
    "for method in methods:\n",
    "    ts = hit_ratio_ts[method]\n",
    "    ax.plot(x[::25], smooth(ts, window_len=window+1)[::25])\n",
    "ax.set_xlabel('num. queries')\n",
    "ax.set_ylabel('P(y(q)=1)')"
   ]
  }
 ],
 "metadata": {
  "kernelspec": {
   "display_name": "Python 3",
   "language": "python",
   "name": "python3"
  },
  "language_info": {
   "codemirror_mode": {
    "name": "ipython",
    "version": 3
   },
   "file_extension": ".py",
   "mimetype": "text/x-python",
   "name": "python",
   "nbconvert_exporter": "python",
   "pygments_lexer": "ipython3",
   "version": "3.5.2"
  }
 },
 "nbformat": 4,
 "nbformat_minor": 2
}
