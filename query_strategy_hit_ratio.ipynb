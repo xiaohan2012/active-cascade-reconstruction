{
 "cells": [
  {
   "cell_type": "code",
   "execution_count": 1,
   "metadata": {},
   "outputs": [],
   "source": [
    "%matplotlib inline"
   ]
  },
  {
   "cell_type": "code",
   "execution_count": 3,
   "metadata": {},
   "outputs": [],
   "source": [
    "import os\n",
    "import numpy as np\n",
    "import pandas as pd\n",
    "import pickle as pkl\n",
    "import matplotlib as mpl\n",
    "# mpl.use('Agg')\n",
    "import seaborn as sns\n",
    "from graph_tool.draw import sfdp_layout, graph_draw\n",
    "from sklearn.metrics import average_precision_score\n",
    "\n",
    "from helpers import infected_nodes\n",
    "from graph_helpers import load_graph_by_name\n",
    "from viz_helpers import lattice_node_pos"
   ]
  },
  {
   "cell_type": "code",
   "execution_count": 42,
   "metadata": {},
   "outputs": [],
   "source": [
    "graph = 'p2p'\n",
    "sampling_method = 'cut'\n",
    "obs_method = \"leaves\"\n",
    "dataset_id = '{}-mic-s0.02-o{}'.format(graph, obs_method)\n",
    "cascade_dir = 'cascade/{}'.format(dataset_id)\n",
    "query_path = 'outputs/queries-weighted/{}/{}/'.format(dataset_id, sampling_method)\n",
    "inf_probas_path = 'outputs/inf_probas-weighted/{}/{}/'.format(dataset_id, sampling_method)\n",
    "fig_root_dir = 'figs/infection-probas-after-queries/{}'.format(dataset_id)"
   ]
  },
  {
   "cell_type": "code",
   "execution_count": 43,
   "metadata": {},
   "outputs": [],
   "source": [
    "def query_strategy_hit_ratio(method):\n",
    "    queries_states = []\n",
    "    for cascade_id in range(96):\n",
    "        cascade_path = 'cascade-weighted/{}/{}.pkl'.format(dataset_id, cascade_id)\n",
    "        obs, c = pkl.load(open(cascade_path, 'rb'))\n",
    "        inf_nodes = set(infected_nodes(c))\n",
    "        # inf_probas_list = pkl.load(open(inf_probas_path + method + '/{}.pkl'.format(cascade_id), 'rb'))\n",
    "        queries, _ = pkl.load(open(query_path + method + '/{}.pkl'.format(cascade_id), 'rb'))\n",
    "        queries_states += list(map(inf_nodes.__contains__, queries))\n",
    "    queries_states = np.array(queries_states)\n",
    "    \n",
    "    return queries_states.sum() / len(queries_states)\n"
   ]
  },
  {
   "cell_type": "code",
   "execution_count": 44,
   "metadata": {},
   "outputs": [
    {
     "name": "stdout",
     "output_type": "stream",
     "text": [
      "random, hit ratio: 0.00625\n",
      "pagerank, hit ratio: 0.7114583333333333\n",
      "entropy, hit ratio: 0.18645833333333334\n",
      "prediction_error, hit ratio: 0.07291666666666667\n"
     ]
    }
   ],
   "source": [
    "methods = ['random', 'pagerank', 'entropy', 'prediction_error']\n",
    "for m in methods:\n",
    "    print('{}, hit ratio: {}'.format(m, query_strategy_hit_ratio(m)))"
   ]
  }
 ],
 "metadata": {
  "kernelspec": {
   "display_name": "Python 3",
   "language": "python",
   "name": "python3"
  },
  "language_info": {
   "codemirror_mode": {
    "name": "ipython",
    "version": 3
   },
   "file_extension": ".py",
   "mimetype": "text/x-python",
   "name": "python",
   "nbconvert_exporter": "python",
   "pygments_lexer": "ipython3",
   "version": "3.5.2"
  }
 },
 "nbformat": 4,
 "nbformat_minor": 2
}
