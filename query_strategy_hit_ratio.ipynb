{
 "cells": [
  {
   "cell_type": "code",
   "execution_count": 2,
   "metadata": {},
   "outputs": [],
   "source": [
    "%matplotlib inline"
   ]
  },
  {
   "cell_type": "code",
   "execution_count": 3,
   "metadata": {},
   "outputs": [],
   "source": [
    "import os\n",
    "import numpy as np\n",
    "import pandas as pd\n",
    "import pickle as pkl\n",
    "import matplotlib as mpl\n",
    "# mpl.use('Agg')\n",
    "import seaborn as sns\n",
    "from graph_tool.draw import sfdp_layout, graph_draw\n",
    "from sklearn.metrics import average_precision_score\n",
    "\n",
    "from helpers import infected_nodes\n",
    "from graph_helpers import load_graph_by_name\n",
    "from viz_helpers import lattice_node_pos"
   ]
  },
  {
   "cell_type": "code",
   "execution_count": 8,
   "metadata": {},
   "outputs": [],
   "source": [
    "graph = 'grqc'\n",
    "sampling_method = 'loop_erased'\n",
    "obs_method = \"0.1\"\n",
    "dataset_id = '{}-mic-s0.02-o{}'.format(graph, obs_method)\n",
    "cascade_dir = 'cascade/{}'.format(dataset_id)\n",
    "query_path = 'outputs/queries-weighted/{}/{}/'.format(dataset_id, sampling_method)\n",
    "inf_probas_path = 'outputs/inf_probas-weighted/{}/{}/'.format(dataset_id, sampling_method)\n",
    "fig_root_dir = 'figs/infection-probas-after-queries/{}'.format(dataset_id)"
   ]
  },
  {
   "cell_type": "code",
   "execution_count": 9,
   "metadata": {},
   "outputs": [],
   "source": [
    "def query_strategy_hit_ratio(method):\n",
    "    queries_states = []\n",
    "    for cascade_id in range(96):\n",
    "        cascade_path = 'cascade-weighted/{}/{}.pkl'.format(dataset_id, cascade_id)\n",
    "        obs, c = pkl.load(open(cascade_path, 'rb'))[:2]\n",
    "        inf_nodes = set(infected_nodes(c))\n",
    "        # inf_probas_pathbas_list = pkl.load(open(inf_probas_path + method + '/{}.pkl'.format(cascade_id), 'rb'))\n",
    "        queries, _ = pkl.load(open(query_path + method + '/{}.pkl'.format(cascade_id), 'rb'))\n",
    "        queries_states += list(map(inf_nodes.__contains__, queries))\n",
    "    queries_states = np.array(queries_states)\n",
    "    \n",
    "    return queries_states.sum() / len(queries_states)\n"
   ]
  },
  {
   "cell_type": "code",
   "execution_count": 10,
   "metadata": {},
   "outputs": [
    {
     "name": "stdout",
     "output_type": "stream",
     "text": [
      "random, hit ratio: 0.015104166666666667\n",
      "pagerank, hit ratio: 0.8505208333333333\n",
      "entropy, hit ratio: 0.8208333333333333\n",
      "prediction_error, hit ratio: 0.45735217163788594\n",
      "weighted_prediction_error, hit ratio: 0.8197916666666667\n"
     ]
    }
   ],
   "source": [
    "methods = ['random', 'pagerank', 'entropy', 'prediction_error', 'weighted_prediction_error']\n",
    "for m in methods:\n",
    "    print('{}, hit ratio: {}'.format(m, query_strategy_hit_ratio(m)))"
   ]
  }
 ],
 "metadata": {
  "kernelspec": {
   "display_name": "Python 3",
   "language": "python",
   "name": "python3"
  },
  "language_info": {
   "codemirror_mode": {
    "name": "ipython",
    "version": 3
   },
   "file_extension": ".py",
   "mimetype": "text/x-python",
   "name": "python",
   "nbconvert_exporter": "python",
   "pygments_lexer": "ipython3",
   "version": "3.5.2"
  }
 },
 "nbformat": 4,
 "nbformat_minor": 2
}
