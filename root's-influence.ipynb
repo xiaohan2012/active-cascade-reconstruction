{
 "cells": [
  {
   "cell_type": "code",
   "execution_count": 2,
   "metadata": {},
   "outputs": [],
   "source": [
    "%matplotlib inline"
   ]
  },
  {
   "cell_type": "code",
   "execution_count": 1,
   "metadata": {},
   "outputs": [],
   "source": [
    "import numpy as np\n",
    "import pandas as pd\n",
    "import random\n",
    "import matplotlib.pyplot as plt\n",
    "\n",
    "from helpers import load_cascades, cascade_source\n",
    "from sample_pool import TreeSamplePool\n",
    "from tree_stat import TreeBasedStatistics\n",
    "from graph_helpers import load_graph_by_name, k_hop_neighbors\n",
    "from inference import infection_probability\n",
    "\n",
    "from joblib import Parallel, delayed\n",
    "from graph_tool.centrality import pagerank\n",
    "from tqdm import tqdm\n",
    "from sklearn.metrics import average_precision_score\n",
    "from collections import defaultdict\n",
    "from random_steiner_tree.util import from_gt\n",
    "\n"
   ]
  },
  {
   "cell_type": "code",
   "execution_count": 17,
   "metadata": {},
   "outputs": [],
   "source": [
    "graph_name = 'grqc'\n",
    "g = load_graph_by_name(graph_name)"
   ]
  },
  {
   "cell_type": "code",
   "execution_count": 18,
   "metadata": {},
   "outputs": [],
   "source": [
    "n_samples= 250\n",
    "sampling_method = 'loop_erased'\n"
   ]
  },
  {
   "cell_type": "code",
   "execution_count": 19,
   "metadata": {},
   "outputs": [],
   "source": [
    "def pagerank_scores(g, obs):\n",
    "    pers = g.new_vertex_property('float')\n",
    "    for o in obs:\n",
    "        pers[o] = 1 / len(obs)\n",
    "    rank = pagerank(g, pers=pers)\n",
    "\n",
    "    for o in obs:\n",
    "        rank[o] = 0  # cannot select obs nodes\n",
    "    p = rank.a / rank.a.sum()    \n",
    "    return p"
   ]
  },
  {
   "cell_type": "code",
   "execution_count": 20,
   "metadata": {},
   "outputs": [],
   "source": [
    "def build_cascade_source_sampler(g, obs, c, *args):\n",
    "    def aux():\n",
    "        return cascade_source(c)\n",
    "    return aux\n",
    "\n",
    "def build_root_sampler_by_pagerank_score(g, obs, c, p):\n",
    "    def aux():\n",
    "        return np.random.choice(np.arange(g.num_vertices()), size=1, p=p)[0]\n",
    "    return aux\n",
    "\n",
    "def build_earlier_root_sampler(g, obs, c, *args):\n",
    "    def f():\n",
    "        return min(obs, key=lambda o: c[o])\n",
    "    return f\n",
    "\n",
    "def build_early_nbrs_sampler(g, obs, c, *args, k=1):\n",
    "    earliest_node = min(obs, key=lambda o: c[o])\n",
    "    nbrs = list(k_hop_neighbors(earliest_node, g, k=k)) + [earliest_node]\n",
    "\n",
    "    def f():\n",
    "        return random.choice(nbrs)\n",
    "    return f\n",
    "    \n",
    "root_samplers = {'random': (lambda *things: None), \n",
    "                 'source': build_cascade_source_sampler,\n",
    "                 'early_nbrs': build_early_nbrs_sampler,\n",
    "                 'pagerank': build_root_sampler_by_pagerank_score\n",
    "                }"
   ]
  },
  {
   "cell_type": "code",
   "execution_count": 21,
   "metadata": {},
   "outputs": [],
   "source": [
    "def one_run_for_cascade(obs, c, pagerank):\n",
    "    \"\"\"pass pagerank in because if pagerank and joblib.Parallel cannot be run together\"\"\"\n",
    "    estimator = TreeBasedStatistics(g)\n",
    "    gi = from_gt(g)\n",
    "    sampler = TreeSamplePool(g, n_samples=n_samples,\n",
    "                             method=sampling_method,\n",
    "                             gi=gi,\n",
    "                             return_tree_nodes=True)\n",
    "\n",
    "    ans = {}\n",
    "    for name, root_sampler_builder in root_samplers.items():\n",
    "        root_sampler = root_sampler_builder(g, obs, c, pagerank)\n",
    "        sampler.fill(obs,\n",
    "                     root_sampler=root_sampler)\n",
    "        estimator.build_matrix(sampler.samples)\n",
    "        probas = infection_probability(g, obs, sampler, error_estimator=estimator)\n",
    "\n",
    "        # evaluation\n",
    "        obs = set(obs)\n",
    "        infected = (c >= 0).nonzero()[0]\n",
    "        y_true = np.zeros((len(c), ))\n",
    "        y_true[infected] = 1\n",
    "\n",
    "        mask = np.array([(i not in obs) for i in range(len(c))])\n",
    "        ans[name] = average_precision_score(y_true[mask], probas[mask])\n",
    "    return ans\n"
   ]
  },
  {
   "cell_type": "code",
   "execution_count": 22,
   "metadata": {},
   "outputs": [],
   "source": [
    "def one_run_for_cascade_dir(cascade_dir):    \n",
    "    cs = load_cascades(cascade_dir)\n",
    "    gi = from_gt(g)\n",
    "    \n",
    "    records = Parallel(n_jobs=-1)(delayed(one_run_for_cascade)(obs, c, pagerank_scores(g, obs))\n",
    "                                  for cid, (obs, c) in tqdm(cs, total=96))\n",
    "    df = pd.DataFrame.from_records(records)\n",
    "    \n",
    "    return df"
   ]
  },
  {
   "cell_type": "code",
   "execution_count": 23,
   "metadata": {},
   "outputs": [],
   "source": [
    "infection_fractions = [0.02, 0.04, 0.08, 0.16, 0.32]\n",
    "cascade_dirs = ['cascade/{}-msi-s{}-o0.1/'.format(graph_name, i) for i in infection_fractions]"
   ]
  },
  {
   "cell_type": "code",
   "execution_count": 24,
   "metadata": {
    "scrolled": true
   },
   "outputs": [
    {
     "name": "stderr",
     "output_type": "stream",
     "text": [
      "100%|██████████| 96/96 [00:50<00:00,  1.61it/s]\n",
      "100%|██████████| 96/96 [00:53<00:00,  1.09it/s]\n",
      "100%|██████████| 96/96 [00:50<00:00,  2.07it/s]\n",
      "100%|██████████| 96/96 [00:53<00:00,  1.75it/s]\n",
      "100%|██████████| 96/96 [00:58<00:00,  1.28it/s]\n"
     ]
    }
   ],
   "source": [
    "dfs = []\n",
    "for cascade_dir in cascade_dirs:\n",
    "    dfs.append(one_run_for_cascade_dir(cascade_dir))"
   ]
  },
  {
   "cell_type": "code",
   "execution_count": 27,
   "metadata": {},
   "outputs": [],
   "source": [
    "from cycler import cycler\n",
    "plt.rc('axes',\n",
    "       prop_cycle=(\n",
    "           cycler('color', ['b', 'g', 'r', 'y', 'g', 'b']) +\n",
    "           cycler('linestyle', ['-', '-', '-', '-', '--', '-']) +\n",
    "           cycler('marker', ['o', 'v', 'x', 's', 'o', '*'])\n",
    "       ))"
   ]
  },
  {
   "cell_type": "code",
   "execution_count": 28,
   "metadata": {},
   "outputs": [
    {
     "data": {
      "image/png": "[encoded data removed]",
      "text/plain": [
       "<matplotlib.figure.Figure at 0x7f56b8948860>"
      ]
     },
     "metadata": {},
     "output_type": "display_data"
    }
   ],
   "source": [
    "fig = plt.figure()\n",
    "ax = fig.add_subplot(111)\n",
    "rows = np.array([df.mean().as_matrix() for df in dfs]).T\n",
    "for r in rows:\n",
    "    ax.plot(r, markersize=10)\n",
    "\n",
    "ax.set_xlabel('cascade size w.r.t |V|')\n",
    "ax.set_ylabel('AP score')\n",
    "ax.legend(list(dfs[0].columns), loc='best', fontsize=17)\n",
    "ax.set_xticklabels(infection_fractions)\n",
    "\n",
    "for item in (ax.get_xticklabels() + ax.get_yticklabels()):\n",
    "    item.set_fontsize(18)\n",
    "\n",
    "ax.xaxis.label.set_fontsize(20)\n",
    "ax.yaxis.label.set_fontsize(20)\n",
    "ax.locator_params(axis='y', nbins=4)\n",
    "ax.locator_params(axis='x', nbins=len(infection_fractions))\n",
    "fig.tight_layout()\n",
    "\n",
    "fig.savefig('figs/root-effects/{}.pdf'.format(graph_name))"
   ]
  },
  {
   "cell_type": "code",
   "execution_count": null,
   "metadata": {},
   "outputs": [],
   "source": [
    "for f, df in zip(infection_fractions, dfs):\n",
    "    print('cascade size: {}x|V|'.format(f))\n",
    "    print()\n",
    "    print(df.mean().sort_values(ascending=False))\n",
    "    print('--'*10)\n",
    "    "
   ]
  }
 ],
 "metadata": {
  "kernelspec": {
   "display_name": "Python 3",
   "language": "python",
   "name": "python3"
  },
  "language_info": {
   "codemirror_mode": {
    "name": "ipython",
    "version": 3
   },
   "file_extension": ".py",
   "mimetype": "text/x-python",
   "name": "python",
   "nbconvert_exporter": "python",
   "pygments_lexer": "ipython3",
   "version": "3.5.2"
  }
 },
 "nbformat": 4,
 "nbformat_minor": 2
}
