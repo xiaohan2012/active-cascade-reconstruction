{
 "cells": [
  {
   "cell_type": "code",
   "execution_count": 13,
   "metadata": {},
   "outputs": [],
   "source": [
    "%matplotlib inline"
   ]
  },
  {
   "cell_type": "code",
   "execution_count": 14,
   "metadata": {},
   "outputs": [],
   "source": [
    "import numpy as np\n",
    "import pandas as pd\n",
    "import random\n",
    "import matplotlib.pyplot as plt\n",
    "\n",
    "from helpers import load_cascades, cascade_source\n",
    "from sample_pool import TreeSamplePool\n",
    "from tree_stat import TreeBasedStatistics\n",
    "from graph_helpers import load_graph_by_name, k_hop_neighbors\n",
    "from inference import infection_probability\n",
    "\n",
    "from joblib import Parallel, delayed\n",
    "from graph_tool.centrality import pagerank\n",
    "from tqdm import tqdm\n",
    "from sklearn.metrics import average_precision_score\n",
    "from collections import defaultdict\n",
    "from random_steiner_tree.util import from_gt\n",
    "\n"
   ]
  },
  {
   "cell_type": "code",
   "execution_count": 15,
   "metadata": {},
   "outputs": [],
   "source": [
    "graph_name = 'lattice-1024'\n",
    "g = load_graph_by_name(graph_name)"
   ]
  },
  {
   "cell_type": "code",
   "execution_count": 16,
   "metadata": {},
   "outputs": [],
   "source": [
    "n_samples= 250\n",
    "sampling_method = 'loop_erased'\n"
   ]
  },
  {
   "cell_type": "code",
   "execution_count": 17,
   "metadata": {},
   "outputs": [],
   "source": [
    "def pagerank_scores(g, obs):\n",
    "    pers = g.new_vertex_property('float')\n",
    "    for o in obs:\n",
    "        pers[o] = 1 / len(obs)\n",
    "    rank = pagerank(g, pers=pers)\n",
    "\n",
    "    for o in obs:\n",
    "        rank[o] = 0  # cannot select obs nodes\n",
    "    p = rank.a / rank.a.sum()    \n",
    "    return p"
   ]
  },
  {
   "cell_type": "code",
   "execution_count": 18,
   "metadata": {},
   "outputs": [],
   "source": [
    "def build_cascade_source_sampler(g, obs, c, *args):\n",
    "    def aux():\n",
    "        return cascade_source(c)\n",
    "    return aux\n",
    "\n",
    "def build_root_sampler_by_pagerank_score(g, obs, c, p):\n",
    "    def aux():\n",
    "        return np.random.choice(np.arange(g.num_vertices()), size=1, p=p)[0]\n",
    "    return aux\n",
    "\n",
    "root_samplers = {'random': (lambda *things: None), \n",
    "                 'source': build_cascade_source_sampler,\n",
    "                 'pagerank': build_root_sampler_by_pagerank_score\n",
    "                }"
   ]
  },
  {
   "cell_type": "code",
   "execution_count": 19,
   "metadata": {},
   "outputs": [],
   "source": [
    "def one_run_for_cascade(obs, c, pagerank):\n",
    "    \"\"\"pass pagerank in because if pagerank and joblib.Parallel cannot be run together\"\"\"\n",
    "    estimator = TreeBasedStatistics(g)\n",
    "    gi = from_gt(g)\n",
    "    sampler = TreeSamplePool(g, n_samples=n_samples,\n",
    "                             method=sampling_method,\n",
    "                             gi=gi,\n",
    "                             return_tree_nodes=True)\n",
    "\n",
    "    ans = {}\n",
    "    for name, root_sampler_builder in root_samplers.items():\n",
    "        root_sampler = root_sampler_builder(g, obs, c, pagerank)\n",
    "        sampler.fill(obs,\n",
    "                     root_sampler=root_sampler)\n",
    "        estimator.build_matrix(sampler.samples)\n",
    "        probas = infection_probability(g, obs, sampler, error_estimator=estimator)\n",
    "\n",
    "        # evaluation\n",
    "        obs = set(obs)\n",
    "        infected = (c >= 0).nonzero()[0]\n",
    "        y_true = np.zeros((len(c), ))\n",
    "        y_true[infected] = 1\n",
    "\n",
    "        mask = np.array([(i not in obs) for i in range(len(c))])\n",
    "        ans[name] = average_precision_score(y_true[mask], probas[mask])\n",
    "    return ans\n"
   ]
  },
  {
   "cell_type": "code",
   "execution_count": 20,
   "metadata": {},
   "outputs": [],
   "source": [
    "def one_run_for_cascade_dir(cascade_dir):    \n",
    "    cs = load_cascades(cascade_dir)\n",
    "    gi = from_gt(g)\n",
    "    \n",
    "    records = Parallel(n_jobs=-1)(delayed(one_run_for_cascade)(obs, c, pagerank_scores(g, obs))\n",
    "                                  for cid, (obs, c) in tqdm(cs, total=96))\n",
    "    df = pd.DataFrame.from_records(records)\n",
    "    \n",
    "    return df"
   ]
  },
  {
   "cell_type": "code",
   "execution_count": 21,
   "metadata": {},
   "outputs": [
    {
     "name": "stdout",
     "output_type": "stream",
     "text": [
      "[0.04, 0.08, 0.16, 0.32, 0.64]\n"
     ]
    }
   ],
   "source": [
    "if graph_name == 'grqc':\n",
    "    infection_fractions = [0.02, 0.04, 0.08, 0.16, 0.32]\n",
    "elif graph_name == 'lattice-1024':\n",
    "    infection_fractions = [0.04, 0.08, 0.16, 0.32, 0.64]\n",
    "print(infection_fractions)\n",
    "cascade_dirs = ['cascade/{}-msi-s{}-o0.1/'.format(graph_name, i) for i in infection_fractions]"
   ]
  },
  {
   "cell_type": "code",
   "execution_count": 22,
   "metadata": {
    "scrolled": true
   },
   "outputs": [
    {
     "name": "stderr",
     "output_type": "stream",
     "text": [
      "100%|██████████| 96/96 [00:07<00:00, 13.61it/s]\n",
      "100%|██████████| 96/96 [00:06<00:00, 14.81it/s]\n",
      "100%|██████████| 96/96 [00:08<00:00, 13.48it/s]\n",
      "100%|██████████| 96/96 [00:07<00:00, 11.84it/s]\n",
      "100%|██████████| 96/96 [00:08<00:00, 11.26it/s]\n"
     ]
    }
   ],
   "source": [
    "dfs = []\n",
    "for cascade_dir in cascade_dirs:\n",
    "    dfs.append(one_run_for_cascade_dir(cascade_dir))"
   ]
  },
  {
   "cell_type": "code",
   "execution_count": 23,
   "metadata": {},
   "outputs": [],
   "source": [
    "from cycler import cycler\n",
    "plt.rc('axes',\n",
    "       prop_cycle=(\n",
    "           cycler('color', ['b', 'g', 'r', 'y', 'g', 'b']) +\n",
    "           cycler('linestyle', ['-', '-', '-', '-', '--', '-']) +\n",
    "           cycler('marker', ['o', 'v', 'x', 's', 'o', '*'])\n",
    "       ))"
   ]
  },
  {
   "cell_type": "code",
   "execution_count": 24,
   "metadata": {},
   "outputs": [
    {
     "data": {
      "image/png": "[encoded data removed]",
      "text/plain": [
       "<matplotlib.figure.Figure at 0x7f1f2acc1da0>"
      ]
     },
     "metadata": {},
     "output_type": "display_data"
    }
   ],
   "source": [
    "fig = plt.figure()\n",
    "ax = fig.add_subplot(111)\n",
    "rows = np.array([df.mean().as_matrix() for df in dfs]).T\n",
    "for r in rows:\n",
    "    ax.plot(r, markersize=10)\n",
    "\n",
    "ax.set_xlabel('cascade size w.r.t |V|')\n",
    "ax.set_ylabel('AP score')\n",
    "ax.legend(list(dfs[0].columns), loc='best', fontsize=17)\n",
    "ax.set_xticklabels(infection_fractions)\n",
    "\n",
    "for item in (ax.get_xticklabels() + ax.get_yticklabels()):\n",
    "    item.set_fontsize(18)\n",
    "\n",
    "ax.xaxis.label.set_fontsize(20)\n",
    "ax.yaxis.label.set_fontsize(20)\n",
    "ax.locator_params(axis='y', nbins=4)\n",
    "ax.locator_params(axis='x', nbins=len(infection_fractions))\n",
    "fig.tight_layout()\n",
    "\n",
    "fig.savefig('figs/root-effects/{}.pdf'.format(graph_name))"
   ]
  },
  {
   "cell_type": "code",
   "execution_count": 12,
   "metadata": {},
   "outputs": [
    {
     "name": "stdout",
     "output_type": "stream",
     "text": [
      "cascade size: 0.02x|V|\n",
      "\n",
      "source      0.388473\n",
      "pagerank    0.371333\n",
      "random      0.359204\n",
      "dtype: float64\n",
      "--------------------\n",
      "cascade size: 0.04x|V|\n",
      "\n",
      "source      0.433574\n",
      "pagerank    0.424223\n",
      "random      0.418021\n",
      "dtype: float64\n",
      "--------------------\n",
      "cascade size: 0.08x|V|\n",
      "\n",
      "source      0.508091\n",
      "pagerank    0.503135\n",
      "random      0.500222\n",
      "dtype: float64\n",
      "--------------------\n",
      "cascade size: 0.16x|V|\n",
      "\n",
      "source      0.616776\n",
      "pagerank    0.615014\n",
      "random      0.613355\n",
      "dtype: float64\n",
      "--------------------\n",
      "cascade size: 0.32x|V|\n",
      "\n",
      "random      0.740477\n",
      "source      0.739935\n",
      "pagerank    0.739885\n",
      "dtype: float64\n",
      "--------------------\n"
     ]
    }
   ],
   "source": [
    "for f, df in zip(infection_fractions, dfs):\n",
    "    print('cascade size: {}x|V|'.format(f))\n",
    "    print()\n",
    "    print(df.mean().sort_values(ascending=False))\n",
    "    print('--'*10)\n",
    "    "
   ]
  }
 ],
 "metadata": {
  "kernelspec": {
   "display_name": "Python 3",
   "language": "python",
   "name": "python3"
  },
  "language_info": {
   "codemirror_mode": {
    "name": "ipython",
    "version": 3
   },
   "file_extension": ".py",
   "mimetype": "text/x-python",
   "name": "python",
   "nbconvert_exporter": "python",
   "pygments_lexer": "ipython3",
   "version": "3.5.2"
  }
 },
 "nbformat": 4,
 "nbformat_minor": 2
}
