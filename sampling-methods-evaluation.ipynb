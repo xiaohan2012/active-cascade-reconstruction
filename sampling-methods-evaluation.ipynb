{
 "cells": [
  {
   "cell_type": "code",
   "execution_count": 12,
   "metadata": {},
   "outputs": [],
   "source": [
    "import seaborn as sns\n",
    "import pandas as pd\n",
    "import numpy as np\n",
    "import pickle as pkl\n",
    "import matplotlib as mpl\n",
    "from graph_tool.generation import lattice\n",
    "from graph_tool.draw import graph_draw\n",
    "from graph_tool import openmp_set_num_threads\n",
    "from itertools import chain\n",
    "from collections import Counter\n",
    "from tqdm import tqdm\n",
    "from copy import copy\n",
    "from scipy.spatial.distance import cosine, euclidean\n",
    "\n",
    "\n",
    "from graph_helpers import load_graph_by_name, extract_edges, extract_nodes\n",
    "from viz_helpers import lattice_node_pos\n",
    "from experiment import gen_input\n",
    "from helpers import infected_nodes\n",
    "from core import sample_steiner_trees\n",
    "from tree_stat import TreeBasedStatistics\n",
    "from random_steiner_tree.util import from_gt\n",
    "\n",
    "from root_sampler import build_root_sampler_by_pagerank_score\n",
    "from sklearn.metrics import average_precision_score, roc_auc_score, accuracy_score\n"
   ]
  },
  {
   "cell_type": "code",
   "execution_count": 2,
   "metadata": {},
   "outputs": [],
   "source": [
    "openmp_set_num_threads(1)"
   ]
  },
  {
   "cell_type": "code",
   "execution_count": 17,
   "metadata": {},
   "outputs": [
    {
     "name": "stdout",
     "output_type": "stream",
     "text": [
      "load graph from data/grqc/graph_weighted_s0.03.gt\n"
     ]
    }
   ],
   "source": [
    "graph_name = 'grqc'\n",
    "suffix = 's0.03'\n",
    "q = '0.1'\n",
    "g = load_graph_by_name(graph_name, weighted=True, suffix='_'+suffix)"
   ]
  },
  {
   "cell_type": "code",
   "execution_count": 19,
   "metadata": {},
   "outputs": [],
   "source": [
    "stuff = pkl.load(open('outputs/inf_probas/{}-{}-q{}.pkl'.format(graph_name, suffix, q), 'rb'))"
   ]
  },
  {
   "cell_type": "code",
   "execution_count": 20,
   "metadata": {},
   "outputs": [],
   "source": [
    "def accumulate_score(stuff, eval_func):\n",
    "    scores_by_root_sampling_method = {}\n",
    "    for root_sampling_method, data in stuff.items():\n",
    "        scores_by_root_sampling_method[root_sampling_method] = []\n",
    "        for row in tqdm(data):\n",
    "            c, obs = row['c'], row['obs']\n",
    "            inf_nodes = infected_nodes(c)\n",
    "            y_true = np.zeros((len(c), ))\n",
    "            y_true[inf_nodes] = 1\n",
    "            mask = np.array([(i not in obs) for i in range(len(c))])\n",
    "\n",
    "            score = {}\n",
    "            names = ['random', 'st_naive', 'st_inc']\n",
    "            random_inf_p = np.random.random(g.num_vertices())\n",
    "            for name, inf_probas in zip(names, [random_inf_p, row['st_naive_probas'], row['st_tree_inc_probas']]):\n",
    "                score[name] = eval_func(y_true[mask], inf_probas[mask])\n",
    "            scores_by_root_sampling_method[root_sampling_method].append(score)\n",
    "    return scores_by_root_sampling_method"
   ]
  },
  {
   "cell_type": "code",
   "execution_count": 21,
   "metadata": {},
   "outputs": [],
   "source": [
    "def threshold_half_accuracy(y_true, y_pred):\n",
    "    pred_labels = np.asarray((y_pred >= 0.5), dtype=np.bool)\n",
    "    return accuracy_score(y_true, pred_labels)"
   ]
  },
  {
   "cell_type": "code",
   "execution_count": 22,
   "metadata": {
    "scrolled": true
   },
   "outputs": [
    {
     "name": "stderr",
     "output_type": "stream",
     "text": [
      "100%|██████████| 768/768 [00:12<00:00, 62.69it/s]\n",
      "100%|██████████| 768/768 [00:15<00:00, 50.23it/s]\n",
      "100%|██████████| 768/768 [00:12<00:00, 60.34it/s]\n",
      "100%|██████████| 768/768 [00:15<00:00, 46.92it/s]\n",
      "100%|██████████| 768/768 [00:14<00:00, 52.98it/s]\n",
      "100%|██████████| 768/768 [00:14<00:00, 51.74it/s]\n",
      "100%|██████████| 768/768 [00:16<00:00, 66.34it/s]\n",
      "100%|██████████| 768/768 [00:13<00:00, 57.47it/s]\n",
      "100%|██████████| 768/768 [00:11<00:00, 65.93it/s]\n",
      "100%|██████████| 768/768 [00:16<00:00, 47.52it/s]\n"
     ]
    }
   ],
   "source": [
    "ap_scores_by_root_sampling_method = accumulate_score(stuff, average_precision_score)\n",
    "roc_scores_by_root_sampling_method = accumulate_score(stuff, roc_auc_score)"
   ]
  },
  {
   "cell_type": "code",
   "execution_count": 23,
   "metadata": {},
   "outputs": [
    {
     "name": "stderr",
     "output_type": "stream",
     "text": [
      "100%|██████████| 768/768 [00:13<00:00, 56.19it/s]\n",
      "100%|██████████| 768/768 [00:11<00:00, 66.15it/s]\n",
      "100%|██████████| 768/768 [00:09<00:00, 84.49it/s]\n",
      "100%|██████████| 768/768 [00:11<00:00, 69.50it/s]\n",
      "100%|██████████| 768/768 [00:09<00:00, 83.72it/s]\n"
     ]
    }
   ],
   "source": [
    "accuracy_by_root_sampling_method = accumulate_score(stuff, threshold_half_accuracy)"
   ]
  },
  {
   "cell_type": "code",
   "execution_count": 24,
   "metadata": {},
   "outputs": [],
   "source": [
    "def describe_stuff(scores_by_root_sampling_method):\n",
    "    df_by_root_sampling_method = {}\n",
    "    for name, recs in scores_by_root_sampling_method.items():\n",
    "        df_by_root_sampling_method[name] = pd.DataFrame.from_records(recs).describe()\n",
    "    return df_by_root_sampling_method\n",
    "    "
   ]
  },
  {
   "cell_type": "code",
   "execution_count": 25,
   "metadata": {},
   "outputs": [],
   "source": [
    "ap_df_by_root_sampling_method = describe_stuff(ap_scores_by_root_sampling_method)\n",
    "roc_df_by_root_sampling_method = describe_stuff(roc_scores_by_root_sampling_method)\n",
    "accuracy_df_by_root_sampling_method = describe_stuff(accuracy_by_root_sampling_method)"
   ]
  },
  {
   "cell_type": "code",
   "execution_count": 26,
   "metadata": {},
   "outputs": [],
   "source": [
    "def print_result(df_by_keys):\n",
    "    keys = ['pagerank-eps0.0', 'pagerank-eps0.5', 'pagerank-eps1.0', 'random_root', 'true root']\n",
    "    for k  in keys:\n",
    "        df = df_by_keys[k]\n",
    "        print(k)\n",
    "        print('-' * 10)\n",
    "        print(df)    "
   ]
  },
  {
   "cell_type": "code",
   "execution_count": 27,
   "metadata": {},
   "outputs": [
    {
     "name": "stdout",
     "output_type": "stream",
     "text": [
      "pagerank-eps0.0\n",
      "----------\n",
      "           random      st_inc    st_naive\n",
      "count  768.000000  768.000000  768.000000\n",
      "mean     0.028739    0.519638    0.492277\n",
      "std      0.025484    0.294506    0.236692\n",
      "min      0.001526    0.007117    0.009651\n",
      "25%      0.005489    0.292504    0.384354\n",
      "50%      0.013812    0.590268    0.492354\n",
      "75%      0.052583    0.694487    0.586402\n",
      "max      0.103090    1.000000    1.000000\n",
      "pagerank-eps0.5\n",
      "----------\n",
      "           random      st_inc    st_naive\n",
      "count  768.000000  768.000000  768.000000\n",
      "mean     0.028348    0.423003    0.413134\n",
      "std      0.025292    0.281057    0.184759\n",
      "min      0.001288    0.005211    0.011940\n",
      "25%      0.005620    0.105163    0.291376\n",
      "50%      0.014365    0.537865    0.460842\n",
      "75%      0.051643    0.630235    0.522219\n",
      "max      0.107173    0.960233    0.871361\n",
      "pagerank-eps1.0\n",
      "----------\n",
      "           random      st_inc    st_naive\n",
      "count  768.000000  768.000000  768.000000\n",
      "mean     0.028389    0.422234    0.408661\n",
      "std      0.025063    0.279375    0.182058\n",
      "min      0.001660    0.002481    0.002945\n",
      "25%      0.005941    0.089330    0.285581\n",
      "50%      0.015501    0.537175    0.458479\n",
      "75%      0.050776    0.633218    0.520261\n",
      "max      0.100941    0.943014    0.833288\n",
      "random_root\n",
      "----------\n",
      "           random      st_inc    st_naive\n",
      "count  768.000000  768.000000  768.000000\n",
      "mean     0.027858    0.470178    0.494214\n",
      "std      0.025147    0.297995    0.199700\n",
      "min      0.001593    0.004859    0.025686\n",
      "25%      0.005967    0.136806    0.408572\n",
      "50%      0.014020    0.568345    0.504429\n",
      "75%      0.050924    0.661364    0.608724\n",
      "max      0.105330    1.000000    0.938554\n",
      "true root\n",
      "----------\n",
      "           random      st_inc    st_naive\n",
      "count  768.000000  768.000000  768.000000\n",
      "mean     0.028821    0.579505    0.568409\n",
      "std      0.025270    0.267719    0.209709\n",
      "min      0.001551    0.020236    0.094152\n",
      "25%      0.006011    0.486232    0.457221\n",
      "50%      0.015711    0.613051    0.522849\n",
      "75%      0.051131    0.740025    0.712719\n",
      "max      0.095837    1.000000    1.000000\n"
     ]
    }
   ],
   "source": [
    "print_result(ap_df_by_root_sampling_method)"
   ]
  },
  {
   "cell_type": "code",
   "execution_count": 28,
   "metadata": {},
   "outputs": [
    {
     "name": "stdout",
     "output_type": "stream",
     "text": [
      "pagerank-eps0.0\n",
      "----------\n",
      "           random      st_inc    st_naive\n",
      "count  768.000000  768.000000  768.000000\n",
      "mean     0.501072    0.929740    0.899488\n",
      "std      0.056799    0.052914    0.065862\n",
      "min      0.173045    0.704641    0.595108\n",
      "25%      0.476061    0.906527    0.862507\n",
      "50%      0.501188    0.928863    0.888946\n",
      "75%      0.523646    0.972005    0.957618\n",
      "max      0.756600    1.000000    1.000000\n",
      "pagerank-eps0.5\n",
      "----------\n",
      "           random      st_inc    st_naive\n",
      "count  768.000000  768.000000  768.000000\n",
      "mean     0.501437    0.925527    0.899648\n",
      "std      0.054115    0.051726    0.067759\n",
      "min      0.275326    0.674889    0.457908\n",
      "25%      0.476606    0.901602    0.861109\n",
      "50%      0.501240    0.926297    0.886834\n",
      "75%      0.522488    0.963392    0.959234\n",
      "max      0.755846    0.999823    0.999498\n",
      "pagerank-eps1.0\n",
      "----------\n",
      "           random      st_inc    st_naive\n",
      "count  768.000000  768.000000  768.000000\n",
      "mean     0.502069    0.922745    0.895775\n",
      "std      0.051316    0.058173    0.070839\n",
      "min      0.242132    0.533992    0.423420\n",
      "25%      0.479762    0.900803    0.858677\n",
      "50%      0.502461    0.925622    0.885958\n",
      "75%      0.526018    0.964067    0.956572\n",
      "max      0.698717    0.999793    0.999313\n",
      "random_root\n",
      "----------\n",
      "           random      st_inc    st_naive\n",
      "count  768.000000  768.000000  768.000000\n",
      "mean     0.498842    0.924466    0.900518\n",
      "std      0.056451    0.055661    0.066466\n",
      "min      0.280525    0.696043    0.644161\n",
      "25%      0.474396    0.902198    0.861296\n",
      "50%      0.499180    0.927708    0.889072\n",
      "75%      0.527164    0.966661    0.960013\n",
      "max      0.787501    1.000000    0.999690\n",
      "true root\n",
      "----------\n",
      "           random      st_inc    st_naive\n",
      "count  768.000000  768.000000  768.000000\n",
      "mean     0.499906    0.938527    0.908466\n",
      "std      0.051250    0.044776    0.061463\n",
      "min      0.283177    0.741897    0.618028\n",
      "25%      0.480280    0.911984    0.867643\n",
      "50%      0.500280    0.931710    0.894628\n",
      "75%      0.520311    0.980938    0.966377\n",
      "max      0.821910    1.000000    1.000000\n"
     ]
    }
   ],
   "source": [
    "print_result(roc_df_by_root_sampling_method)"
   ]
  },
  {
   "cell_type": "code",
   "execution_count": 29,
   "metadata": {},
   "outputs": [
    {
     "name": "stdout",
     "output_type": "stream",
     "text": [
      "pagerank-eps0.0\n",
      "----------\n",
      "           random      st_inc    st_naive\n",
      "count  768.000000  768.000000  768.000000\n",
      "mean     0.499934    0.962198    0.975322\n",
      "std      0.007463    0.022937    0.022501\n",
      "min      0.476491    0.916848    0.906592\n",
      "25%      0.495299    0.943895    0.954040\n",
      "50%      0.499578    0.956538    0.988921\n",
      "75%      0.504843    0.980330    0.995668\n",
      "max      0.523256    1.000000    0.998797\n",
      "pagerank-eps0.5\n",
      "----------\n",
      "           random      st_inc    st_naive\n",
      "count  768.000000  768.000000  768.000000\n",
      "mean     0.499830    0.952981    0.974924\n",
      "std      0.007846    0.013649    0.022685\n",
      "min      0.471126    0.915230    0.915938\n",
      "25%      0.494704    0.942639    0.953806\n",
      "50%      0.499516    0.953323    0.988198\n",
      "75%      0.505543    0.964679    0.994946\n",
      "max      0.522640    0.999519    0.998556\n",
      "pagerank-eps1.0\n",
      "----------\n",
      "           random      st_inc    st_naive\n",
      "count  768.000000  768.000000  768.000000\n",
      "mean     0.500010    0.952808    0.975122\n",
      "std      0.007149    0.013118    0.022567\n",
      "min      0.472797    0.915677    0.913244\n",
      "25%      0.495187    0.942453    0.954293\n",
      "50%      0.500000    0.953791    0.988198\n",
      "75%      0.504858    0.965111    0.994946\n",
      "max      0.522738    0.980014    0.998316\n",
      "random_root\n",
      "----------\n",
      "           random      st_inc    st_naive\n",
      "count  768.000000  768.000000  768.000000\n",
      "mean     0.500268    0.953742    0.975865\n",
      "std      0.007469    0.013673    0.022568\n",
      "min      0.476837    0.915633    0.911500\n",
      "25%      0.495062    0.943430    0.955260\n",
      "50%      0.500000    0.954447    0.988921\n",
      "75%      0.505294    0.966795    0.995427\n",
      "max      0.527443    0.975938    0.998797\n",
      "true root\n",
      "----------\n",
      "           random      st_inc    st_naive\n",
      "count  768.000000  768.000000  768.000000\n",
      "mean     0.500230    0.963765    0.975348\n",
      "std      0.007981    0.023830    0.022597\n",
      "min      0.475457    0.912621    0.919359\n",
      "25%      0.494463    0.944398    0.955200\n",
      "50%      0.500120    0.958303    0.988560\n",
      "75%      0.505778    0.985860    0.995668\n",
      "max      0.522022    1.000000    0.999038\n"
     ]
    }
   ],
   "source": [
    "print_result(accuracy_df_by_root_sampling_method)"
   ]
  }
 ],
 "metadata": {
  "kernelspec": {
   "display_name": "Python 3",
   "language": "python",
   "name": "python3"
  },
  "language_info": {
   "codemirror_mode": {
    "name": "ipython",
    "version": 3
   },
   "file_extension": ".py",
   "mimetype": "text/x-python",
   "name": "python",
   "nbconvert_exporter": "python",
   "pygments_lexer": "ipython3",
   "version": "3.5.2"
  }
 },
 "nbformat": 4,
 "nbformat_minor": 2
}
