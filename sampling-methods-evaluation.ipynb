{
 "cells": [
  {
   "cell_type": "code",
   "execution_count": 81,
   "metadata": {},
   "outputs": [],
   "source": [
    "%matplotlib inline"
   ]
  },
  {
   "cell_type": "code",
   "execution_count": 82,
   "metadata": {},
   "outputs": [],
   "source": [
    "import seaborn as sns\n",
    "import pandas as pd\n",
    "import numpy as np\n",
    "import pickle as pkl\n",
    "import matplotlib as mpl\n",
    "from graph_tool.generation import lattice\n",
    "from graph_tool.draw import graph_draw\n",
    "from graph_tool import openmp_set_num_threads\n",
    "from itertools import chain\n",
    "from collections import Counter\n",
    "from tqdm import tqdm\n",
    "from copy import copy\n",
    "from scipy.spatial.distance import cosine, euclidean\n",
    "from matplotlib import pyplott as plt\n",
    "\n",
    "\n",
    "from graph_helpers import load_graph_by_name, extract_edges, extract_nodes\n",
    "from viz_helpers import lattice_node_pos\n",
    "from experiment import gen_input\n",
    "from helpers import infected_nodes\n",
    "from core import sample_steiner_trees\n",
    "from tree_stat import TreeBasedStatistics\n",
    "from random_steiner_tree.util import from_gt\n",
    "\n",
    "from root_sampler import build_root_sampler_by_pagerank_score\n",
    "from sklearn.metrics import average_precision_score, roc_auc_score, accuracy_score, precision_score, recall_score, f1_score\n"
   ]
  },
  {
   "cell_type": "code",
   "execution_count": 2,
   "metadata": {},
   "outputs": [],
   "source": [
    "openmp_set_num_threads(1)"
   ]
  },
  {
   "cell_type": "code",
   "execution_count": 115,
   "metadata": {},
   "outputs": [
    {
     "name": "stdout",
     "output_type": "stream",
     "text": [
      "load graph from data/lattice-1024/graph_weighted_s0.02.gt\n"
     ]
    }
   ],
   "source": [
    "graph_name = 'lattice-1024'\n",
    "suffix = 's0.02'\n",
    "qs = ['0.1', '0.25', '0.5', '0.75']\n",
    "aspect = 'f1'\n",
    "eval_metric = 'mean'\n",
    "root_sampling_method = 'random_root'\n",
    "\n",
    "g = load_graph_by_name(graph_name, weighted=True, suffix='_'+suffix)"
   ]
  },
  {
   "cell_type": "code",
   "execution_count": 116,
   "metadata": {},
   "outputs": [
    {
     "name": "stdout",
     "output_type": "stream",
     "text": [
      "q=0.1\n",
      "----------\n",
      "           random      st_inc    st_naive\n",
      "count  768.000000  768.000000  768.000000\n",
      "mean     0.039385    0.444733    0.105604\n",
      "std      0.026863    0.104284    0.107916\n",
      "min      0.003690    0.117647    0.000000\n",
      "25%      0.019646    0.368270    0.000000\n",
      "50%      0.031527    0.444444    0.097800\n",
      "75%      0.051188    0.523976    0.181818\n",
      "max      0.188800    0.700000    0.545455\n",
      "q=0.25\n",
      "----------\n",
      "           random      st_inc    st_naive\n",
      "count  768.000000  768.000000  768.000000\n",
      "mean     0.034679    0.346475    0.365371\n",
      "std      0.025181    0.075676    0.173758\n",
      "min      0.003711    0.162162    0.000000\n",
      "25%      0.018519    0.293354    0.241818\n",
      "50%      0.027264    0.339134    0.390244\n",
      "75%      0.043282    0.392541    0.489116\n",
      "max      0.206897    0.628571    0.814815\n",
      "q=0.5\n",
      "----------\n",
      "           random      st_inc    st_naive\n",
      "count  768.000000  768.000000  768.000000\n",
      "mean     0.025192    0.231617    0.589475\n",
      "std      0.017525    0.051578    0.156297\n",
      "min      0.000000    0.100000    0.000000\n",
      "25%      0.014034    0.196721    0.500000\n",
      "50%      0.019960    0.226251    0.615385\n",
      "75%      0.030843    0.260041    0.691595\n",
      "max      0.141561    0.412698    0.923077\n",
      "q=0.75\n",
      "----------\n",
      "           random      st_inc    st_naive\n",
      "count  768.000000  768.000000  768.000000\n",
      "mean     0.012495    0.122347    0.534085\n",
      "std      0.009353    0.028955    0.154932\n",
      "min      0.000000    0.065574    0.000000\n",
      "25%      0.007648    0.101266    0.444444\n",
      "50%      0.011461    0.119403    0.545455\n",
      "75%      0.015936    0.137657    0.622917\n",
      "max      0.098361    0.266212    1.000000\n"
     ]
    }
   ],
   "source": [
    "methods = ['pagerank-eps0.0', 'pagerank-eps0.5', 'pagerank-eps1.0', 'random_root', 'true root']\n",
    "\n",
    "columns_to_plot = []\n",
    "for q in qs:\n",
    "    result_path = 'eval_result/{}-{}-q{}-by_root_sampling_methods.pkl'.format(graph_name, suffix, q)\n",
    "    row = pkl.load(open(result_path, 'rb'))\n",
    "    print('q={}'.format(q))\n",
    "    print('-' * 10)\n",
    "    print(row[aspect][root_sampling_method])\n",
    "    columns_to_plot.append(row[aspect][root_sampling_method].loc['50%'].as_matrix())\n",
    "#     for m in methods:\n",
    "#         print(m)\n",
    "#         print(row[aspect][m])"
   ]
  },
  {
   "cell_type": "code",
   "execution_count": 117,
   "metadata": {},
   "outputs": [
    {
     "data": {
      "text/plain": [
       "<matplotlib.text.Text at 0x7f169c5d4908>"
      ]
     },
     "execution_count": 117,
     "metadata": {},
     "output_type": "execute_result"
    },
    {
     "data": {
      "image/png": "[encoded data removed]",
      "text/plain": [
       "<matplotlib.figure.Figure at 0x7f16acdd4550>"
      ]
     },
     "metadata": {},
     "output_type": "display_data"
    }
   ],
   "source": [
    "rows_to_plot = np.array(columns_to_plot).T\n",
    "xs = list(map(float, qs))\n",
    "for r in rows_to_plot:\n",
    "    plt.plot(xs, r, 'o-')\n",
    "plt.legend(row[aspect][root_sampling_method].columns, loc='best')    \n",
    "plt.xlabel('obs fraction')\n",
    "plt.ylabel(eval_metric + ' ' + aspect)"
   ]
  },
  {
   "cell_type": "code",
   "execution_count": 121,
   "metadata": {},
   "outputs": [
    {
     "data": {
      "text/plain": [
       "<matplotlib.figure.Figure at 0x7f169c5558d0>"
      ]
     },
     "metadata": {},
     "output_type": "display_data"
    }
   ],
   "source": [
    "plt.savefig('figs/sampling-methods-eval-by-q/{}-{}.pdf'.format(graph_name, suffix, q))"
   ]
  }
 ],
 "metadata": {
  "kernelspec": {
   "display_name": "Python 3",
   "language": "python",
   "name": "python3"
  },
  "language_info": {
   "codemirror_mode": {
    "name": "ipython",
    "version": 3
   },
   "file_extension": ".py",
   "mimetype": "text/x-python",
   "name": "python",
   "nbconvert_exporter": "python",
   "pygments_lexer": "ipython3",
   "version": "3.5.2"
  }
 },
 "nbformat": 4,
 "nbformat_minor": 2
}
