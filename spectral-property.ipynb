{
 "cells": [
  {
   "cell_type": "code",
   "execution_count": 288,
   "metadata": {},
   "outputs": [],
   "source": [
    "import graph_tool as gt\n",
    "import networkx as nx\n",
    "import numpy as np\n",
    "from graph_tool import collection\n",
    "from graph_helpers import load_graph_by_name\n",
    "from graph_tool.spectral import adjacency, laplacian\n",
    "from graph_tool.generation import complete_graph, random_graph, random_rewire\n",
    "from scipy.sparse.linalg import eigs\n",
    "from scipy.sparse.csgraph import laplacian as scipy_laplacian\n",
    "from scipy.sparse import dia_matrix, diags"
   ]
  },
  {
   "cell_type": "code",
   "execution_count": 381,
   "metadata": {},
   "outputs": [],
   "source": [
    "eigs?"
   ]
  },
  {
   "cell_type": "code",
   "execution_count": 399,
   "metadata": {},
   "outputs": [],
   "source": [
    "def get_eig_vals(name, k=10):\n",
    "    if name == 'complete':\n",
    "        g = complete_graph(15)\n",
    "    elif name == 'random':\n",
    "        g = random_graph(100, lambda: 10, directed=False)\n",
    "    elif name == 'karate':\n",
    "        g = collection.data['karate']\n",
    "    elif name == 'dolphins':\n",
    "        g = collection.data['dolphins']\n",
    "    else:\n",
    "        g = load_graph_by_name(name)\n",
    "    if False:\n",
    "        adj = adjacency(g)\n",
    "        w_adj, v= eigs(adj, k=k, which='LR')\n",
    "        lap = laplacian(g)\n",
    "        w_lap, v= eigs(lap, k=2, which='LR')\n",
    "    else:\n",
    "        A = adjacency(g)\n",
    "        degs  = A.sum(axis=1)\n",
    "        degs = np.array(degs.T.tolist()[0])\n",
    "        D_inv = diags(1/degs, 0)\n",
    "\n",
    "        # A_norm = D_inv * A \n",
    "        A_norm = A * D_inv\n",
    "        L = scipy_laplacian(A_norm)\n",
    "        w_adj, v= eigs(A_norm, k=k, which='LR')\n",
    "        w_lap, v = eigs(L, k=2, which='LR')\n",
    "    return {'g': g, 'adj': w_adj, 'lap': w_lap}"
   ]
  },
  {
   "cell_type": "code",
   "execution_count": 400,
   "metadata": {},
   "outputs": [],
   "source": [
    "graphs = ['lattice-1024', 'infectious', 'grqc', 'p2p']"
   ]
  },
  {
   "cell_type": "code",
   "execution_count": 401,
   "metadata": {},
   "outputs": [
    {
     "name": "stdout",
     "output_type": "stream",
     "text": [
      "load graph from data/lattice-1024/graph.gt\n"
     ]
    }
   ],
   "source": [
    "g = load_graph_by_name('lattice-1024')\n",
    "A = adjacency(g)\n",
    "degs  = A.sum(axis=1)\n",
    "degs = np.array(degs.T.tolist()[0])\n",
    "D_inv = diags(1/degs, 0)\n",
    "\n",
    "A_norm = D_inv * A\n",
    "L = scipy_laplacian(A_norm)\n"
   ]
  },
  {
   "cell_type": "code",
   "execution_count": 402,
   "metadata": {},
   "outputs": [
    {
     "name": "stdout",
     "output_type": "stream",
     "text": [
      "load graph from data/lattice-1024/graph.gt\n",
      "load graph from data/infectious/graph.gt\n",
      "load graph from data/grqc/graph.gt\n",
      "load graph from data/p2p/graph.gt\n"
     ]
    }
   ],
   "source": [
    "eig_vals = {}\n",
    "for g in graphs:\n",
    "    eig_vals[g] = get_eig_vals(g)"
   ]
  },
  {
   "cell_type": "code",
   "execution_count": 367,
   "metadata": {},
   "outputs": [],
   "source": [
    "def non_randomness(vals, k=2):\n",
    "    return (vals[:k].sum()).real\n",
    "\n",
    "def mean_var_ER(g, k=2):\n",
    "    n = g.num_vertices()\n",
    "    m = g.num_edges()\n",
    "    p = 2 * k * m / n / (n - k)   \n",
    "    mean = (n - 2*k) * p + k\n",
    "    v = 2 * k * p * (1 - p)\n",
    "    return mean, np.sqrt(v)\n",
    "\n",
    "def relative_non_randomess(g, eigs, k):\n",
    "    m, v = mean_var_ER(g, k)\n",
    "    nr = non_randomness(eigs, k)\n",
    "    return (nr - m) / v"
   ]
  },
  {
   "cell_type": "code",
   "execution_count": 403,
   "metadata": {},
   "outputs": [],
   "source": [
    "def spectral_gap(vals):\n",
    "    return (vals[0] - vals[1]).real"
   ]
  },
  {
   "cell_type": "code",
   "execution_count": 404,
   "metadata": {},
   "outputs": [
    {
     "name": "stdout",
     "output_type": "stream",
     "text": [
      "p2p 1.0000, 0.9596, 0.9190, 0.9037, 0.9000\n",
      "infectious 1.0000, 0.9820, 0.9564, 0.9257, 0.9011\n",
      "grqc 1.0000, 0.9981, 0.9979, 0.9963, 0.9898\n",
      "lattice-1024 1.0000, 0.9949, 0.9975, 0.9975, 0.9795\n"
     ]
    }
   ],
   "source": [
    "for k, v in eig_vals.items():\n",
    "    print(k, ', '.join(map(lambda s: '{:.4f}'.format(s), np.real(v['adj'])[:5])))"
   ]
  },
  {
   "cell_type": "code",
   "execution_count": 406,
   "metadata": {},
   "outputs": [
    {
     "name": "stdout",
     "output_type": "stream",
     "text": [
      "p2p: 0.04037015147737566\n",
      "infectious: 0.017955918982718533\n",
      "grqc: 0.0018672256377949559\n",
      "lattice-1024: 0.005130676608106177\n"
     ]
    }
   ],
   "source": [
    "for k, v in eig_vals.items():\n",
    "    print('{}: {}'.format(k, spectral_gap(v['adj'])))"
   ]
  },
  {
   "cell_type": "code",
   "execution_count": 212,
   "metadata": {},
   "outputs": [
    {
     "data": {
      "text/plain": [
       "{'dolphins': 1.612029197614354,\n",
       " 'grqc': 618.2297090129925,\n",
       " 'infectious': 28.7727592585828,\n",
       " 'karate': 1.2159525100083168,\n",
       " 'lattice-1024': -56.10816632938739,\n",
       " 'p2p': -80.2691910803632}"
      ]
     },
     "execution_count": 212,
     "metadata": {},
     "output_type": "execute_result"
    }
   ],
   "source": [
    "{k: relative_non_randomess(v['g'], v['adj'], 2) for k, v in eig_vals.items()}"
   ]
  },
  {
   "cell_type": "code",
   "execution_count": 220,
   "metadata": {},
   "outputs": [
    {
     "data": {
      "text/plain": [
       "{'dolphins': 0.330621919266615,\n",
       " 'grqc': 571.5544389347444,\n",
       " 'infectious': 24.529948692170358,\n",
       " 'karate': -6.7516753103493405,\n",
       " 'lattice-1024': -41.03098729443478,\n",
       " 'p2p': -217.85710389867603}"
      ]
     },
     "execution_count": 220,
     "metadata": {},
     "output_type": "execute_result"
    }
   ],
   "source": [
    "{k: relative_non_randomess(v['g'], v['adj'], 3) for k, v in eig_vals.items()}"
   ]
  },
  {
   "cell_type": "code",
   "execution_count": 218,
   "metadata": {},
   "outputs": [
    {
     "data": {
      "text/plain": [
       "{'dolphins': -6.813283496909035,\n",
       " 'grqc': 416.7957200918325,\n",
       " 'infectious': 14.738173333566154,\n",
       " 'karate': -54.024005393298744,\n",
       " 'lattice-1024': -41.02493614236949,\n",
       " 'p2p': -142.83128897341496}"
      ]
     },
     "execution_count": 218,
     "metadata": {},
     "output_type": "execute_result"
    }
   ],
   "source": [
    "{k: relative_non_randomess(v['g'], v['adj'], 6) for k, v in eig_vals.items()}"
   ]
  },
  {
   "cell_type": "code",
   "execution_count": 199,
   "metadata": {},
   "outputs": [],
   "source": []
  },
  {
   "cell_type": "code",
   "execution_count": 194,
   "metadata": {},
   "outputs": [
    {
     "data": {
      "text/plain": [
       "(21.591836734693878, 0.8060578635972041)"
      ]
     },
     "execution_count": 194,
     "metadata": {},
     "output_type": "execute_result"
    }
   ],
   "source": [
    "rand_g = random_graph(100, lambda: 10, directed=False)\n",
    "mean_var_ER(rand_g, 2)"
   ]
  },
  {
   "cell_type": "code",
   "execution_count": 195,
   "metadata": {},
   "outputs": [],
   "source": []
  },
  {
   "cell_type": "code",
   "execution_count": 207,
   "metadata": {},
   "outputs": [],
   "source": [
    "def regular_measure(g, k):\n",
    "    n = g.num_vertices()\n",
    "    m = g.num_edges()\n",
    "    p = 2 * k * m / n / (n - k)   \n",
    "    return - k / (2 * k * p * (1 - p))"
   ]
  },
  {
   "cell_type": "code",
   "execution_count": 208,
   "metadata": {},
   "outputs": [
    {
     "data": {
      "text/plain": [
       "-239.14662038840012"
      ]
     },
     "execution_count": 208,
     "metadata": {},
     "output_type": "execute_result"
    }
   ],
   "source": [
    "regular_measure(eig_vals['p2p']['g'], k=2)"
   ]
  }
 ],
 "metadata": {
  "kernelspec": {
   "display_name": "Python 3",
   "language": "python",
   "name": "python3"
  },
  "language_info": {
   "codemirror_mode": {
    "name": "ipython",
    "version": 3
   },
   "file_extension": ".py",
   "mimetype": "text/x-python",
   "name": "python",
   "nbconvert_exporter": "python",
   "pygments_lexer": "ipython3",
   "version": "3.5.2"
  }
 },
 "nbformat": 4,
 "nbformat_minor": 2
}
