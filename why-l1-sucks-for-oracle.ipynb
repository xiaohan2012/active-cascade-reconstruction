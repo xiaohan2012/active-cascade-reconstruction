{
 "cells": [
  {
   "cell_type": "code",
   "execution_count": 17,
   "metadata": {},
   "outputs": [],
   "source": [
    "%matplotlib inline"
   ]
  },
  {
   "cell_type": "code",
   "execution_count": 147,
   "metadata": {},
   "outputs": [],
   "source": [
    "import os\n",
    "import numpy as np\n",
    "import pickle as pkl\n",
    "import pandas as pd\n",
    "\n",
    "from matplotlib import pyplot as plt\n",
    "from collections import defaultdict\n",
    "\n",
    "from helpers import infected_nodes, cascade_source\n",
    "from eval_helpers import get_scores_by_queries\n"
   ]
  },
  {
   "cell_type": "code",
   "execution_count": 3,
   "metadata": {},
   "outputs": [],
   "source": [
    "graph = 'grqc-sto'\n",
    "graph_suffix = '_rev'\n",
    "num_queries_to_show = 5\n",
    "sampling_method = 'loop_erased'\n",
    "obs_frac = \"0.2\"\n",
    "cascade_fraction = \"0.025\"\n",
    "obs_method = 'uniform'\n",
    "cascade_model = 'ic'\n",
    "dataset_id = '{}-m{}-s{}-o{}-om{}'.format(graph, cascade_model, cascade_fraction, obs_frac, obs_method)\n",
    "cascade_dir = 'cascade-weighted/{}'.format(dataset_id)\n",
    "fig_dirname = 'figs/inspect-query-process/{}'.format(dataset_id)\n",
    "\n",
    "query_dir = 'outputs/queries-weighted/{}/{}/'.format(dataset_id, sampling_method)\n",
    "probas_dir = 'outputs/inf_probas-weighted/{}/{}/'.format(dataset_id, sampling_method)\n",
    "cascade_id = 0\n",
    "\n",
    "if not os.path.exists(fig_dirname):\n",
    "    os.makedirs(fig_dirname)"
   ]
  },
  {
   "cell_type": "code",
   "execution_count": 7,
   "metadata": {},
   "outputs": [],
   "source": [
    "query_method = 'oracle-l'"
   ]
  },
  {
   "cell_type": "code",
   "execution_count": 12,
   "metadata": {},
   "outputs": [
    {
     "name": "stdout",
     "output_type": "stream",
     "text": [
      "cascade size 105\n"
     ]
    }
   ],
   "source": [
    "obs, c = pkl.load(open('{}/{}.pkl'.format(cascade_dir, cascade_id), 'rb'))[:2]\n",
    "inf_nodes = infected_nodes(c)\n",
    "source = cascade_source(c)\n",
    "print('cascade size', len(infected_nodes(c)))"
   ]
  },
  {
   "cell_type": "code",
   "execution_count": 26,
   "metadata": {},
   "outputs": [],
   "source": [
    "inf_probas = pkl.load(open(os.path.join(probas_dir, query_method, '0.pkl'), 'rb'))\n",
    "qs, _ = pkl.load(open(os.path.join(query_dir, query_method, '0.pkl'), 'rb'))"
   ]
  },
  {
   "cell_type": "code",
   "execution_count": 84,
   "metadata": {},
   "outputs": [],
   "source": [
    "score_list = defaultdict(list)\n"
   ]
  },
  {
   "cell_type": "code",
   "execution_count": 85,
   "metadata": {},
   "outputs": [
    {
     "data": {
      "image/png": "[encoded data removed]",
      "text/plain": [
       "<matplotlib.figure.Figure at 0x7f0ae03d00f0>"
      ]
     },
     "metadata": {},
     "output_type": "display_data"
    }
   ],
   "source": [
    "ax = plt.subplot()\n",
    "eval_method = 'l1'\n",
    "total_scores = {}\n",
    "\n",
    "for eval_method in ['l1', 'l2']:\n",
    "    def record_node_scores(scores):\n",
    "        global score_list\n",
    "        score_list[eval_method].append(scores) \n",
    "    scores = get_scores_by_queries(qs, inf_probas, c, obs, eval_method=eval_method,\n",
    "                                   every=5,\n",
    "                                   eval_with_mask=False,\n",
    "                                   node_score_callback=record_node_scores)\n",
    "    total_scores[eval_method] = scores\n",
    "    ax.plot(scores)"
   ]
  },
  {
   "cell_type": "code",
   "execution_count": 86,
   "metadata": {},
   "outputs": [],
   "source": [
    "l1, l2 = score_list['l1'], score_list['l2']"
   ]
  },
  {
   "cell_type": "code",
   "execution_count": 87,
   "metadata": {},
   "outputs": [
    {
     "data": {
      "text/plain": [
       "(array([0.   , 0.057, 0.004, ..., 0.   , 0.027, 0.   ]),\n",
       " array([0.000e+00, 3.249e-03, 1.600e-05, ..., 0.000e+00, 7.290e-04,\n",
       "        0.000e+00]))"
      ]
     },
     "execution_count": 87,
     "metadata": {},
     "output_type": "execute_result"
    }
   ],
   "source": [
    "l1[0], l2[0]"
   ]
  },
  {
   "cell_type": "code",
   "execution_count": 88,
   "metadata": {},
   "outputs": [
    {
     "data": {
      "text/plain": [
       "count    4158.000000\n",
       "mean        0.050601\n",
       "std         0.126988\n",
       "min         0.000000\n",
       "25%         0.000000\n",
       "50%         0.011000\n",
       "75%         0.043000\n",
       "max         1.000000\n",
       "dtype: float64"
      ]
     },
     "execution_count": 88,
     "metadata": {},
     "output_type": "execute_result"
    }
   ],
   "source": [
    "pd.Series(l1[0]).describe()"
   ]
  },
  {
   "cell_type": "code",
   "execution_count": 89,
   "metadata": {},
   "outputs": [
    {
     "data": {
      "text/plain": [
       "count    4158.000000\n",
       "mean        0.052935\n",
       "std         0.100086\n",
       "min         0.000000\n",
       "25%         0.000000\n",
       "50%         0.014000\n",
       "75%         0.055000\n",
       "max         0.808000\n",
       "dtype: float64"
      ]
     },
     "execution_count": 89,
     "metadata": {},
     "output_type": "execute_result"
    }
   ],
   "source": [
    "pd.Series(l1[-1]).describe()"
   ]
  },
  {
   "cell_type": "code",
   "execution_count": 90,
   "metadata": {},
   "outputs": [
    {
     "data": {
      "text/plain": [
       "count    4158.000000\n",
       "mean        0.018683\n",
       "std         0.104051\n",
       "min         0.000000\n",
       "25%         0.000000\n",
       "50%         0.000121\n",
       "75%         0.001849\n",
       "max         1.000000\n",
       "dtype: float64"
      ]
     },
     "execution_count": 90,
     "metadata": {},
     "output_type": "execute_result"
    }
   ],
   "source": [
    "pd.Series(l2[0]).describe()"
   ]
  },
  {
   "cell_type": "code",
   "execution_count": 91,
   "metadata": {},
   "outputs": [
    {
     "data": {
      "text/plain": [
       "count    4158.000000\n",
       "mean        0.012817\n",
       "std         0.047672\n",
       "min         0.000000\n",
       "25%         0.000000\n",
       "50%         0.000196\n",
       "75%         0.003025\n",
       "max         0.652864\n",
       "dtype: float64"
      ]
     },
     "execution_count": 91,
     "metadata": {},
     "output_type": "execute_result"
    }
   ],
   "source": [
    "pd.Series(l2[-1]).describe()"
   ]
  },
  {
   "cell_type": "code",
   "execution_count": 92,
   "metadata": {},
   "outputs": [
    {
     "data": {
      "text/plain": [
       "(array([3949., 4051., 4088., 4113., 4135., 4143., 4151., 4154., 4156.,\n",
       "        4158.]),\n",
       " array([0.       , 0.0652864, 0.1305728, 0.1958592, 0.2611456, 0.326432 ,\n",
       "        0.3917184, 0.4570048, 0.5222912, 0.5875776, 0.652864 ]),\n",
       " <a list of 10 Patch objects>)"
      ]
     },
     "execution_count": 92,
     "metadata": {},
     "output_type": "execute_result"
    },
    {
     "data": {
      "image/png": "[encoded data removed]",
      "text/plain": [
       "<matplotlib.figure.Figure at 0x7f0ae0409a58>"
      ]
     },
     "metadata": {},
     "output_type": "display_data"
    }
   ],
   "source": [
    "plt.hist(l2[-1], cumulative=True)"
   ]
  },
  {
   "cell_type": "code",
   "execution_count": 93,
   "metadata": {},
   "outputs": [
    {
     "data": {
      "text/plain": [
       "(array([3334., 3783., 3936., 4006., 4069., 4101., 4134., 4149., 4154.,\n",
       "        4158.]),\n",
       " array([0.    , 0.0808, 0.1616, 0.2424, 0.3232, 0.404 , 0.4848, 0.5656,\n",
       "        0.6464, 0.7272, 0.808 ]),\n",
       " <a list of 10 Patch objects>)"
      ]
     },
     "execution_count": 93,
     "metadata": {},
     "output_type": "execute_result"
    },
    {
     "data": {
      "image/png": "[encoded data removed]",
      "text/plain": [
       "<matplotlib.figure.Figure at 0x7f0ae028ae10>"
      ]
     },
     "metadata": {},
     "output_type": "display_data"
    }
   ],
   "source": [
    "plt.hist(l1[-1], cumulative=True)"
   ]
  },
  {
   "cell_type": "code",
   "execution_count": 94,
   "metadata": {},
   "outputs": [
    {
     "data": {
      "text/plain": [
       "[array([0.   , 0.059, 0.003, ..., 0.   , 0.028, 0.   ]),\n",
       " array([0.   , 0.058, 0.002, ..., 0.   , 0.035, 0.   ])]"
      ]
     },
     "execution_count": 94,
     "metadata": {},
     "output_type": "execute_result"
    }
   ],
   "source": [
    "l1[2:4]"
   ]
  },
  {
   "cell_type": "code",
   "execution_count": 95,
   "metadata": {},
   "outputs": [
    {
     "name": "stdout",
     "output_type": "stream",
     "text": [
      "2\n",
      "203.75400000000002 205.019\n",
      "68.853498 65.823985\n"
     ]
    }
   ],
   "source": [
    "for k in range(10):\n",
    "    l11, l12 = total_scores['l1'][k:k+2]\n",
    "    l21, l22 = total_scores['l2'][k:k+2]\n",
    "    if l11 < l12 and l21> l22:\n",
    "        print(k)\n",
    "        print(l11, l12)\n",
    "        print(l21, l22)\n",
    "        break"
   ]
  },
  {
   "cell_type": "code",
   "execution_count": 96,
   "metadata": {},
   "outputs": [],
   "source": [
    "l11, l12 = l1[k], l1[k+1]\n",
    "l21, l22 = l2[k], l2[k+1]"
   ]
  },
  {
   "cell_type": "code",
   "execution_count": 102,
   "metadata": {},
   "outputs": [],
   "source": [
    "d1 = (l12 - l11)"
   ]
  },
  {
   "cell_type": "code",
   "execution_count": 103,
   "metadata": {},
   "outputs": [],
   "source": [
    "d2 = (l22 - l21)"
   ]
  },
  {
   "cell_type": "code",
   "execution_count": 127,
   "metadata": {},
   "outputs": [],
   "source": [
    "# pos/neg means we are improving/degrading the prediction\n",
    "\n",
    "d1_neg, d1_pos = d1[d1 > 0], d1[d1 < 0]\n",
    "d2_neg, d2_pos = d2[d2 > 0], d2[d2 < 0]"
   ]
  },
  {
   "cell_type": "code",
   "execution_count": 119,
   "metadata": {},
   "outputs": [],
   "source": [
    "assert d1_neg.shape == d2_neg.shape\n",
    "assert d1_pos.shape == d2_pos.shape"
   ]
  },
  {
   "cell_type": "code",
   "execution_count": 138,
   "metadata": {},
   "outputs": [
    {
     "data": {
      "text/plain": [
       "(-0.946, -1e-06)"
      ]
     },
     "execution_count": 138,
     "metadata": {},
     "output_type": "execute_result"
    }
   ],
   "source": [
    "d1_pos[d1_pos != -1].min(), d2_pos[d2_pos != 0].max()"
   ]
  },
  {
   "cell_type": "code",
   "execution_count": 133,
   "metadata": {},
   "outputs": [
    {
     "name": "stdout",
     "output_type": "stream",
     "text": [
      "d1 pos/neg:  -11.622 12.887\n",
      "d2 pos/neg:  -6.28328 3.253767\n"
     ]
    }
   ],
   "source": [
    "print('d1 pos/neg: ', d1_pos.sum(), d1_neg.sum())\n",
    "print('d2 pos/neg: ', d2_pos.sum(), d2_neg.sum())"
   ]
  },
  {
   "cell_type": "code",
   "execution_count": 225,
   "metadata": {},
   "outputs": [
    {
     "name": "stdout",
     "output_type": "stream",
     "text": [
      "k= 1\n",
      "num. positively learned vertices 1369\n",
      "num. negatively learned vertices 1267\n",
      "\n",
      "k= 2\n",
      "num. positively learned vertices 1288\n",
      "num. negatively learned vertices 1348\n",
      "\n",
      "k= 3\n",
      "num. positively learned vertices 1154\n",
      "num. negatively learned vertices 1482\n",
      "\n",
      "k= 4\n",
      "num. positively learned vertices 1067\n",
      "num. negatively learned vertices 1569\n",
      "\n",
      "k= 5\n",
      "num. positively learned vertices 1067\n",
      "num. negatively learned vertices 1569\n",
      "\n",
      "k= -1\n",
      "num. positively learned vertices 433\n",
      "num. negatively learned vertices 2203\n",
      "\n"
     ]
    }
   ],
   "source": [
    "columns = ('l1(k=0)', 'l2(k=0)', 'l1(k=-1)', 'l2(k=1)')\n",
    "for k in [1, 2, 3, 4, 5, -1]:\n",
    "    df = pd.DataFrame(list(zip(l1[0], l2[0], l1[k], l2[k])), columns=columns)\n",
    "    df = df[df['l1(k=0)'] > 0]\n",
    "    print('k=', k)\n",
    "    # number of nodes that have better prediction\n",
    "    print('num. positively learned vertices', df[df['l1(k=0)'] >= df['l1(k=-1)']].shape[0])\n",
    "    # number of nodes that have worse prediction\n",
    "    print('num. negatively learned vertices', df[df['l1(k=0)'] < df['l1(k=-1)']].shape[0])\n",
    "    print('')"
   ]
  },
  {
   "cell_type": "code",
   "execution_count": 217,
   "metadata": {},
   "outputs": [],
   "source": [
    "d1 = l1[1] - l1[0]"
   ]
  },
  {
   "cell_type": "code",
   "execution_count": 218,
   "metadata": {},
   "outputs": [],
   "source": [
    "final_obs = set(obs) | set(qs)"
   ]
  },
  {
   "cell_type": "code",
   "execution_count": 219,
   "metadata": {},
   "outputs": [],
   "source": [
    "pos_learned_nodes = set(np.nonzero(d1 < 0)[0])\n",
    "neg_learned_nodes = set(np.nonzero(d1 > 0)[0])"
   ]
  },
  {
   "cell_type": "code",
   "execution_count": 220,
   "metadata": {},
   "outputs": [
    {
     "data": {
      "text/plain": [
       "(1196, 1277)"
      ]
     },
     "execution_count": 220,
     "metadata": {},
     "output_type": "execute_result"
    }
   ],
   "source": [
    "len(pos_learned_nodes), len(neg_learned_nodes)"
   ]
  },
  {
   "cell_type": "code",
   "execution_count": 215,
   "metadata": {},
   "outputs": [
    {
     "data": {
      "text/plain": [
       "78"
      ]
     },
     "execution_count": 215,
     "metadata": {},
     "output_type": "execute_result"
    }
   ],
   "source": [
    "len(set(inf_nodes) & pos_learned_nodes)"
   ]
  }
 ],
 "metadata": {
  "kernelspec": {
   "display_name": "Python 3",
   "language": "python",
   "name": "python3"
  },
  "language_info": {
   "codemirror_mode": {
    "name": "ipython",
    "version": 3
   },
   "file_extension": ".py",
   "mimetype": "text/x-python",
   "name": "python",
   "nbconvert_exporter": "python",
   "pygments_lexer": "ipython3",
   "version": "3.5.2"
  }
 },
 "nbformat": 4,
 "nbformat_minor": 2
}
